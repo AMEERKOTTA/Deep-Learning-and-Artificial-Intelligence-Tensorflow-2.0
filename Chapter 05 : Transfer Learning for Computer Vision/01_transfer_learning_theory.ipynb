{
  "nbformat": 4,
  "nbformat_minor": 0,
  "metadata": {
    "colab": {
      "provenance": [],
      "authorship_tag": "ABX9TyN7Knpw1Wuo17knpntW45zr",
      "include_colab_link": true
    },
    "kernelspec": {
      "name": "python3",
      "display_name": "Python 3"
    },
    "language_info": {
      "name": "python"
    }
  },
  "cells": [
    {
      "cell_type": "markdown",
      "metadata": {
        "id": "view-in-github",
        "colab_type": "text"
      },
      "source": [
        "<a href=\"https://colab.research.google.com/github/AMEERKOTTA/Deep-Learning-and-Artificial-Intelligence-Tensorflow-2.0/blob/main/Chapter%2005%20%3A%20Transfer%20Learning%20for%20Computer%20Vision/01_transfer_learning_theory.ipynb\" target=\"_parent\"><img src=\"https://colab.research.google.com/assets/colab-badge.svg\" alt=\"Open In Colab\"/></a>"
      ]
    },
    {
      "cell_type": "markdown",
      "source": [
        "# **TRANSFER LEARINING THEORY**\n",
        "\n",
        "MAIN IDEA :- The features I found from one task may be useful for another tasks.\n",
        "\n",
        "+ Transfer Learning took off the field of Computer Vision.\n",
        "+ ImageNet :- Large Scale Image dataset. (millions of images, 1000 Categories).\n",
        "+ Because the dataset is so diverse, weights trained on this dataset can be applied to a large number of vision tasks.\n",
        "    + Cats vs Dogs CLassification.\n",
        "    + Cars vs Trucks.\n",
        "\n",
        "*TRAINING ON IMAGENET*\n",
        "\n",
        "+ Its not feasible to train on ImageNet ourselves.\n",
        "+ Old days, training used to take days, weeks or even months.\n",
        "+ Now we can do it in minutes, using multi GPU clusters etc.\n",
        "+ The major CNNs which have won past ImageNet Contests have publicly released pretrained weights.\n",
        "+ they are already included in the Tensorflow/keras.\n",
        "\n",
        "*TRANSFER LEARNING*\n",
        "\n",
        "+ Chop of the Head and Add new Head.\n",
        "+ The new head can be Logistic Regression or another ANN.\n",
        "+ Cars vs Truck may use Logistic Regression with Sigmoid for Binary Classification.\n",
        "+ Its done by Freezing the Body and train only the newly added Head.\n",
        "\n",
        "\n",
        "*ADVANTAGES OF TRANSFER LEARNING*\n",
        "\n",
        "+ Dont need a lot of Data to build a state of art model.\n",
        "+ With Transfer Learning, the work has been already done for us.\n",
        "+ Earlier features were already trained on lot of data (ImageNet).\n",
        "+ `Small Dataset + lot less weights help us train Fast.`\n",
        "\n",
        "***"
      ],
      "metadata": {
        "id": "UmfnBXwz18vz"
      }
    }
  ]
}