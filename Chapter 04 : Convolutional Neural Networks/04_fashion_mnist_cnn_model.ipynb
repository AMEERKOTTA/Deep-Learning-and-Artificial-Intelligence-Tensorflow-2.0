{
  "nbformat": 4,
  "nbformat_minor": 0,
  "metadata": {
    "colab": {
      "provenance": [],
      "authorship_tag": "ABX9TyMrOdCTyJRn0TDmul/qZkTS",
      "include_colab_link": true
    },
    "kernelspec": {
      "name": "python3",
      "display_name": "Python 3"
    },
    "language_info": {
      "name": "python"
    },
    "accelerator": "GPU",
    "gpuClass": "standard"
  },
  "cells": [
    {
      "cell_type": "markdown",
      "metadata": {
        "id": "view-in-github",
        "colab_type": "text"
      },
      "source": [
        "<a href=\"https://colab.research.google.com/github/AMEERKOTTA/Deep-Learning-and-Artificial-Intelligence-Tensorflow-2.0/blob/main/Chapter%2004%20%3A%20Convolutional%20Neural%20Networks/04_fashion_mnist_cnn_model.ipynb\" target=\"_parent\"><img src=\"https://colab.research.google.com/assets/colab-badge.svg\" alt=\"Open In Colab\"/></a>"
      ]
    },
    {
      "cell_type": "markdown",
      "source": [
        "# **FASHION MNIST CNN MODEL**"
      ],
      "metadata": {
        "id": "eomvxUzB2QFE"
      }
    },
    {
      "cell_type": "markdown",
      "source": [
        "IMPORT LIBRARIES"
      ],
      "metadata": {
        "id": "dcmp15Pz2Wp7"
      }
    },
    {
      "cell_type": "code",
      "source": [
        "import tensorflow as tf\n",
        "from tensorflow import keras\n",
        "import numpy as np\n",
        "import matplotlib.pyplot as plt\n",
        "from tensorflow.keras.layers import Input, Conv2D, Dense, Flatten, Dropout\n",
        "from tensorflow.keras.models import Model"
      ],
      "metadata": {
        "id": "puHarYsS2Vac"
      },
      "execution_count": 2,
      "outputs": []
    },
    {
      "cell_type": "markdown",
      "source": [
        "LOAD THE DATA"
      ],
      "metadata": {
        "id": "dpBfOYaa20Vm"
      }
    },
    {
      "cell_type": "code",
      "source": [
        "fashion_mnist = tf.keras.datasets.fashion_mnist\n",
        "(train_images, train_labels), (test_images, test_labels) = fashion_mnist.load_data()\n",
        "## standardize the training and testing data.\n",
        "train_images, test_images = train_images / 255, test_images / 255\n",
        "\n",
        "print(\"Training Images Shape :--\", train_images.shape)\n",
        "print(\"Training Labels Shape :--\", train_labels.shape)\n",
        "print(\"Testing Images Shape :--\", test_images.shape)\n",
        "print(\"Testing Labels Shape :--\", test_labels.shape)"
      ],
      "metadata": {
        "colab": {
          "base_uri": "https://localhost:8080/"
        },
        "id": "aM8SLQfK2zQB",
        "outputId": "3623b5ac-71ef-42b7-bcd8-76fda65f7a2c"
      },
      "execution_count": 3,
      "outputs": [
        {
          "output_type": "stream",
          "name": "stdout",
          "text": [
            "Downloading data from https://storage.googleapis.com/tensorflow/tf-keras-datasets/train-labels-idx1-ubyte.gz\n",
            "29515/29515 [==============================] - 0s 0us/step\n",
            "Downloading data from https://storage.googleapis.com/tensorflow/tf-keras-datasets/train-images-idx3-ubyte.gz\n",
            "26421880/26421880 [==============================] - 0s 0us/step\n",
            "Downloading data from https://storage.googleapis.com/tensorflow/tf-keras-datasets/t10k-labels-idx1-ubyte.gz\n",
            "5148/5148 [==============================] - 0s 0us/step\n",
            "Downloading data from https://storage.googleapis.com/tensorflow/tf-keras-datasets/t10k-images-idx3-ubyte.gz\n",
            "4422102/4422102 [==============================] - 0s 0us/step\n",
            "Training Images Shape :-- (60000, 28, 28)\n",
            "Training Labels Shape :-- (60000,)\n",
            "Testing Images Shape :-- (10000, 28, 28)\n",
            "Testing Labels Shape :-- (10000,)\n"
          ]
        }
      ]
    },
    {
      "cell_type": "markdown",
      "source": [
        "EXPAND THE DIMENSIONS"
      ],
      "metadata": {
        "id": "ITZYH2Uy4UnP"
      }
    },
    {
      "cell_type": "code",
      "source": [
        "## cnn expects the shape [N x H x W x C]\n",
        "## so expanding the dimensions.\n",
        "train_images = np.expand_dims(train_images, -1)\n",
        "test_images = np.expand_dims(test_images, -1)\n",
        "\n",
        "print(\"Training Images Shape :--\", train_images.shape)\n",
        "print(\"Testing Images Shape :--\", test_images.shape)"
      ],
      "metadata": {
        "colab": {
          "base_uri": "https://localhost:8080/"
        },
        "id": "SvZjy78R3pLQ",
        "outputId": "e02b6d66-3e28-4237-a0b6-9eedf6d9d08d"
      },
      "execution_count": 4,
      "outputs": [
        {
          "output_type": "stream",
          "name": "stdout",
          "text": [
            "Training Images Shape :-- (60000, 28, 28, 1)\n",
            "Testing Images Shape :-- (10000, 28, 28, 1)\n"
          ]
        }
      ]
    },
    {
      "cell_type": "markdown",
      "source": [
        "CHECK FOR THE NUMBER OF CLASSES"
      ],
      "metadata": {
        "id": "FP7PagKW5Ezh"
      }
    },
    {
      "cell_type": "code",
      "source": [
        "k = len(set(train_labels))\n",
        "print(\"Number of Classes :--\", k)"
      ],
      "metadata": {
        "colab": {
          "base_uri": "https://localhost:8080/"
        },
        "id": "Y26nK4NG43kJ",
        "outputId": "45127764-40bf-4f24-8f7c-c6ffcce73468"
      },
      "execution_count": 5,
      "outputs": [
        {
          "output_type": "stream",
          "name": "stdout",
          "text": [
            "Number of Classes :-- 10\n"
          ]
        }
      ]
    },
    {
      "cell_type": "markdown",
      "source": [
        "BUILD THE MODEL"
      ],
      "metadata": {
        "id": "230PRtEI5WaU"
      }
    },
    {
      "cell_type": "code",
      "source": [
        "from keras.api._v2.keras import activations\n",
        "## using the functional API\n",
        "i = Input(shape = train_images[0].shape)  ## (28, 28, 1)\n",
        "x = Conv2D(32, (3,3), strides = 2, activation = \"relu\")(i)\n",
        "x = Conv2D(64, (3,3), strides = 2, activation = \"relu\")(x)\n",
        "x = Conv2D(128, (3,3), strides = 2, activation = \"relu\")(x)\n",
        "x = Flatten()(x)\n",
        "x = Dropout(0.2)(x)\n",
        "x = Dense(512, activation = \"relu\")(x)\n",
        "x = Dropout(0.2)(x)\n",
        "x = Dense(k, activation = \"softmax\")(x)\n",
        "\n",
        "model = Model(i, x)\n",
        "model.summary()"
      ],
      "metadata": {
        "colab": {
          "base_uri": "https://localhost:8080/"
        },
        "id": "8zqkOlPj5P6a",
        "outputId": "5b93c7c3-cfdc-4946-d149-dda4d97d7628"
      },
      "execution_count": 6,
      "outputs": [
        {
          "output_type": "stream",
          "name": "stdout",
          "text": [
            "Model: \"model\"\n",
            "_________________________________________________________________\n",
            " Layer (type)                Output Shape              Param #   \n",
            "=================================================================\n",
            " input_1 (InputLayer)        [(None, 28, 28, 1)]       0         \n",
            "                                                                 \n",
            " conv2d (Conv2D)             (None, 13, 13, 32)        320       \n",
            "                                                                 \n",
            " conv2d_1 (Conv2D)           (None, 6, 6, 64)          18496     \n",
            "                                                                 \n",
            " conv2d_2 (Conv2D)           (None, 2, 2, 128)         73856     \n",
            "                                                                 \n",
            " flatten (Flatten)           (None, 512)               0         \n",
            "                                                                 \n",
            " dropout (Dropout)           (None, 512)               0         \n",
            "                                                                 \n",
            " dense (Dense)               (None, 512)               262656    \n",
            "                                                                 \n",
            " dropout_1 (Dropout)         (None, 512)               0         \n",
            "                                                                 \n",
            " dense_1 (Dense)             (None, 10)                5130      \n",
            "                                                                 \n",
            "=================================================================\n",
            "Total params: 360,458\n",
            "Trainable params: 360,458\n",
            "Non-trainable params: 0\n",
            "_________________________________________________________________\n"
          ]
        }
      ]
    },
    {
      "cell_type": "markdown",
      "source": [
        "COMPILE AND FIT THE MODEL"
      ],
      "metadata": {
        "id": "p0o_te3p8BcL"
      }
    },
    {
      "cell_type": "code",
      "source": [
        "## compile the model\n",
        "model.compile(\n",
        "    optimizer = \"adam\",\n",
        "    loss = \"sparse_categorical_crossentropy\",\n",
        "    metrics = [\"accuracy\"]\n",
        ")"
      ],
      "metadata": {
        "id": "lGUDqk007Tus"
      },
      "execution_count": 7,
      "outputs": []
    },
    {
      "cell_type": "code",
      "source": [
        "## fit the model\n",
        "r = model.fit(train_images, train_labels,\n",
        "              validation_data = (test_images, test_labels),\n",
        "              epochs = 50)"
      ],
      "metadata": {
        "colab": {
          "base_uri": "https://localhost:8080/"
        },
        "id": "Kig49H4l8P17",
        "outputId": "5ace765e-9d5b-412b-a76f-ef02a7ef7be7"
      },
      "execution_count": 8,
      "outputs": [
        {
          "output_type": "stream",
          "name": "stdout",
          "text": [
            "Epoch 1/50\n",
            "1875/1875 [==============================] - 19s 5ms/step - loss: 0.5221 - accuracy: 0.8056 - val_loss: 0.4026 - val_accuracy: 0.8499\n",
            "Epoch 2/50\n",
            "1875/1875 [==============================] - 10s 5ms/step - loss: 0.3606 - accuracy: 0.8643 - val_loss: 0.3418 - val_accuracy: 0.8757\n",
            "Epoch 3/50\n",
            "1875/1875 [==============================] - 9s 5ms/step - loss: 0.3101 - accuracy: 0.8827 - val_loss: 0.3183 - val_accuracy: 0.8873\n",
            "Epoch 4/50\n",
            "1875/1875 [==============================] - 9s 5ms/step - loss: 0.2776 - accuracy: 0.8948 - val_loss: 0.3107 - val_accuracy: 0.8885\n",
            "Epoch 5/50\n",
            "1875/1875 [==============================] - 9s 5ms/step - loss: 0.2522 - accuracy: 0.9046 - val_loss: 0.2960 - val_accuracy: 0.8927\n",
            "Epoch 6/50\n",
            "1875/1875 [==============================] - 9s 5ms/step - loss: 0.2330 - accuracy: 0.9124 - val_loss: 0.2943 - val_accuracy: 0.8948\n",
            "Epoch 7/50\n",
            "1875/1875 [==============================] - 10s 5ms/step - loss: 0.2141 - accuracy: 0.9181 - val_loss: 0.3121 - val_accuracy: 0.8882\n",
            "Epoch 8/50\n",
            "1875/1875 [==============================] - 9s 5ms/step - loss: 0.1991 - accuracy: 0.9243 - val_loss: 0.3012 - val_accuracy: 0.8931\n",
            "Epoch 9/50\n",
            "1875/1875 [==============================] - 9s 5ms/step - loss: 0.1844 - accuracy: 0.9298 - val_loss: 0.3068 - val_accuracy: 0.8941\n",
            "Epoch 10/50\n",
            "1875/1875 [==============================] - 9s 5ms/step - loss: 0.1717 - accuracy: 0.9347 - val_loss: 0.3190 - val_accuracy: 0.8967\n",
            "Epoch 11/50\n",
            "1875/1875 [==============================] - 9s 5ms/step - loss: 0.1591 - accuracy: 0.9386 - val_loss: 0.3382 - val_accuracy: 0.8956\n",
            "Epoch 12/50\n",
            "1875/1875 [==============================] - 9s 5ms/step - loss: 0.1488 - accuracy: 0.9426 - val_loss: 0.3392 - val_accuracy: 0.8986\n",
            "Epoch 13/50\n",
            "1875/1875 [==============================] - 9s 5ms/step - loss: 0.1404 - accuracy: 0.9465 - val_loss: 0.3514 - val_accuracy: 0.9031\n",
            "Epoch 14/50\n",
            "1875/1875 [==============================] - 9s 5ms/step - loss: 0.1379 - accuracy: 0.9472 - val_loss: 0.3446 - val_accuracy: 0.8979\n",
            "Epoch 15/50\n",
            "1875/1875 [==============================] - 8s 4ms/step - loss: 0.1268 - accuracy: 0.9524 - val_loss: 0.3845 - val_accuracy: 0.8977\n",
            "Epoch 16/50\n",
            "1875/1875 [==============================] - 9s 5ms/step - loss: 0.1193 - accuracy: 0.9552 - val_loss: 0.3812 - val_accuracy: 0.9007\n",
            "Epoch 17/50\n",
            "1875/1875 [==============================] - 9s 5ms/step - loss: 0.1187 - accuracy: 0.9552 - val_loss: 0.3942 - val_accuracy: 0.9017\n",
            "Epoch 18/50\n",
            "1875/1875 [==============================] - 9s 5ms/step - loss: 0.1125 - accuracy: 0.9578 - val_loss: 0.3724 - val_accuracy: 0.9023\n",
            "Epoch 19/50\n",
            "1875/1875 [==============================] - 9s 5ms/step - loss: 0.1087 - accuracy: 0.9583 - val_loss: 0.4164 - val_accuracy: 0.9007\n",
            "Epoch 20/50\n",
            "1875/1875 [==============================] - 9s 5ms/step - loss: 0.1038 - accuracy: 0.9610 - val_loss: 0.4154 - val_accuracy: 0.8993\n",
            "Epoch 21/50\n",
            "1875/1875 [==============================] - 9s 5ms/step - loss: 0.1009 - accuracy: 0.9616 - val_loss: 0.4230 - val_accuracy: 0.9018\n",
            "Epoch 22/50\n",
            "1875/1875 [==============================] - 9s 5ms/step - loss: 0.0981 - accuracy: 0.9631 - val_loss: 0.4294 - val_accuracy: 0.8981\n",
            "Epoch 23/50\n",
            "1875/1875 [==============================] - 9s 5ms/step - loss: 0.0956 - accuracy: 0.9640 - val_loss: 0.4481 - val_accuracy: 0.9012\n",
            "Epoch 24/50\n",
            "1875/1875 [==============================] - 9s 5ms/step - loss: 0.0913 - accuracy: 0.9657 - val_loss: 0.4274 - val_accuracy: 0.9011\n",
            "Epoch 25/50\n",
            "1875/1875 [==============================] - 9s 5ms/step - loss: 0.0880 - accuracy: 0.9668 - val_loss: 0.4269 - val_accuracy: 0.8995\n",
            "Epoch 26/50\n",
            "1875/1875 [==============================] - 8s 4ms/step - loss: 0.0872 - accuracy: 0.9674 - val_loss: 0.4773 - val_accuracy: 0.9010\n",
            "Epoch 27/50\n",
            "1875/1875 [==============================] - 9s 5ms/step - loss: 0.0870 - accuracy: 0.9672 - val_loss: 0.4592 - val_accuracy: 0.8999\n",
            "Epoch 28/50\n",
            "1875/1875 [==============================] - 9s 5ms/step - loss: 0.0825 - accuracy: 0.9700 - val_loss: 0.4967 - val_accuracy: 0.8973\n",
            "Epoch 29/50\n",
            "1875/1875 [==============================] - 8s 4ms/step - loss: 0.0809 - accuracy: 0.9700 - val_loss: 0.4867 - val_accuracy: 0.8972\n",
            "Epoch 30/50\n",
            "1875/1875 [==============================] - 9s 5ms/step - loss: 0.0776 - accuracy: 0.9720 - val_loss: 0.5066 - val_accuracy: 0.9004\n",
            "Epoch 31/50\n",
            "1875/1875 [==============================] - 9s 5ms/step - loss: 0.0802 - accuracy: 0.9705 - val_loss: 0.5079 - val_accuracy: 0.8974\n",
            "Epoch 32/50\n",
            "1875/1875 [==============================] - 9s 5ms/step - loss: 0.0755 - accuracy: 0.9719 - val_loss: 0.5114 - val_accuracy: 0.8995\n",
            "Epoch 33/50\n",
            "1875/1875 [==============================] - 9s 5ms/step - loss: 0.0778 - accuracy: 0.9713 - val_loss: 0.5136 - val_accuracy: 0.8975\n",
            "Epoch 34/50\n",
            "1875/1875 [==============================] - 9s 5ms/step - loss: 0.0793 - accuracy: 0.9722 - val_loss: 0.5106 - val_accuracy: 0.9009\n",
            "Epoch 35/50\n",
            "1875/1875 [==============================] - 9s 5ms/step - loss: 0.0707 - accuracy: 0.9739 - val_loss: 0.5287 - val_accuracy: 0.9005\n",
            "Epoch 36/50\n",
            "1875/1875 [==============================] - 9s 5ms/step - loss: 0.0728 - accuracy: 0.9745 - val_loss: 0.5367 - val_accuracy: 0.8992\n",
            "Epoch 37/50\n",
            "1875/1875 [==============================] - 9s 5ms/step - loss: 0.0730 - accuracy: 0.9742 - val_loss: 0.5323 - val_accuracy: 0.9005\n",
            "Epoch 38/50\n",
            "1875/1875 [==============================] - 9s 5ms/step - loss: 0.0704 - accuracy: 0.9753 - val_loss: 0.5260 - val_accuracy: 0.8957\n",
            "Epoch 39/50\n",
            "1875/1875 [==============================] - 10s 5ms/step - loss: 0.0719 - accuracy: 0.9745 - val_loss: 0.5305 - val_accuracy: 0.9004\n",
            "Epoch 40/50\n",
            "1875/1875 [==============================] - 8s 4ms/step - loss: 0.0657 - accuracy: 0.9765 - val_loss: 0.5688 - val_accuracy: 0.8975\n",
            "Epoch 41/50\n",
            "1875/1875 [==============================] - 9s 5ms/step - loss: 0.0644 - accuracy: 0.9774 - val_loss: 0.5542 - val_accuracy: 0.9011\n",
            "Epoch 42/50\n",
            "1875/1875 [==============================] - 9s 5ms/step - loss: 0.0715 - accuracy: 0.9748 - val_loss: 0.5061 - val_accuracy: 0.9026\n",
            "Epoch 43/50\n",
            "1875/1875 [==============================] - 8s 5ms/step - loss: 0.0677 - accuracy: 0.9759 - val_loss: 0.5567 - val_accuracy: 0.8972\n",
            "Epoch 44/50\n",
            "1875/1875 [==============================] - 10s 5ms/step - loss: 0.0646 - accuracy: 0.9766 - val_loss: 0.6258 - val_accuracy: 0.8987\n",
            "Epoch 45/50\n",
            "1875/1875 [==============================] - 9s 5ms/step - loss: 0.0645 - accuracy: 0.9772 - val_loss: 0.5806 - val_accuracy: 0.8997\n",
            "Epoch 46/50\n",
            "1875/1875 [==============================] - 9s 5ms/step - loss: 0.0623 - accuracy: 0.9779 - val_loss: 0.5921 - val_accuracy: 0.8980\n",
            "Epoch 47/50\n",
            "1875/1875 [==============================] - 8s 4ms/step - loss: 0.0642 - accuracy: 0.9779 - val_loss: 0.5794 - val_accuracy: 0.8996\n",
            "Epoch 48/50\n",
            "1875/1875 [==============================] - 9s 5ms/step - loss: 0.0636 - accuracy: 0.9791 - val_loss: 0.6055 - val_accuracy: 0.9038\n",
            "Epoch 49/50\n",
            "1875/1875 [==============================] - 9s 5ms/step - loss: 0.0607 - accuracy: 0.9785 - val_loss: 0.6329 - val_accuracy: 0.9000\n",
            "Epoch 50/50\n",
            "1875/1875 [==============================] - 8s 4ms/step - loss: 0.0638 - accuracy: 0.9781 - val_loss: 0.5963 - val_accuracy: 0.8960\n"
          ]
        }
      ]
    },
    {
      "cell_type": "code",
      "source": [
        "## plotting the loss and accuracy graphs\n",
        "plt.plot(r.history[\"loss\"], label = \"Loss\")\n",
        "plt.plot(r.history[\"val_loss\"], label = \"Validation Loss\")\n",
        "plt.plot(r.history[\"accuracy\"], label = \"Accuracy\")\n",
        "plt.plot(r.history[\"val_accuracy\"], label = \"Validation Accuracy\")\n",
        "plt.legend();"
      ],
      "metadata": {
        "colab": {
          "base_uri": "https://localhost:8080/",
          "height": 265
        },
        "id": "62Ica2fu8bmr",
        "outputId": "a15e4605-1472-4356-ff1e-af15cd9c6963"
      },
      "execution_count": 9,
      "outputs": [
        {
          "output_type": "display_data",
          "data": {
            "text/plain": [
              "<Figure size 432x288 with 1 Axes>"
            ],
            "image/png": "[encoded data removed]"
          },
          "metadata": {
            "needs_background": "light"
          }
        }
      ]
    },
    {
      "cell_type": "markdown",
      "source": [
        "***"
      ],
      "metadata": {
        "id": "vIiZVT78AcSt"
      }
    }
  ]
}