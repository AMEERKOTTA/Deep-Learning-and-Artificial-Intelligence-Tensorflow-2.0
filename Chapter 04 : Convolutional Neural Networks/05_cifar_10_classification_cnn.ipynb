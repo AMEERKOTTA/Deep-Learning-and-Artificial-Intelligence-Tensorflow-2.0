{
  "nbformat": 4,
  "nbformat_minor": 0,
  "metadata": {
    "colab": {
      "provenance": [],
      "authorship_tag": "ABX9TyP6FbL3h4EA/h+lVGLCctww",
      "include_colab_link": true
    },
    "kernelspec": {
      "name": "python3",
      "display_name": "Python 3"
    },
    "language_info": {
      "name": "python"
    },
    "accelerator": "GPU",
    "gpuClass": "standard"
  },
  "cells": [
    {
      "cell_type": "markdown",
      "metadata": {
        "id": "view-in-github",
        "colab_type": "text"
      },
      "source": [
        "<a href=\"https://colab.research.google.com/github/AMEERKOTTA/Deep-Learning-and-Artificial-Intelligence-Tensorflow-2.0/blob/main/Chapter%2004%20%3A%20Convolutional%20Neural%20Networks/05_cifar_10_classification_cnn.ipynb\" target=\"_parent\"><img src=\"https://colab.research.google.com/assets/colab-badge.svg\" alt=\"Open In Colab\"/></a>"
      ]
    },
    {
      "cell_type": "markdown",
      "source": [
        "# **CIFAR-10 CNN MODEL**"
      ],
      "metadata": {
        "id": "jfxCNt8hBLi8"
      }
    },
    {
      "cell_type": "markdown",
      "source": [
        "IMPORT LIBRARIES"
      ],
      "metadata": {
        "id": "LY8SFidzBSzA"
      }
    },
    {
      "cell_type": "code",
      "source": [
        "import tensorflow as tf\n",
        "from tensorflow import keras\n",
        "import numpy as np\n",
        "import matplotlib.pyplot as plt\n",
        "from tensorflow.keras.layers import Input, Conv2D, Dense, Flatten, Dropout\n",
        "from tensorflow.keras.models import Model"
      ],
      "metadata": {
        "id": "iNZP83X3BSFt"
      },
      "execution_count": 1,
      "outputs": []
    },
    {
      "cell_type": "markdown",
      "source": [
        "LOAD THE DATA"
      ],
      "metadata": {
        "id": "NeXxSPNBBbvI"
      }
    },
    {
      "cell_type": "code",
      "source": [
        "cifar10 = tf.keras.datasets.cifar10\n",
        "(train_images, train_labels), (test_images, test_labels) = cifar10.load_data()\n",
        "## standardize the training and testing data.\n",
        "train_images, test_images = train_images / 255, test_images / 255\n",
        "## flatten the training labels and testing labels.\n",
        "train_labels, test_labels = train_labels.flatten(), test_labels.flatten()\n",
        "\n",
        "print(\"Training Images Shape :--\", train_images.shape)\n",
        "print(\"Training Labels Shape :--\", train_labels.shape)\n",
        "print(\"Testing Images Shape :--\", test_images.shape)\n",
        "print(\"Testing Labels Shape :--\", test_labels.shape)"
      ],
      "metadata": {
        "colab": {
          "base_uri": "https://localhost:8080/"
        },
        "id": "0cq-UraIBWPm",
        "outputId": "1cfedb6d-903f-4d93-ade6-08c944d6c6a9"
      },
      "execution_count": 2,
      "outputs": [
        {
          "output_type": "stream",
          "name": "stdout",
          "text": [
            "Downloading data from https://www.cs.toronto.edu/~kriz/cifar-10-python.tar.gz\n",
            "170498071/170498071 [==============================] - 3s 0us/step\n",
            "Training Images Shape :-- (50000, 32, 32, 3)\n",
            "Training Labels Shape :-- (50000,)\n",
            "Testing Images Shape :-- (10000, 32, 32, 3)\n",
            "Testing Labels Shape :-- (10000,)\n"
          ]
        }
      ]
    },
    {
      "cell_type": "markdown",
      "source": [
        "CHECK FOR THE NUMBER OF CLASSES"
      ],
      "metadata": {
        "id": "AhUwOm-UCFM6"
      }
    },
    {
      "cell_type": "code",
      "source": [
        "k = len(set(train_labels))\n",
        "print(\"Number of Classes :--\", k)"
      ],
      "metadata": {
        "colab": {
          "base_uri": "https://localhost:8080/"
        },
        "id": "3XveDIfnB9Gz",
        "outputId": "c1d2e85f-eb2c-4360-b9ab-e058b4f0579d"
      },
      "execution_count": 3,
      "outputs": [
        {
          "output_type": "stream",
          "name": "stdout",
          "text": [
            "Number of Classes :-- 10\n"
          ]
        }
      ]
    },
    {
      "cell_type": "markdown",
      "source": [
        "BUILD THE MODEL"
      ],
      "metadata": {
        "id": "WYDFTnWSCUS1"
      }
    },
    {
      "cell_type": "code",
      "source": [
        "from keras.api._v2.keras import activations\n",
        "## using the functional API\n",
        "i = Input(shape = train_images[0].shape) \n",
        "x = Conv2D(32, (3,3), strides = 2, activation = \"relu\")(i)\n",
        "x = Conv2D(64, (3,3), strides = 2, activation = \"relu\")(x)\n",
        "x = Conv2D(128, (3,3), strides = 2, activation = \"relu\")(x)\n",
        "x = Flatten()(x)\n",
        "x = Dropout(0.2)(x)\n",
        "x = Dense(512, activation = \"relu\")(x)\n",
        "x = Dropout(0.2)(x)\n",
        "x = Dense(k, activation = \"softmax\")(x)\n",
        "\n",
        "model = Model(i, x)\n",
        "model.summary()"
      ],
      "metadata": {
        "colab": {
          "base_uri": "https://localhost:8080/"
        },
        "id": "dHGQ09kqCH0z",
        "outputId": "d37526fb-325d-44cf-beca-38e6a238d15d"
      },
      "execution_count": 4,
      "outputs": [
        {
          "output_type": "stream",
          "name": "stdout",
          "text": [
            "Model: \"model\"\n",
            "_________________________________________________________________\n",
            " Layer (type)                Output Shape              Param #   \n",
            "=================================================================\n",
            " input_1 (InputLayer)        [(None, 32, 32, 3)]       0         \n",
            "                                                                 \n",
            " conv2d (Conv2D)             (None, 15, 15, 32)        896       \n",
            "                                                                 \n",
            " conv2d_1 (Conv2D)           (None, 7, 7, 64)          18496     \n",
            "                                                                 \n",
            " conv2d_2 (Conv2D)           (None, 3, 3, 128)         73856     \n",
            "                                                                 \n",
            " flatten (Flatten)           (None, 1152)              0         \n",
            "                                                                 \n",
            " dropout (Dropout)           (None, 1152)              0         \n",
            "                                                                 \n",
            " dense (Dense)               (None, 512)               590336    \n",
            "                                                                 \n",
            " dropout_1 (Dropout)         (None, 512)               0         \n",
            "                                                                 \n",
            " dense_1 (Dense)             (None, 10)                5130      \n",
            "                                                                 \n",
            "=================================================================\n",
            "Total params: 688,714\n",
            "Trainable params: 688,714\n",
            "Non-trainable params: 0\n",
            "_________________________________________________________________\n"
          ]
        }
      ]
    },
    {
      "cell_type": "markdown",
      "source": [
        "COMPILE THE MODEL"
      ],
      "metadata": {
        "id": "q-ddFNU3Cyfs"
      }
    },
    {
      "cell_type": "code",
      "source": [
        "## compile the model\n",
        "model.compile(\n",
        "    optimizer = \"adam\",\n",
        "    loss = \"sparse_categorical_crossentropy\",\n",
        "    metrics = [\"accuracy\"]\n",
        ")"
      ],
      "metadata": {
        "id": "yRwFnEzGCklq"
      },
      "execution_count": 5,
      "outputs": []
    },
    {
      "cell_type": "markdown",
      "source": [
        "TRAIN THE MODEL"
      ],
      "metadata": {
        "id": "1AR5RNQqC5q2"
      }
    },
    {
      "cell_type": "code",
      "source": [
        "## fit the model\n",
        "r = model.fit(train_images, train_labels,\n",
        "              validation_data = (test_images, test_labels),\n",
        "              epochs = 50)"
      ],
      "metadata": {
        "colab": {
          "base_uri": "https://localhost:8080/"
        },
        "id": "vEUA4s3MC41h",
        "outputId": "41f57be8-dbdd-40dc-f04e-fe1df7d15218"
      },
      "execution_count": 6,
      "outputs": [
        {
          "output_type": "stream",
          "name": "stdout",
          "text": [
            "Epoch 1/50\n",
            "1563/1563 [==============================] - 20s 6ms/step - loss: 1.5200 - accuracy: 0.4459 - val_loss: 1.2678 - val_accuracy: 0.5394\n",
            "Epoch 2/50\n",
            "1563/1563 [==============================] - 9s 5ms/step - loss: 1.1786 - accuracy: 0.5795 - val_loss: 1.0572 - val_accuracy: 0.6248\n",
            "Epoch 3/50\n",
            "1563/1563 [==============================] - 9s 5ms/step - loss: 1.0148 - accuracy: 0.6375 - val_loss: 0.9760 - val_accuracy: 0.6570\n",
            "Epoch 4/50\n",
            "1563/1563 [==============================] - 8s 5ms/step - loss: 0.8910 - accuracy: 0.6843 - val_loss: 0.9156 - val_accuracy: 0.6754\n",
            "Epoch 5/50\n",
            "1563/1563 [==============================] - 8s 5ms/step - loss: 0.8014 - accuracy: 0.7148 - val_loss: 0.8663 - val_accuracy: 0.6947\n",
            "Epoch 6/50\n",
            "1563/1563 [==============================] - 8s 5ms/step - loss: 0.7137 - accuracy: 0.7462 - val_loss: 0.8794 - val_accuracy: 0.6952\n",
            "Epoch 7/50\n",
            "1563/1563 [==============================] - 8s 5ms/step - loss: 0.6430 - accuracy: 0.7693 - val_loss: 0.8627 - val_accuracy: 0.7058\n",
            "Epoch 8/50\n",
            "1563/1563 [==============================] - 9s 6ms/step - loss: 0.5875 - accuracy: 0.7915 - val_loss: 0.8580 - val_accuracy: 0.7091\n",
            "Epoch 9/50\n",
            "1563/1563 [==============================] - 9s 6ms/step - loss: 0.5327 - accuracy: 0.8111 - val_loss: 0.8508 - val_accuracy: 0.7148\n",
            "Epoch 10/50\n",
            "1563/1563 [==============================] - 8s 5ms/step - loss: 0.4901 - accuracy: 0.8241 - val_loss: 0.8731 - val_accuracy: 0.7201\n",
            "Epoch 11/50\n",
            "1563/1563 [==============================] - 8s 5ms/step - loss: 0.4392 - accuracy: 0.8423 - val_loss: 0.8957 - val_accuracy: 0.7163\n",
            "Epoch 12/50\n",
            "1563/1563 [==============================] - 9s 6ms/step - loss: 0.4088 - accuracy: 0.8542 - val_loss: 0.9041 - val_accuracy: 0.7165\n",
            "Epoch 13/50\n",
            "1563/1563 [==============================] - 8s 5ms/step - loss: 0.3841 - accuracy: 0.8631 - val_loss: 0.9499 - val_accuracy: 0.7112\n",
            "Epoch 14/50\n",
            "1563/1563 [==============================] - 9s 6ms/step - loss: 0.3564 - accuracy: 0.8738 - val_loss: 0.9659 - val_accuracy: 0.7093\n",
            "Epoch 15/50\n",
            "1563/1563 [==============================] - 9s 6ms/step - loss: 0.3337 - accuracy: 0.8807 - val_loss: 0.9781 - val_accuracy: 0.7142\n",
            "Epoch 16/50\n",
            "1563/1563 [==============================] - 8s 5ms/step - loss: 0.3198 - accuracy: 0.8852 - val_loss: 1.0057 - val_accuracy: 0.7102\n",
            "Epoch 17/50\n",
            "1563/1563 [==============================] - 8s 5ms/step - loss: 0.3046 - accuracy: 0.8936 - val_loss: 1.0097 - val_accuracy: 0.7188\n",
            "Epoch 18/50\n",
            "1563/1563 [==============================] - 8s 5ms/step - loss: 0.2891 - accuracy: 0.8971 - val_loss: 1.0533 - val_accuracy: 0.7142\n",
            "Epoch 19/50\n",
            "1563/1563 [==============================] - 8s 5ms/step - loss: 0.2850 - accuracy: 0.8989 - val_loss: 1.0753 - val_accuracy: 0.7160\n",
            "Epoch 20/50\n",
            "1563/1563 [==============================] - 8s 5ms/step - loss: 0.2638 - accuracy: 0.9067 - val_loss: 1.0802 - val_accuracy: 0.7090\n",
            "Epoch 21/50\n",
            "1563/1563 [==============================] - 9s 6ms/step - loss: 0.2681 - accuracy: 0.9070 - val_loss: 1.1276 - val_accuracy: 0.7079\n",
            "Epoch 22/50\n",
            "1563/1563 [==============================] - 8s 5ms/step - loss: 0.2544 - accuracy: 0.9111 - val_loss: 1.1106 - val_accuracy: 0.7138\n",
            "Epoch 23/50\n",
            "1563/1563 [==============================] - 8s 5ms/step - loss: 0.2505 - accuracy: 0.9130 - val_loss: 1.1708 - val_accuracy: 0.7116\n",
            "Epoch 24/50\n",
            "1563/1563 [==============================] - 8s 5ms/step - loss: 0.2439 - accuracy: 0.9150 - val_loss: 1.1741 - val_accuracy: 0.7087\n",
            "Epoch 25/50\n",
            "1563/1563 [==============================] - 8s 5ms/step - loss: 0.2386 - accuracy: 0.9188 - val_loss: 1.1460 - val_accuracy: 0.7152\n",
            "Epoch 26/50\n",
            "1563/1563 [==============================] - 8s 5ms/step - loss: 0.2338 - accuracy: 0.9185 - val_loss: 1.1716 - val_accuracy: 0.7133\n",
            "Epoch 27/50\n",
            "1563/1563 [==============================] - 8s 5ms/step - loss: 0.2315 - accuracy: 0.9214 - val_loss: 1.2325 - val_accuracy: 0.7056\n",
            "Epoch 28/50\n",
            "1563/1563 [==============================] - 8s 5ms/step - loss: 0.2241 - accuracy: 0.9221 - val_loss: 1.2135 - val_accuracy: 0.7072\n",
            "Epoch 29/50\n",
            "1563/1563 [==============================] - 8s 5ms/step - loss: 0.2182 - accuracy: 0.9250 - val_loss: 1.1858 - val_accuracy: 0.7149\n",
            "Epoch 30/50\n",
            "1563/1563 [==============================] - 9s 6ms/step - loss: 0.2143 - accuracy: 0.9258 - val_loss: 1.2610 - val_accuracy: 0.7044\n",
            "Epoch 31/50\n",
            "1563/1563 [==============================] - 8s 5ms/step - loss: 0.2149 - accuracy: 0.9276 - val_loss: 1.2321 - val_accuracy: 0.7096\n",
            "Epoch 32/50\n",
            "1563/1563 [==============================] - 8s 5ms/step - loss: 0.2072 - accuracy: 0.9299 - val_loss: 1.2486 - val_accuracy: 0.7047\n",
            "Epoch 33/50\n",
            "1563/1563 [==============================] - 8s 5ms/step - loss: 0.2081 - accuracy: 0.9299 - val_loss: 1.2715 - val_accuracy: 0.7104\n",
            "Epoch 34/50\n",
            "1563/1563 [==============================] - 8s 5ms/step - loss: 0.2017 - accuracy: 0.9307 - val_loss: 1.3112 - val_accuracy: 0.7171\n",
            "Epoch 35/50\n",
            "1563/1563 [==============================] - 8s 5ms/step - loss: 0.2015 - accuracy: 0.9313 - val_loss: 1.3024 - val_accuracy: 0.7080\n",
            "Epoch 36/50\n",
            "1563/1563 [==============================] - 9s 6ms/step - loss: 0.1969 - accuracy: 0.9340 - val_loss: 1.2609 - val_accuracy: 0.7116\n",
            "Epoch 37/50\n",
            "1563/1563 [==============================] - 9s 6ms/step - loss: 0.1944 - accuracy: 0.9345 - val_loss: 1.3311 - val_accuracy: 0.6999\n",
            "Epoch 38/50\n",
            "1563/1563 [==============================] - 8s 5ms/step - loss: 0.2003 - accuracy: 0.9310 - val_loss: 1.3468 - val_accuracy: 0.7052\n",
            "Epoch 39/50\n",
            "1563/1563 [==============================] - 8s 5ms/step - loss: 0.1913 - accuracy: 0.9362 - val_loss: 1.3320 - val_accuracy: 0.7074\n",
            "Epoch 40/50\n",
            "1563/1563 [==============================] - 8s 5ms/step - loss: 0.1927 - accuracy: 0.9357 - val_loss: 1.3586 - val_accuracy: 0.7032\n",
            "Epoch 41/50\n",
            "1563/1563 [==============================] - 7s 5ms/step - loss: 0.1883 - accuracy: 0.9373 - val_loss: 1.3682 - val_accuracy: 0.7096\n",
            "Epoch 42/50\n",
            "1563/1563 [==============================] - 8s 5ms/step - loss: 0.1839 - accuracy: 0.9374 - val_loss: 1.3533 - val_accuracy: 0.7091\n",
            "Epoch 43/50\n",
            "1563/1563 [==============================] - 8s 5ms/step - loss: 0.1880 - accuracy: 0.9377 - val_loss: 1.4579 - val_accuracy: 0.7046\n",
            "Epoch 44/50\n",
            "1563/1563 [==============================] - 8s 5ms/step - loss: 0.1840 - accuracy: 0.9396 - val_loss: 1.3459 - val_accuracy: 0.7124\n",
            "Epoch 45/50\n",
            "1563/1563 [==============================] - 8s 5ms/step - loss: 0.1801 - accuracy: 0.9400 - val_loss: 1.4154 - val_accuracy: 0.7045\n",
            "Epoch 46/50\n",
            "1563/1563 [==============================] - 9s 6ms/step - loss: 0.1811 - accuracy: 0.9407 - val_loss: 1.3692 - val_accuracy: 0.7087\n",
            "Epoch 47/50\n",
            "1563/1563 [==============================] - 8s 5ms/step - loss: 0.1734 - accuracy: 0.9437 - val_loss: 1.3812 - val_accuracy: 0.7086\n",
            "Epoch 48/50\n",
            "1563/1563 [==============================] - 8s 5ms/step - loss: 0.1796 - accuracy: 0.9403 - val_loss: 1.4013 - val_accuracy: 0.7056\n",
            "Epoch 49/50\n",
            "1563/1563 [==============================] - 8s 5ms/step - loss: 0.1749 - accuracy: 0.9432 - val_loss: 1.3821 - val_accuracy: 0.7021\n",
            "Epoch 50/50\n",
            "1563/1563 [==============================] - 8s 5ms/step - loss: 0.1769 - accuracy: 0.9414 - val_loss: 1.4293 - val_accuracy: 0.7071\n"
          ]
        }
      ]
    },
    {
      "cell_type": "code",
      "source": [
        "## plotting the loss and accuracy graphs\n",
        "plt.plot(r.history[\"loss\"], label = \"Loss\")\n",
        "plt.plot(r.history[\"val_loss\"], label = \"Validation Loss\")\n",
        "plt.legend();"
      ],
      "metadata": {
        "colab": {
          "base_uri": "https://localhost:8080/",
          "height": 265
        },
        "id": "XuvCFOSSC-PI",
        "outputId": "e2e1c24c-6b81-4419-f6cb-db46fec1a6d6"
      },
      "execution_count": 8,
      "outputs": [
        {
          "output_type": "display_data",
          "data": {
            "text/plain": [
              "<Figure size 432x288 with 1 Axes>"
            ],
            "image/png": "[encoded data removed]"
          },
          "metadata": {
            "needs_background": "light"
          }
        }
      ]
    },
    {
      "cell_type": "code",
      "source": [
        "plt.plot(r.history[\"accuracy\"], label = \"Accuracy\")\n",
        "plt.plot(r.history[\"val_accuracy\"], label = \"Validation Accuracy\")\n",
        "plt.legend();"
      ],
      "metadata": {
        "colab": {
          "base_uri": "https://localhost:8080/",
          "height": 265
        },
        "id": "TKT15_PS7iNr",
        "outputId": "185eaac6-3908-45ef-8fb0-2011abad7f92"
      },
      "execution_count": 9,
      "outputs": [
        {
          "output_type": "display_data",
          "data": {
            "text/plain": [
              "<Figure size 432x288 with 1 Axes>"
            ],
            "image/png": "[encoded data removed]"
          },
          "metadata": {
            "needs_background": "light"
          }
        }
      ]
    },
    {
      "cell_type": "markdown",
      "source": [
        "Here, the model is Overfitting.\n",
        "\n",
        "+ Even though the training loss is Decreasing with respect to epochs.\n",
        "+ The Validation loss is Increasing with respect to epochs.\n",
        "+ Similarly, Training accuracy is high and Validation accurcay is low.\n",
        "\n",
        "\n",
        "\n",
        "> *Overfitting occur when the model is generalizes well on the training set. But fails to generalizes well on the test set.*\n",
        "\n"
      ],
      "metadata": {
        "id": "MxHFv7DM8wOF"
      }
    },
    {
      "cell_type": "markdown",
      "source": [
        "***"
      ],
      "metadata": {
        "id": "GgItEGrTGKkO"
      }
    }
  ]
}