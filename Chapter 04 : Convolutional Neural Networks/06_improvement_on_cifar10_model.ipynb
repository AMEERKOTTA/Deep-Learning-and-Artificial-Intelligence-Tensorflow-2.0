{
  "nbformat": 4,
  "nbformat_minor": 0,
  "metadata": {
    "colab": {
      "provenance": [],
      "authorship_tag": "ABX9TyOBQYlf2MkOEHWCKOWcoYYk",
      "include_colab_link": true
    },
    "kernelspec": {
      "name": "python3",
      "display_name": "Python 3"
    },
    "language_info": {
      "name": "python"
    },
    "accelerator": "GPU",
    "gpuClass": "standard"
  },
  "cells": [
    {
      "cell_type": "markdown",
      "metadata": {
        "id": "view-in-github",
        "colab_type": "text"
      },
      "source": [
        "<a href=\"https://colab.research.google.com/github/AMEERKOTTA/Deep-Learning-and-Artificial-Intelligence-Tensorflow-2.0/blob/main/Chapter%2004%20%3A%20Convolutional%20Neural%20Networks/06_improvement_on_cifar10_model.ipynb\" target=\"_parent\"><img src=\"https://colab.research.google.com/assets/colab-badge.svg\" alt=\"Open In Colab\"/></a>"
      ]
    },
    {
      "cell_type": "markdown",
      "source": [
        "# **IMPROVEMENT ON CIFAR 10 CNN MODEL**"
      ],
      "metadata": {
        "id": "30M3CmtzHDYg"
      }
    },
    {
      "cell_type": "markdown",
      "source": [
        "IMPORT LIBRARIES"
      ],
      "metadata": {
        "id": "X4K6fScJHNI_"
      }
    },
    {
      "cell_type": "code",
      "source": [
        "import tensorflow as tf\n",
        "from tensorflow import keras\n",
        "import numpy as np\n",
        "import matplotlib.pyplot as plt\n",
        "from tensorflow.keras.layers import Input, Conv2D, Dense, Flatten, Dropout, GlobalMaxPooling2D, MaxPooling2D, BatchNormalization\n",
        "from tensorflow.keras.models import Model"
      ],
      "metadata": {
        "id": "eDU4HYNkHHw9"
      },
      "execution_count": 5,
      "outputs": []
    },
    {
      "cell_type": "markdown",
      "source": [
        "LOAD THE DATA"
      ],
      "metadata": {
        "id": "j2jPBqzNHZlp"
      }
    },
    {
      "cell_type": "code",
      "source": [
        "cifar10 = tf.keras.datasets.cifar10\n",
        "(train_images, train_labels), (test_images, test_labels) = cifar10.load_data()\n",
        "## standardize the training and testing data.\n",
        "train_images, test_images = train_images / 255, test_images / 255\n",
        "## flatten the training labels and testing labels.\n",
        "train_labels, test_labels = train_labels.flatten(), test_labels.flatten()\n",
        "\n",
        "print(\"Training Images Shape :--\", train_images.shape)\n",
        "print(\"Training Labels Shape :--\", train_labels.shape)\n",
        "print(\"Testing Images Shape :--\", test_images.shape)\n",
        "print(\"Testing Labels Shape :--\", test_labels.shape)"
      ],
      "metadata": {
        "colab": {
          "base_uri": "https://localhost:8080/"
        },
        "id": "UZM_RGTJHWux",
        "outputId": "718411f1-cd60-4b23-a92c-d54124839d00"
      },
      "execution_count": 6,
      "outputs": [
        {
          "output_type": "stream",
          "name": "stdout",
          "text": [
            "Training Images Shape :-- (50000, 32, 32, 3)\n",
            "Training Labels Shape :-- (50000,)\n",
            "Testing Images Shape :-- (10000, 32, 32, 3)\n",
            "Testing Labels Shape :-- (10000,)\n"
          ]
        }
      ]
    },
    {
      "cell_type": "markdown",
      "source": [
        "CHECK FOR THE NUMBER OF CLASSES"
      ],
      "metadata": {
        "id": "OKFk8kFeKBS4"
      }
    },
    {
      "cell_type": "code",
      "source": [
        "k = len(set(train_labels))\n",
        "print(\"Number of Classes :--\", k)"
      ],
      "metadata": {
        "colab": {
          "base_uri": "https://localhost:8080/"
        },
        "id": "-P1ojh8XHc7e",
        "outputId": "979b6ccf-f5cf-4dfe-8adb-a7ef8ffc0ab7"
      },
      "execution_count": 7,
      "outputs": [
        {
          "output_type": "stream",
          "name": "stdout",
          "text": [
            "Number of Classes :-- 10\n"
          ]
        }
      ]
    },
    {
      "cell_type": "markdown",
      "source": [
        "BUILD THE MODEL"
      ],
      "metadata": {
        "id": "SlAT3w4sKHmO"
      }
    },
    {
      "cell_type": "code",
      "source": [
        "from keras.api._v2.keras import activations\n",
        "## using the functional API\n",
        "i = Input(shape = train_images[0].shape) \n",
        "# x = Conv2D(32, (3,3), strides = 2, activation = \"relu\")(i)\n",
        "# x = Conv2D(64, (3,3), strides = 2, activation = \"relu\")(x)\n",
        "# x = Conv2D(128, (3,3), strides = 2, activation = \"relu\")(x)\n",
        "x = Conv2D(32, (3,3), activation = \"relu\", padding = \"same\")(i)\n",
        "x = BatchNormalization()(x)\n",
        "x = Conv2D(32, (3,3), activation = \"relu\", padding = \"same\")(x)\n",
        "x = BatchNormalization()(x)\n",
        "x = MaxPooling2D(2,2)(x)\n",
        "# x = Dropout(0.2)(x)\n",
        "\n",
        "x = Conv2D(64, (3,3), activation = \"relu\", padding = \"same\")(i)\n",
        "x = BatchNormalization()(x)\n",
        "x = Conv2D(64, (3,3), activation = \"relu\", padding = \"same\")(x)\n",
        "x = BatchNormalization()(x)\n",
        "x = MaxPooling2D(2,2)(x)\n",
        "# x = Dropout(0.2)(x)\n",
        "\n",
        "x = Conv2D(128, (3,3), activation = \"relu\", padding = \"same\")(i)\n",
        "x = BatchNormalization()(x)\n",
        "x = Conv2D(128, (3,3), activation = \"relu\", padding = \"same\")(x)\n",
        "x = BatchNormalization()(x)\n",
        "x = MaxPooling2D(2,2)(x)\n",
        "# x = Dropout(0.2)(x)\n",
        "\n",
        "# x = GlobalMaxPooling2D()(x)\n",
        "x = Flatten()(x)\n",
        "x = Dropout(0.2)(x)\n",
        "x = Dense(1024, activation = \"relu\")(x)\n",
        "x = Dropout(0.2)(x)\n",
        "x = Dense(k, activation = \"softmax\")(x)\n",
        "\n",
        "model = Model(i, x)\n",
        "model.summary()"
      ],
      "metadata": {
        "colab": {
          "base_uri": "https://localhost:8080/"
        },
        "id": "AnzOxGx7KECJ",
        "outputId": "4c7a3e67-66af-494c-a8a4-1017ee512582"
      },
      "execution_count": 9,
      "outputs": [
        {
          "output_type": "stream",
          "name": "stdout",
          "text": [
            "Model: \"model_1\"\n",
            "_________________________________________________________________\n",
            " Layer (type)                Output Shape              Param #   \n",
            "=================================================================\n",
            " input_2 (InputLayer)        [(None, 32, 32, 3)]       0         \n",
            "                                                                 \n",
            " conv2d_10 (Conv2D)          (None, 32, 32, 128)       3584      \n",
            "                                                                 \n",
            " batch_normalization_10 (Bat  (None, 32, 32, 128)      512       \n",
            " chNormalization)                                                \n",
            "                                                                 \n",
            " conv2d_11 (Conv2D)          (None, 32, 32, 128)       147584    \n",
            "                                                                 \n",
            " batch_normalization_11 (Bat  (None, 32, 32, 128)      512       \n",
            " chNormalization)                                                \n",
            "                                                                 \n",
            " max_pooling2d_5 (MaxPooling  (None, 16, 16, 128)      0         \n",
            " 2D)                                                             \n",
            "                                                                 \n",
            " flatten_1 (Flatten)         (None, 32768)             0         \n",
            "                                                                 \n",
            " dropout_2 (Dropout)         (None, 32768)             0         \n",
            "                                                                 \n",
            " dense_2 (Dense)             (None, 1024)              33555456  \n",
            "                                                                 \n",
            " dropout_3 (Dropout)         (None, 1024)              0         \n",
            "                                                                 \n",
            " dense_3 (Dense)             (None, 10)                10250     \n",
            "                                                                 \n",
            "=================================================================\n",
            "Total params: 33,717,898\n",
            "Trainable params: 33,717,386\n",
            "Non-trainable params: 512\n",
            "_________________________________________________________________\n"
          ]
        }
      ]
    },
    {
      "cell_type": "markdown",
      "source": [
        "COMPILE THE MODEL"
      ],
      "metadata": {
        "id": "o5PGNT9SNoFg"
      }
    },
    {
      "cell_type": "code",
      "source": [
        "## compile the model\n",
        "model.compile(\n",
        "    optimizer = \"adam\",\n",
        "    loss = \"sparse_categorical_crossentropy\",\n",
        "    metrics = [\"accuracy\"]\n",
        ")"
      ],
      "metadata": {
        "id": "yRwFnEzGCklq"
      },
      "execution_count": 10,
      "outputs": []
    },
    {
      "cell_type": "markdown",
      "source": [
        "TRAIN THE MODEL"
      ],
      "metadata": {
        "id": "rLo_0IvoNt-Z"
      }
    },
    {
      "cell_type": "code",
      "source": [
        "## fit the model\n",
        "r = model.fit(train_images, train_labels,\n",
        "              validation_data = (test_images, test_labels),\n",
        "              epochs = 50)"
      ],
      "metadata": {
        "colab": {
          "base_uri": "https://localhost:8080/"
        },
        "id": "hod7KglpNr2e",
        "outputId": "b3dbe413-c264-41c9-aa31-0a1a71079be9"
      },
      "execution_count": 11,
      "outputs": [
        {
          "output_type": "stream",
          "name": "stdout",
          "text": [
            "Epoch 1/50\n",
            "1563/1563 [==============================] - 37s 17ms/step - loss: 1.8984 - accuracy: 0.4148 - val_loss: 1.3014 - val_accuracy: 0.5355\n",
            "Epoch 2/50\n",
            "1563/1563 [==============================] - 25s 16ms/step - loss: 1.2846 - accuracy: 0.5386 - val_loss: 1.3280 - val_accuracy: 0.5246\n",
            "Epoch 3/50\n",
            "1563/1563 [==============================] - 25s 16ms/step - loss: 1.1330 - accuracy: 0.5967 - val_loss: 1.1593 - val_accuracy: 0.5943\n",
            "Epoch 4/50\n",
            "1563/1563 [==============================] - 25s 16ms/step - loss: 1.0256 - accuracy: 0.6346 - val_loss: 1.1149 - val_accuracy: 0.6265\n",
            "Epoch 5/50\n",
            "1563/1563 [==============================] - 25s 16ms/step - loss: 0.9222 - accuracy: 0.6703 - val_loss: 1.0723 - val_accuracy: 0.6315\n",
            "Epoch 6/50\n",
            "1563/1563 [==============================] - 25s 16ms/step - loss: 0.8365 - accuracy: 0.7045 - val_loss: 1.0146 - val_accuracy: 0.6584\n",
            "Epoch 7/50\n",
            "1563/1563 [==============================] - 25s 16ms/step - loss: 0.7745 - accuracy: 0.7276 - val_loss: 1.0720 - val_accuracy: 0.6615\n",
            "Epoch 8/50\n",
            "1563/1563 [==============================] - 25s 16ms/step - loss: 0.6998 - accuracy: 0.7538 - val_loss: 1.0515 - val_accuracy: 0.6821\n",
            "Epoch 9/50\n",
            "1563/1563 [==============================] - 25s 16ms/step - loss: 0.6430 - accuracy: 0.7741 - val_loss: 1.0830 - val_accuracy: 0.6847\n",
            "Epoch 10/50\n",
            "1563/1563 [==============================] - 25s 16ms/step - loss: 0.5928 - accuracy: 0.7929 - val_loss: 1.0301 - val_accuracy: 0.6834\n",
            "Epoch 11/50\n",
            "1563/1563 [==============================] - 25s 16ms/step - loss: 0.5410 - accuracy: 0.8094 - val_loss: 1.0322 - val_accuracy: 0.6913\n",
            "Epoch 12/50\n",
            "1563/1563 [==============================] - 26s 17ms/step - loss: 0.5016 - accuracy: 0.8234 - val_loss: 2.8338 - val_accuracy: 0.5891\n",
            "Epoch 13/50\n",
            "1563/1563 [==============================] - 25s 16ms/step - loss: 0.4679 - accuracy: 0.8370 - val_loss: 1.0949 - val_accuracy: 0.6956\n",
            "Epoch 14/50\n",
            "1563/1563 [==============================] - 25s 16ms/step - loss: 0.4302 - accuracy: 0.8490 - val_loss: 1.0667 - val_accuracy: 0.7074\n",
            "Epoch 15/50\n",
            "1563/1563 [==============================] - 25s 16ms/step - loss: 0.4049 - accuracy: 0.8584 - val_loss: 1.4394 - val_accuracy: 0.7110\n",
            "Epoch 16/50\n",
            "1563/1563 [==============================] - 25s 16ms/step - loss: 0.3740 - accuracy: 0.8680 - val_loss: 1.3056 - val_accuracy: 0.6849\n",
            "Epoch 17/50\n",
            "1563/1563 [==============================] - 25s 16ms/step - loss: 0.3588 - accuracy: 0.8754 - val_loss: 1.1676 - val_accuracy: 0.7031\n",
            "Epoch 18/50\n",
            "1563/1563 [==============================] - 25s 16ms/step - loss: 0.3375 - accuracy: 0.8818 - val_loss: 1.1535 - val_accuracy: 0.7081\n",
            "Epoch 19/50\n",
            "1563/1563 [==============================] - 26s 17ms/step - loss: 0.3190 - accuracy: 0.8883 - val_loss: 1.2757 - val_accuracy: 0.6768\n",
            "Epoch 20/50\n",
            "1563/1563 [==============================] - 26s 17ms/step - loss: 0.3069 - accuracy: 0.8946 - val_loss: 1.3927 - val_accuracy: 0.7164\n",
            "Epoch 21/50\n",
            "1563/1563 [==============================] - 26s 17ms/step - loss: 0.2926 - accuracy: 0.8992 - val_loss: 1.2942 - val_accuracy: 0.7153\n",
            "Epoch 22/50\n",
            "1563/1563 [==============================] - 28s 18ms/step - loss: 0.2741 - accuracy: 0.9039 - val_loss: 1.4808 - val_accuracy: 0.6998\n",
            "Epoch 23/50\n",
            "1563/1563 [==============================] - 27s 17ms/step - loss: 0.2760 - accuracy: 0.9051 - val_loss: 1.1799 - val_accuracy: 0.7087\n",
            "Epoch 24/50\n",
            "1563/1563 [==============================] - 27s 17ms/step - loss: 0.2573 - accuracy: 0.9094 - val_loss: 1.3120 - val_accuracy: 0.7305\n",
            "Epoch 25/50\n",
            "1563/1563 [==============================] - 28s 18ms/step - loss: 0.2439 - accuracy: 0.9162 - val_loss: 1.1536 - val_accuracy: 0.7196\n",
            "Epoch 26/50\n",
            "1563/1563 [==============================] - 28s 18ms/step - loss: 0.2377 - accuracy: 0.9180 - val_loss: 1.2283 - val_accuracy: 0.7071\n",
            "Epoch 27/50\n",
            "1563/1563 [==============================] - 28s 18ms/step - loss: 0.2306 - accuracy: 0.9209 - val_loss: 1.3844 - val_accuracy: 0.7111\n",
            "Epoch 28/50\n",
            "1563/1563 [==============================] - 26s 17ms/step - loss: 0.2269 - accuracy: 0.9227 - val_loss: 1.1566 - val_accuracy: 0.7141\n",
            "Epoch 29/50\n",
            "1563/1563 [==============================] - 25s 16ms/step - loss: 0.2107 - accuracy: 0.9265 - val_loss: 1.3027 - val_accuracy: 0.7144\n",
            "Epoch 30/50\n",
            "1563/1563 [==============================] - 28s 18ms/step - loss: 0.2162 - accuracy: 0.9262 - val_loss: 1.4587 - val_accuracy: 0.7222\n",
            "Epoch 31/50\n",
            "1563/1563 [==============================] - 25s 16ms/step - loss: 0.2039 - accuracy: 0.9297 - val_loss: 1.4370 - val_accuracy: 0.7070\n",
            "Epoch 32/50\n",
            "1563/1563 [==============================] - 27s 17ms/step - loss: 0.2001 - accuracy: 0.9312 - val_loss: 1.8287 - val_accuracy: 0.7337\n",
            "Epoch 33/50\n",
            "1563/1563 [==============================] - 28s 18ms/step - loss: 0.1855 - accuracy: 0.9372 - val_loss: 1.5545 - val_accuracy: 0.7231\n",
            "Epoch 34/50\n",
            "1563/1563 [==============================] - 29s 18ms/step - loss: 0.1948 - accuracy: 0.9341 - val_loss: 2.8233 - val_accuracy: 0.7134\n",
            "Epoch 35/50\n",
            "1563/1563 [==============================] - 26s 17ms/step - loss: 0.1801 - accuracy: 0.9390 - val_loss: 1.2242 - val_accuracy: 0.7223\n",
            "Epoch 36/50\n",
            "1563/1563 [==============================] - 26s 16ms/step - loss: 0.1742 - accuracy: 0.9409 - val_loss: 1.2176 - val_accuracy: 0.7110\n",
            "Epoch 37/50\n",
            "1563/1563 [==============================] - 29s 18ms/step - loss: 0.1712 - accuracy: 0.9417 - val_loss: 1.3873 - val_accuracy: 0.7198\n",
            "Epoch 38/50\n",
            "1563/1563 [==============================] - 25s 16ms/step - loss: 0.1675 - accuracy: 0.9430 - val_loss: 2.1212 - val_accuracy: 0.7288\n",
            "Epoch 39/50\n",
            "1563/1563 [==============================] - 25s 16ms/step - loss: 0.1641 - accuracy: 0.9445 - val_loss: 1.5783 - val_accuracy: 0.7268\n",
            "Epoch 40/50\n",
            "1563/1563 [==============================] - 26s 17ms/step - loss: 0.1613 - accuracy: 0.9452 - val_loss: 3.5959 - val_accuracy: 0.7147\n",
            "Epoch 41/50\n",
            "1563/1563 [==============================] - 26s 16ms/step - loss: 0.1557 - accuracy: 0.9473 - val_loss: 1.5633 - val_accuracy: 0.7276\n",
            "Epoch 42/50\n",
            "1563/1563 [==============================] - 25s 16ms/step - loss: 0.1607 - accuracy: 0.9447 - val_loss: 1.4996 - val_accuracy: 0.7230\n",
            "Epoch 43/50\n",
            "1563/1563 [==============================] - 25s 16ms/step - loss: 0.1503 - accuracy: 0.9504 - val_loss: 1.5128 - val_accuracy: 0.7213\n",
            "Epoch 44/50\n",
            "1563/1563 [==============================] - 25s 16ms/step - loss: 0.1488 - accuracy: 0.9514 - val_loss: 1.3022 - val_accuracy: 0.6935\n",
            "Epoch 45/50\n",
            "1563/1563 [==============================] - 25s 16ms/step - loss: 0.1474 - accuracy: 0.9511 - val_loss: 1.1881 - val_accuracy: 0.7088\n",
            "Epoch 46/50\n",
            "1563/1563 [==============================] - 25s 16ms/step - loss: 0.1379 - accuracy: 0.9526 - val_loss: 1.7992 - val_accuracy: 0.7260\n",
            "Epoch 47/50\n",
            "1563/1563 [==============================] - 25s 16ms/step - loss: 0.1507 - accuracy: 0.9515 - val_loss: 1.5706 - val_accuracy: 0.7252\n",
            "Epoch 48/50\n",
            "1563/1563 [==============================] - 25s 16ms/step - loss: 0.1400 - accuracy: 0.9536 - val_loss: 1.2413 - val_accuracy: 0.6787\n",
            "Epoch 49/50\n",
            "1563/1563 [==============================] - 26s 17ms/step - loss: 0.1355 - accuracy: 0.9548 - val_loss: 3.0280 - val_accuracy: 0.7272\n",
            "Epoch 50/50\n",
            "1563/1563 [==============================] - 27s 17ms/step - loss: 0.1427 - accuracy: 0.9546 - val_loss: 1.3229 - val_accuracy: 0.7182\n"
          ]
        }
      ]
    },
    {
      "cell_type": "code",
      "source": [
        "## plotting the loss and accuracy graphs\n",
        "plt.plot(r.history[\"loss\"], label = \"Loss\")\n",
        "plt.plot(r.history[\"val_loss\"], label = \"Validation Loss\")\n",
        "plt.legend();"
      ],
      "metadata": {
        "colab": {
          "base_uri": "https://localhost:8080/",
          "height": 265
        },
        "id": "QkrGt3JpSwbc",
        "outputId": "f9424fa8-01e1-4092-d24d-a30c98fd0952"
      },
      "execution_count": 12,
      "outputs": [
        {
          "output_type": "display_data",
          "data": {
            "text/plain": [
              "<Figure size 432x288 with 1 Axes>"
            ],
            "image/png": "[encoded data removed]"
          },
          "metadata": {
            "needs_background": "light"
          }
        }
      ]
    },
    {
      "cell_type": "code",
      "source": [
        "plt.plot(r.history[\"accuracy\"], label = \"Accuracy\")\n",
        "plt.plot(r.history[\"val_accuracy\"], label = \"Validation Accuracy\")\n",
        "plt.legend();"
      ],
      "metadata": {
        "colab": {
          "base_uri": "https://localhost:8080/",
          "height": 265
        },
        "id": "tg1OqjFUSxzU",
        "outputId": "b29b6a18-8c72-477a-ba08-8d3d7dd93a2b"
      },
      "execution_count": 13,
      "outputs": [
        {
          "output_type": "display_data",
          "data": {
            "text/plain": [
              "<Figure size 432x288 with 1 Axes>"
            ],
            "image/png": "[encoded data removed]"
          },
          "metadata": {
            "needs_background": "light"
          }
        }
      ]
    },
    {
      "cell_type": "markdown",
      "source": [
        "IMAGE AUGMENTATION PROCESS"
      ],
      "metadata": {
        "id": "VX4M_Bv5Ppv-"
      }
    },
    {
      "cell_type": "code",
      "source": [
        "## initialize the batch size\n",
        "batch_size = 32\n",
        "## define the data generator using keras ImageDataGenerator()\n",
        "## add the width shifting, height shifting and horizontal flipping on the images.\n",
        "data_generator = tf.keras.preprocessing.image.ImageDataGenerator(\n",
        "    width_shift_range = 0.1,\n",
        "    height_shift_range = 0.1,\n",
        "    horizontal_flip = True\n",
        ")\n",
        "## now generate the data for training using the above augmentation methods.\n",
        "train_generator = data_generator.flow(\n",
        "    train_images, train_labels, batch_size\n",
        ")\n",
        "\n",
        "## initiate the steps_per_epoch\n",
        "steps_per_epoch = train_images.shape[0] // batch_size"
      ],
      "metadata": {
        "id": "fQicr1vSN18C"
      },
      "execution_count": 14,
      "outputs": []
    },
    {
      "cell_type": "markdown",
      "source": [
        "TRAIN THE MODEL USING NEW DATA AFTER AUGMENTATION"
      ],
      "metadata": {
        "id": "Q-3WNydUQ_y9"
      }
    },
    {
      "cell_type": "code",
      "source": [
        "## fit the model\n",
        "r = model.fit_generator(\n",
        "    train_generator,\n",
        "    validation_data = (test_images, test_labels),\n",
        "    steps_per_epoch = steps_per_epoch,\n",
        "    epochs = 50\n",
        ")"
      ],
      "metadata": {
        "colab": {
          "base_uri": "https://localhost:8080/"
        },
        "id": "DoK4UiFAQ_Os",
        "outputId": "8a148e65-cdac-4309-dff4-c62f642f5051"
      },
      "execution_count": 16,
      "outputs": [
        {
          "output_type": "stream",
          "name": "stdout",
          "text": [
            "Epoch 1/50\n"
          ]
        },
        {
          "output_type": "stream",
          "name": "stderr",
          "text": [
            "<ipython-input-16-eebccdad0ff5>:2: UserWarning: `Model.fit_generator` is deprecated and will be removed in a future version. Please use `Model.fit`, which supports generators.\n",
            "  r = model.fit_generator(\n"
          ]
        },
        {
          "output_type": "stream",
          "name": "stdout",
          "text": [
            "1562/1562 [==============================] - 37s 24ms/step - loss: 1.1357 - accuracy: 0.6308 - val_loss: 0.9298 - val_accuracy: 0.7219\n",
            "Epoch 2/50\n",
            "1562/1562 [==============================] - 37s 24ms/step - loss: 0.9368 - accuracy: 0.6865 - val_loss: 0.8945 - val_accuracy: 0.7163\n",
            "Epoch 3/50\n",
            "1562/1562 [==============================] - 36s 23ms/step - loss: 0.8874 - accuracy: 0.7006 - val_loss: 2.9837 - val_accuracy: 0.6629\n",
            "Epoch 4/50\n",
            "1562/1562 [==============================] - 37s 24ms/step - loss: 0.8564 - accuracy: 0.7108 - val_loss: 0.8094 - val_accuracy: 0.7397\n",
            "Epoch 5/50\n",
            "1562/1562 [==============================] - 37s 23ms/step - loss: 0.8316 - accuracy: 0.7184 - val_loss: 0.8262 - val_accuracy: 0.7375\n",
            "Epoch 6/50\n",
            "1562/1562 [==============================] - 37s 24ms/step - loss: 0.8079 - accuracy: 0.7287 - val_loss: 0.7728 - val_accuracy: 0.7391\n",
            "Epoch 7/50\n",
            "1562/1562 [==============================] - 37s 23ms/step - loss: 0.7927 - accuracy: 0.7319 - val_loss: 0.8237 - val_accuracy: 0.7442\n",
            "Epoch 8/50\n",
            "1562/1562 [==============================] - 36s 23ms/step - loss: 0.7825 - accuracy: 0.7357 - val_loss: 0.7176 - val_accuracy: 0.7641\n",
            "Epoch 9/50\n",
            "1562/1562 [==============================] - 36s 23ms/step - loss: 0.7620 - accuracy: 0.7413 - val_loss: 0.7237 - val_accuracy: 0.7634\n",
            "Epoch 10/50\n",
            "1562/1562 [==============================] - 36s 23ms/step - loss: 0.7560 - accuracy: 0.7467 - val_loss: 0.7933 - val_accuracy: 0.7574\n",
            "Epoch 11/50\n",
            "1562/1562 [==============================] - 36s 23ms/step - loss: 0.7338 - accuracy: 0.7531 - val_loss: 0.8596 - val_accuracy: 0.7481\n",
            "Epoch 12/50\n",
            "1562/1562 [==============================] - 36s 23ms/step - loss: 0.7328 - accuracy: 0.7532 - val_loss: 0.7410 - val_accuracy: 0.7531\n",
            "Epoch 13/50\n",
            "1562/1562 [==============================] - 36s 23ms/step - loss: 0.7132 - accuracy: 0.7582 - val_loss: 0.7548 - val_accuracy: 0.7700\n",
            "Epoch 14/50\n",
            "1562/1562 [==============================] - 36s 23ms/step - loss: 0.7057 - accuracy: 0.7612 - val_loss: 0.6995 - val_accuracy: 0.7731\n",
            "Epoch 15/50\n",
            "1562/1562 [==============================] - 36s 23ms/step - loss: 0.6971 - accuracy: 0.7645 - val_loss: 0.6990 - val_accuracy: 0.7719\n",
            "Epoch 16/50\n",
            "1562/1562 [==============================] - 36s 23ms/step - loss: 0.6911 - accuracy: 0.7670 - val_loss: 1.0813 - val_accuracy: 0.7496\n",
            "Epoch 17/50\n",
            "1562/1562 [==============================] - 36s 23ms/step - loss: 0.6810 - accuracy: 0.7690 - val_loss: 0.6607 - val_accuracy: 0.7797\n",
            "Epoch 18/50\n",
            "1562/1562 [==============================] - 35s 22ms/step - loss: 0.6703 - accuracy: 0.7734 - val_loss: 0.7606 - val_accuracy: 0.7718\n",
            "Epoch 19/50\n",
            "1562/1562 [==============================] - 36s 23ms/step - loss: 0.6649 - accuracy: 0.7746 - val_loss: 0.7784 - val_accuracy: 0.7761\n",
            "Epoch 20/50\n",
            "1562/1562 [==============================] - 36s 23ms/step - loss: 0.6570 - accuracy: 0.7779 - val_loss: 0.7240 - val_accuracy: 0.7833\n",
            "Epoch 21/50\n",
            "1562/1562 [==============================] - 36s 23ms/step - loss: 0.6464 - accuracy: 0.7809 - val_loss: 0.7179 - val_accuracy: 0.7887\n",
            "Epoch 22/50\n",
            "1562/1562 [==============================] - 37s 23ms/step - loss: 0.6459 - accuracy: 0.7819 - val_loss: 0.7309 - val_accuracy: 0.7634\n",
            "Epoch 23/50\n",
            "1562/1562 [==============================] - 36s 23ms/step - loss: 0.6293 - accuracy: 0.7869 - val_loss: 0.7290 - val_accuracy: 0.7862\n",
            "Epoch 24/50\n",
            "1562/1562 [==============================] - 36s 23ms/step - loss: 0.6313 - accuracy: 0.7885 - val_loss: 0.8087 - val_accuracy: 0.7840\n",
            "Epoch 25/50\n",
            "1562/1562 [==============================] - 36s 23ms/step - loss: 0.6266 - accuracy: 0.7881 - val_loss: 0.7237 - val_accuracy: 0.7844\n",
            "Epoch 26/50\n",
            "1562/1562 [==============================] - 36s 23ms/step - loss: 0.6177 - accuracy: 0.7911 - val_loss: 0.6612 - val_accuracy: 0.7856\n",
            "Epoch 27/50\n",
            "1562/1562 [==============================] - 37s 24ms/step - loss: 0.6198 - accuracy: 0.7910 - val_loss: 0.8797 - val_accuracy: 0.7825\n",
            "Epoch 28/50\n",
            "1562/1562 [==============================] - 36s 23ms/step - loss: 0.6181 - accuracy: 0.7896 - val_loss: 0.6798 - val_accuracy: 0.8000\n",
            "Epoch 29/50\n",
            "1562/1562 [==============================] - 36s 23ms/step - loss: 0.6088 - accuracy: 0.7951 - val_loss: 0.6837 - val_accuracy: 0.7812\n",
            "Epoch 30/50\n",
            "1562/1562 [==============================] - 36s 23ms/step - loss: 0.5963 - accuracy: 0.7996 - val_loss: 0.8168 - val_accuracy: 0.7811\n",
            "Epoch 31/50\n",
            "1562/1562 [==============================] - 35s 23ms/step - loss: 0.5904 - accuracy: 0.8019 - val_loss: 0.6853 - val_accuracy: 0.7954\n",
            "Epoch 32/50\n",
            "1562/1562 [==============================] - 36s 23ms/step - loss: 0.5903 - accuracy: 0.8006 - val_loss: 0.7126 - val_accuracy: 0.7847\n",
            "Epoch 33/50\n",
            "1562/1562 [==============================] - 36s 23ms/step - loss: 0.5890 - accuracy: 0.8021 - val_loss: 0.6317 - val_accuracy: 0.7924\n",
            "Epoch 34/50\n",
            "1562/1562 [==============================] - 36s 23ms/step - loss: 0.5852 - accuracy: 0.8032 - val_loss: 0.6484 - val_accuracy: 0.8011\n",
            "Epoch 35/50\n",
            "1562/1562 [==============================] - 36s 23ms/step - loss: 0.5709 - accuracy: 0.8069 - val_loss: 0.7713 - val_accuracy: 0.7907\n",
            "Epoch 36/50\n",
            "1562/1562 [==============================] - 37s 24ms/step - loss: 0.5754 - accuracy: 0.8057 - val_loss: 0.6285 - val_accuracy: 0.7968\n",
            "Epoch 37/50\n",
            "1562/1562 [==============================] - 37s 24ms/step - loss: 0.5653 - accuracy: 0.8089 - val_loss: 0.7418 - val_accuracy: 0.7888\n",
            "Epoch 38/50\n",
            "1562/1562 [==============================] - 38s 24ms/step - loss: 0.5665 - accuracy: 0.8105 - val_loss: 1.3021 - val_accuracy: 0.7726\n",
            "Epoch 39/50\n",
            "1562/1562 [==============================] - 37s 24ms/step - loss: 0.5626 - accuracy: 0.8113 - val_loss: 1.0338 - val_accuracy: 0.7858\n",
            "Epoch 40/50\n",
            "1562/1562 [==============================] - 37s 23ms/step - loss: 0.5528 - accuracy: 0.8132 - val_loss: 0.8725 - val_accuracy: 0.8018\n",
            "Epoch 41/50\n",
            "1562/1562 [==============================] - 37s 24ms/step - loss: 0.5591 - accuracy: 0.8132 - val_loss: 1.0440 - val_accuracy: 0.7817\n",
            "Epoch 42/50\n",
            "1562/1562 [==============================] - 36s 23ms/step - loss: 0.5491 - accuracy: 0.8155 - val_loss: 0.6405 - val_accuracy: 0.8044\n",
            "Epoch 43/50\n",
            "1562/1562 [==============================] - 41s 26ms/step - loss: 0.5445 - accuracy: 0.8179 - val_loss: 0.6198 - val_accuracy: 0.8106\n",
            "Epoch 44/50\n",
            "1562/1562 [==============================] - 39s 25ms/step - loss: 0.5487 - accuracy: 0.8141 - val_loss: 0.8884 - val_accuracy: 0.7824\n",
            "Epoch 45/50\n",
            "1562/1562 [==============================] - 36s 23ms/step - loss: 0.5445 - accuracy: 0.8169 - val_loss: 0.6332 - val_accuracy: 0.8013\n",
            "Epoch 46/50\n",
            "1562/1562 [==============================] - 36s 23ms/step - loss: 0.5423 - accuracy: 0.8184 - val_loss: 0.9374 - val_accuracy: 0.7913\n",
            "Epoch 47/50\n",
            "1562/1562 [==============================] - 37s 24ms/step - loss: 0.5365 - accuracy: 0.8208 - val_loss: 0.6105 - val_accuracy: 0.8073\n",
            "Epoch 48/50\n",
            "1562/1562 [==============================] - 37s 24ms/step - loss: 0.5365 - accuracy: 0.8203 - val_loss: 0.7435 - val_accuracy: 0.7942\n",
            "Epoch 49/50\n",
            "1562/1562 [==============================] - 37s 23ms/step - loss: 0.5278 - accuracy: 0.8208 - val_loss: 0.6536 - val_accuracy: 0.8109\n",
            "Epoch 50/50\n",
            "1562/1562 [==============================] - 37s 24ms/step - loss: 0.5280 - accuracy: 0.8220 - val_loss: 0.8502 - val_accuracy: 0.8000\n"
          ]
        }
      ]
    },
    {
      "cell_type": "markdown",
      "source": [
        "PLOT THE ACCURACY AND LOSSES"
      ],
      "metadata": {
        "id": "CpPpckX_RY0c"
      }
    },
    {
      "cell_type": "code",
      "source": [
        "## plotting the loss and accuracy graphs\n",
        "plt.plot(r.history[\"loss\"], label = \"Loss\")\n",
        "plt.plot(r.history[\"val_loss\"], label = \"Validation Loss\")\n",
        "plt.legend();"
      ],
      "metadata": {
        "colab": {
          "base_uri": "https://localhost:8080/",
          "height": 265
        },
        "id": "QnV3NOX6RcGX",
        "outputId": "76274763-5fae-4a95-8d9c-e917fb12dae4"
      },
      "execution_count": 17,
      "outputs": [
        {
          "output_type": "display_data",
          "data": {
            "text/plain": [
              "<Figure size 432x288 with 1 Axes>"
            ],
            "image/png": "[encoded data removed]"
          },
          "metadata": {
            "needs_background": "light"
          }
        }
      ]
    },
    {
      "cell_type": "code",
      "source": [
        "plt.plot(r.history[\"accuracy\"], label = \"Accuracy\")\n",
        "plt.plot(r.history[\"val_accuracy\"], label = \"Validation Accuracy\")\n",
        "plt.legend();"
      ],
      "metadata": {
        "colab": {
          "base_uri": "https://localhost:8080/",
          "height": 265
        },
        "id": "NtrYU5jyRfva",
        "outputId": "ade0d00b-2c8e-4420-9ce5-cd872ce2aec7"
      },
      "execution_count": 18,
      "outputs": [
        {
          "output_type": "display_data",
          "data": {
            "text/plain": [
              "<Figure size 432x288 with 1 Axes>"
            ],
            "image/png": "[encoded data removed]"
          },
          "metadata": {
            "needs_background": "light"
          }
        }
      ]
    },
    {
      "cell_type": "markdown",
      "source": [
        "Now we have a Generalized model than Earlier.\n",
        "+ Here Accuracy and validation Accuracy are almost same.\n",
        "+ So there is no Overfitting.\n",
        "\n",
        "\n",
        "***"
      ],
      "metadata": {
        "id": "iJCl7bCqayCx"
      }
    }
  ]
}