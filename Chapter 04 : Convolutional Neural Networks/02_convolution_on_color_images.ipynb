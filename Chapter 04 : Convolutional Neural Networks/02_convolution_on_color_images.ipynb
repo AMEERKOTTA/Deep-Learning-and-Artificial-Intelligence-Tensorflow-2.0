{
  "nbformat": 4,
  "nbformat_minor": 0,
  "metadata": {
    "colab": {
      "provenance": [],
      "authorship_tag": "ABX9TyPC77+iTCHf/A9w89nnmz8c",
      "include_colab_link": true
    },
    "kernelspec": {
      "name": "python3",
      "display_name": "Python 3"
    },
    "language_info": {
      "name": "python"
    }
  },
  "cells": [
    {
      "cell_type": "markdown",
      "metadata": {
        "id": "view-in-github",
        "colab_type": "text"
      },
      "source": [
        "<a href=\"https://colab.research.google.com/github/AMEERKOTTA/Deep-Learning-and-Artificial-Intelligence-Tensorflow-2.0/blob/main/Chapter%2004%20%3A%20Convolutional%20Neural%20Networks/02_convolution_on_color_images.ipynb\" target=\"_parent\"><img src=\"https://colab.research.google.com/assets/colab-badge.svg\" alt=\"Open In Colab\"/></a>"
      ]
    },
    {
      "cell_type": "markdown",
      "source": [
        "# **CONVOLUTION ON THE COLOR IMAGES**\n",
        "\n",
        "+ Images are 3D Objects - `[height x width x color]`\n",
        "+ Previously we defined convolution for 2D (grayscale) images and Corresponding 2D filters.\n",
        "+ So, Extending this to Color Images by Saying the filter should just have the same depth, then we dot along all 3 axes.\n",
        "+ This breaks the Uniformity, because input is 3D and output is 2D.\n",
        "+ So, we wouldn't be able to stack multiple convolutions sequentially.\n",
        "+ Then we extended this further by noting that each layer should find multiple features. (using multiple filters)\n",
        "+ This results in multiple 2D outputs (one per filter) which we can stack to get a 3D image once again.\n",
        "\n",
        "\n",
        "FEATURE MAPS\n",
        "\n",
        "+ The input to the Neural Networks is true Color Images `[H x W x 3]`.\n",
        "+ But after subsequent convolutions, we will just have `[H x W x (arbitrary number)]`.\n",
        "+ So, the 3rd dimension is not necessirily the Color Channel.\n",
        "+ So, we call these Feature Maps.\n",
        "+ e.g :- each 2D image is a Map that tells us where the feature is found.\n",
        "+ We thus call the Size of the final dimension the \n",
        "    + number of channels\n",
        "    + number of feature maps."
      ],
      "metadata": {
        "id": "ztHTbArsY8kJ"
      }
    },
    {
      "cell_type": "code",
      "source": [],
      "metadata": {
        "id": "063zQ-pVZETD"
      },
      "execution_count": null,
      "outputs": []
    }
  ]
}