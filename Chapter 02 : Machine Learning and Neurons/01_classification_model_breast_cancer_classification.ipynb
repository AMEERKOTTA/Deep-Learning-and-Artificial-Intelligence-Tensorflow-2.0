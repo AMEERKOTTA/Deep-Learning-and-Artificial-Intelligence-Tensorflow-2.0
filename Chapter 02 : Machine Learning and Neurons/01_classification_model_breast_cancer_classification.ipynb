{
  "nbformat": 4,
  "nbformat_minor": 0,
  "metadata": {
    "colab": {
      "provenance": [],
      "authorship_tag": "ABX9TyPSqJSQc8koYR5u7OKwsFhU",
      "include_colab_link": true
    },
    "kernelspec": {
      "name": "python3",
      "display_name": "Python 3"
    },
    "language_info": {
      "name": "python"
    }
  },
  "cells": [
    {
      "cell_type": "markdown",
      "metadata": {
        "id": "view-in-github",
        "colab_type": "text"
      },
      "source": [
        "<a href=\"https://colab.research.google.com/github/AMEERKOTTA/Deep-Learning-and-Artificial-Intelligence-Tensorflow-2.0/blob/main/Chapter%2002%20%3A%20Machine%20Learning%20and%20Neurons/01_classification_model_breast_cancer_classification.ipynb\" target=\"_parent\"><img src=\"https://colab.research.google.com/assets/colab-badge.svg\" alt=\"Open In Colab\"/></a>"
      ]
    },
    {
      "cell_type": "markdown",
      "source": [
        "# **BREAST CANCER CLASSIFICATION**\n",
        "\n",
        "+ We will be Using the Breast Cancer Dataset from Sklearn Library.\n",
        "+ "
      ],
      "metadata": {
        "id": "UEF9YLq99QuO"
      }
    },
    {
      "cell_type": "code",
      "source": [
        "try:\n",
        "  %tensorflow_version 2.x\n",
        "except Exception:\n",
        "  pass\n",
        "\n",
        "import tensorflow as tf\n",
        "print(tf.__version__)"
      ],
      "metadata": {
        "colab": {
          "base_uri": "https://localhost:8080/"
        },
        "id": "_yRqc7mu9U9-",
        "outputId": "2d170beb-7c76-454f-92bd-b11ed5c856c4"
      },
      "execution_count": 1,
      "outputs": [
        {
          "output_type": "stream",
          "name": "stdout",
          "text": [
            "Colab only includes TensorFlow 2.x; %tensorflow_version has no effect.\n",
            "2.11.0\n"
          ]
        }
      ]
    },
    {
      "cell_type": "markdown",
      "source": [
        "GET THE DATA"
      ],
      "metadata": {
        "id": "lW-t3netDp3q"
      }
    },
    {
      "cell_type": "code",
      "source": [
        "from sklearn.datasets import load_breast_cancer\n",
        "data = load_breast_cancer()\n",
        "print(\"The Keys of the Data :--\", data.keys())\n",
        "print(\"The Data :--\", data.data.shape)\n",
        "## data is the numpy array of shape 569 samples and 30 features.\n",
        "print(\"The Target :--\", data.target.shape)\n",
        "## the target is the labels of the data.\n",
        "## there are 569 datapoints.\n",
        "## this is a binary classifier. with class 1 and 0.\n",
        "print(\"Classes are :--\", data.target_names)\n",
        "## Classes are :-- ['malignant' 'benign']\n",
        "## 1 -- Mallignant\n",
        "## 0 -- Benign.\n",
        "print(\"Feature Names are :--\", data.feature_names)\n",
        "## there are 30 feature names."
      ],
      "metadata": {
        "colab": {
          "base_uri": "https://localhost:8080/"
        },
        "id": "uI3GCgGi9uDx",
        "outputId": "a730b63e-4601-47e6-ddd7-567c67c2804e"
      },
      "execution_count": 11,
      "outputs": [
        {
          "output_type": "stream",
          "name": "stdout",
          "text": [
            "The Keys of the Data :-- dict_keys(['data', 'target', 'frame', 'target_names', 'DESCR', 'feature_names', 'filename', 'data_module'])\n",
            "The Data :-- (569, 30)\n",
            "The Target :-- (569,)\n",
            "Classes are :-- ['malignant' 'benign']\n",
            "Feature Names are :-- ['mean radius' 'mean texture' 'mean perimeter' 'mean area'\n",
            " 'mean smoothness' 'mean compactness' 'mean concavity'\n",
            " 'mean concave points' 'mean symmetry' 'mean fractal dimension'\n",
            " 'radius error' 'texture error' 'perimeter error' 'area error'\n",
            " 'smoothness error' 'compactness error' 'concavity error'\n",
            " 'concave points error' 'symmetry error' 'fractal dimension error'\n",
            " 'worst radius' 'worst texture' 'worst perimeter' 'worst area'\n",
            " 'worst smoothness' 'worst compactness' 'worst concavity'\n",
            " 'worst concave points' 'worst symmetry' 'worst fractal dimension']\n"
          ]
        }
      ]
    },
    {
      "cell_type": "markdown",
      "source": [
        "TRAIN TEST SPLIT.\n",
        "\n",
        "+ Do the train test split the data using train_test_split method."
      ],
      "metadata": {
        "id": "9ZjQzxMsFJI2"
      }
    },
    {
      "cell_type": "code",
      "source": [
        "from sklearn.model_selection import train_test_split\n",
        "X_train, X_test, y_train, y_test = train_test_split(data.data, data.target, test_size = 0.33, random_state = 42)\n",
        "print(X_train.shape)  ## tarining data\n",
        "print(X_test.shape)   ## testing data\n",
        "print(y_train.shape)  ## tarining labels\n",
        "print(y_test.shape)   ## testing labels"
      ],
      "metadata": {
        "colab": {
          "base_uri": "https://localhost:8080/"
        },
        "id": "Jc31Eo7JD-FE",
        "outputId": "3fde52b0-a3ae-4ec7-bb94-fba58c7d2b8b"
      },
      "execution_count": 14,
      "outputs": [
        {
          "output_type": "stream",
          "name": "stdout",
          "text": [
            "(381, 30)\n",
            "(188, 30)\n",
            "(381,)\n",
            "(188,)\n"
          ]
        }
      ]
    },
    {
      "cell_type": "markdown",
      "source": [
        "STANDARDIZE THE MODEL\n",
        "\n",
        "+ Standardize the training data using StandardScaler\n"
      ],
      "metadata": {
        "id": "sU_OIyeCF_Ix"
      }
    },
    {
      "cell_type": "code",
      "source": [
        "from sklearn.preprocessing import StandardScaler\n",
        "scaler = StandardScaler()\n",
        "\n",
        "X_train = scaler.fit_transform(X_train)\n",
        "X_test = scaler.transform(X_test)"
      ],
      "metadata": {
        "id": "MnQmtSJ5Fs91"
      },
      "execution_count": 15,
      "outputs": []
    },
    {
      "cell_type": "markdown",
      "source": [
        "MODEL DEVELOPMENT"
      ],
      "metadata": {
        "id": "8wHjxWNrGcIX"
      }
    },
    {
      "cell_type": "code",
      "source": [
        "model = tf.keras.models.Sequential([\n",
        "    tf.keras.layers.Input(shape = X_train.shape[1]),\n",
        "    tf.keras.layers.Dense(1, activation = \"sigmoid\")\n",
        "])\n",
        "model.summary()"
      ],
      "metadata": {
        "colab": {
          "base_uri": "https://localhost:8080/"
        },
        "id": "h4H8MWoCGam-",
        "outputId": "df278831-0d52-44ce-a439-c5f47fce4404"
      },
      "execution_count": 17,
      "outputs": [
        {
          "output_type": "stream",
          "name": "stdout",
          "text": [
            "Model: \"sequential_1\"\n",
            "_________________________________________________________________\n",
            " Layer (type)                Output Shape              Param #   \n",
            "=================================================================\n",
            " dense_1 (Dense)             (None, 1)                 31        \n",
            "                                                                 \n",
            "=================================================================\n",
            "Total params: 31\n",
            "Trainable params: 31\n",
            "Non-trainable params: 0\n",
            "_________________________________________________________________\n"
          ]
        }
      ]
    },
    {
      "cell_type": "markdown",
      "source": [
        "COMPILE THE MODEL"
      ],
      "metadata": {
        "id": "8p3RgUWWG7Nw"
      }
    },
    {
      "cell_type": "code",
      "source": [
        "model.compile(\n",
        "    optimizer = \"adam\",\n",
        "    loss = \"binary_crossentropy\",\n",
        "    metrics=[\"accuracy\"]\n",
        ")"
      ],
      "metadata": {
        "id": "B6PWAXYxGz_E"
      },
      "execution_count": 18,
      "outputs": []
    },
    {
      "cell_type": "markdown",
      "source": [
        "FIT AND TRAIN THE MODEL"
      ],
      "metadata": {
        "id": "6pJqSHo_HKX3"
      }
    },
    {
      "cell_type": "code",
      "source": [
        "r = model.fit(\n",
        "    X_train, y_train, \n",
        "    validation_data = (X_test, y_test),\n",
        "    epochs = 100\n",
        ")"
      ],
      "metadata": {
        "colab": {
          "base_uri": "https://localhost:8080/"
        },
        "id": "TZdib5GtHJki",
        "outputId": "9cdbbd46-7431-402c-911f-8dbb778502f6"
      },
      "execution_count": 19,
      "outputs": [
        {
          "output_type": "stream",
          "name": "stdout",
          "text": [
            "Epoch 1/100\n",
            "12/12 [==============================] - 1s 16ms/step - loss: 0.6716 - accuracy: 0.5958 - val_loss: 0.6402 - val_accuracy: 0.6489\n",
            "Epoch 2/100\n",
            "12/12 [==============================] - 0s 4ms/step - loss: 0.6060 - accuracy: 0.7008 - val_loss: 0.5771 - val_accuracy: 0.7660\n",
            "Epoch 3/100\n",
            "12/12 [==============================] - 0s 4ms/step - loss: 0.5524 - accuracy: 0.7454 - val_loss: 0.5226 - val_accuracy: 0.8298\n",
            "Epoch 4/100\n",
            "12/12 [==============================] - 0s 4ms/step - loss: 0.5052 - accuracy: 0.7927 - val_loss: 0.4781 - val_accuracy: 0.8511\n",
            "Epoch 5/100\n",
            "12/12 [==============================] - 0s 4ms/step - loss: 0.4658 - accuracy: 0.8399 - val_loss: 0.4409 - val_accuracy: 0.8723\n",
            "Epoch 6/100\n",
            "12/12 [==============================] - 0s 4ms/step - loss: 0.4330 - accuracy: 0.8583 - val_loss: 0.4092 - val_accuracy: 0.8936\n",
            "Epoch 7/100\n",
            "12/12 [==============================] - 0s 4ms/step - loss: 0.4047 - accuracy: 0.8845 - val_loss: 0.3822 - val_accuracy: 0.9149\n",
            "Epoch 8/100\n",
            "12/12 [==============================] - 0s 5ms/step - loss: 0.3804 - accuracy: 0.8924 - val_loss: 0.3590 - val_accuracy: 0.9202\n",
            "Epoch 9/100\n",
            "12/12 [==============================] - 0s 4ms/step - loss: 0.3590 - accuracy: 0.9108 - val_loss: 0.3392 - val_accuracy: 0.9255\n",
            "Epoch 10/100\n",
            "12/12 [==============================] - 0s 5ms/step - loss: 0.3410 - accuracy: 0.9239 - val_loss: 0.3214 - val_accuracy: 0.9468\n",
            "Epoch 11/100\n",
            "12/12 [==============================] - 0s 4ms/step - loss: 0.3247 - accuracy: 0.9318 - val_loss: 0.3056 - val_accuracy: 0.9521\n",
            "Epoch 12/100\n",
            "12/12 [==============================] - 0s 5ms/step - loss: 0.3104 - accuracy: 0.9344 - val_loss: 0.2918 - val_accuracy: 0.9521\n",
            "Epoch 13/100\n",
            "12/12 [==============================] - 0s 5ms/step - loss: 0.2974 - accuracy: 0.9396 - val_loss: 0.2794 - val_accuracy: 0.9521\n",
            "Epoch 14/100\n",
            "12/12 [==============================] - 0s 4ms/step - loss: 0.2857 - accuracy: 0.9396 - val_loss: 0.2682 - val_accuracy: 0.9574\n",
            "Epoch 15/100\n",
            "12/12 [==============================] - 0s 4ms/step - loss: 0.2751 - accuracy: 0.9396 - val_loss: 0.2581 - val_accuracy: 0.9574\n",
            "Epoch 16/100\n",
            "12/12 [==============================] - 0s 4ms/step - loss: 0.2657 - accuracy: 0.9370 - val_loss: 0.2488 - val_accuracy: 0.9628\n",
            "Epoch 17/100\n",
            "12/12 [==============================] - 0s 4ms/step - loss: 0.2568 - accuracy: 0.9423 - val_loss: 0.2403 - val_accuracy: 0.9628\n",
            "Epoch 18/100\n",
            "12/12 [==============================] - 0s 5ms/step - loss: 0.2489 - accuracy: 0.9449 - val_loss: 0.2324 - val_accuracy: 0.9734\n",
            "Epoch 19/100\n",
            "12/12 [==============================] - 0s 4ms/step - loss: 0.2414 - accuracy: 0.9501 - val_loss: 0.2251 - val_accuracy: 0.9734\n",
            "Epoch 20/100\n",
            "12/12 [==============================] - 0s 5ms/step - loss: 0.2344 - accuracy: 0.9501 - val_loss: 0.2185 - val_accuracy: 0.9734\n",
            "Epoch 21/100\n",
            "12/12 [==============================] - 0s 5ms/step - loss: 0.2281 - accuracy: 0.9475 - val_loss: 0.2122 - val_accuracy: 0.9734\n",
            "Epoch 22/100\n",
            "12/12 [==============================] - 0s 4ms/step - loss: 0.2221 - accuracy: 0.9475 - val_loss: 0.2064 - val_accuracy: 0.9734\n",
            "Epoch 23/100\n",
            "12/12 [==============================] - 0s 5ms/step - loss: 0.2165 - accuracy: 0.9501 - val_loss: 0.2009 - val_accuracy: 0.9734\n",
            "Epoch 24/100\n",
            "12/12 [==============================] - 0s 4ms/step - loss: 0.2114 - accuracy: 0.9528 - val_loss: 0.1958 - val_accuracy: 0.9734\n",
            "Epoch 25/100\n",
            "12/12 [==============================] - 0s 8ms/step - loss: 0.2065 - accuracy: 0.9528 - val_loss: 0.1909 - val_accuracy: 0.9734\n",
            "Epoch 26/100\n",
            "12/12 [==============================] - 0s 17ms/step - loss: 0.2018 - accuracy: 0.9528 - val_loss: 0.1865 - val_accuracy: 0.9734\n",
            "Epoch 27/100\n",
            "12/12 [==============================] - 0s 14ms/step - loss: 0.1976 - accuracy: 0.9528 - val_loss: 0.1822 - val_accuracy: 0.9734\n",
            "Epoch 28/100\n",
            "12/12 [==============================] - 0s 22ms/step - loss: 0.1935 - accuracy: 0.9554 - val_loss: 0.1781 - val_accuracy: 0.9734\n",
            "Epoch 29/100\n",
            "12/12 [==============================] - 0s 13ms/step - loss: 0.1896 - accuracy: 0.9554 - val_loss: 0.1744 - val_accuracy: 0.9734\n",
            "Epoch 30/100\n",
            "12/12 [==============================] - 0s 8ms/step - loss: 0.1861 - accuracy: 0.9580 - val_loss: 0.1706 - val_accuracy: 0.9734\n",
            "Epoch 31/100\n",
            "12/12 [==============================] - 0s 10ms/step - loss: 0.1825 - accuracy: 0.9580 - val_loss: 0.1672 - val_accuracy: 0.9734\n",
            "Epoch 32/100\n",
            "12/12 [==============================] - 0s 4ms/step - loss: 0.1793 - accuracy: 0.9580 - val_loss: 0.1639 - val_accuracy: 0.9734\n",
            "Epoch 33/100\n",
            "12/12 [==============================] - 0s 4ms/step - loss: 0.1762 - accuracy: 0.9580 - val_loss: 0.1608 - val_accuracy: 0.9734\n",
            "Epoch 34/100\n",
            "12/12 [==============================] - 0s 3ms/step - loss: 0.1733 - accuracy: 0.9580 - val_loss: 0.1579 - val_accuracy: 0.9787\n",
            "Epoch 35/100\n",
            "12/12 [==============================] - 0s 6ms/step - loss: 0.1704 - accuracy: 0.9580 - val_loss: 0.1551 - val_accuracy: 0.9787\n",
            "Epoch 36/100\n",
            "12/12 [==============================] - 0s 4ms/step - loss: 0.1677 - accuracy: 0.9606 - val_loss: 0.1524 - val_accuracy: 0.9787\n",
            "Epoch 37/100\n",
            "12/12 [==============================] - 0s 4ms/step - loss: 0.1652 - accuracy: 0.9606 - val_loss: 0.1498 - val_accuracy: 0.9787\n",
            "Epoch 38/100\n",
            "12/12 [==============================] - 0s 4ms/step - loss: 0.1627 - accuracy: 0.9606 - val_loss: 0.1473 - val_accuracy: 0.9787\n",
            "Epoch 39/100\n",
            "12/12 [==============================] - 0s 4ms/step - loss: 0.1605 - accuracy: 0.9606 - val_loss: 0.1449 - val_accuracy: 0.9787\n",
            "Epoch 40/100\n",
            "12/12 [==============================] - 0s 4ms/step - loss: 0.1583 - accuracy: 0.9606 - val_loss: 0.1426 - val_accuracy: 0.9787\n",
            "Epoch 41/100\n",
            "12/12 [==============================] - 0s 4ms/step - loss: 0.1561 - accuracy: 0.9633 - val_loss: 0.1404 - val_accuracy: 0.9787\n",
            "Epoch 42/100\n",
            "12/12 [==============================] - 0s 4ms/step - loss: 0.1540 - accuracy: 0.9659 - val_loss: 0.1383 - val_accuracy: 0.9787\n",
            "Epoch 43/100\n",
            "12/12 [==============================] - 0s 4ms/step - loss: 0.1520 - accuracy: 0.9659 - val_loss: 0.1364 - val_accuracy: 0.9787\n",
            "Epoch 44/100\n",
            "12/12 [==============================] - 0s 4ms/step - loss: 0.1502 - accuracy: 0.9659 - val_loss: 0.1344 - val_accuracy: 0.9840\n",
            "Epoch 45/100\n",
            "12/12 [==============================] - 0s 5ms/step - loss: 0.1484 - accuracy: 0.9659 - val_loss: 0.1325 - val_accuracy: 0.9840\n",
            "Epoch 46/100\n",
            "12/12 [==============================] - 0s 3ms/step - loss: 0.1466 - accuracy: 0.9659 - val_loss: 0.1307 - val_accuracy: 0.9787\n",
            "Epoch 47/100\n",
            "12/12 [==============================] - 0s 5ms/step - loss: 0.1449 - accuracy: 0.9659 - val_loss: 0.1291 - val_accuracy: 0.9787\n",
            "Epoch 48/100\n",
            "12/12 [==============================] - 0s 4ms/step - loss: 0.1434 - accuracy: 0.9659 - val_loss: 0.1273 - val_accuracy: 0.9787\n",
            "Epoch 49/100\n",
            "12/12 [==============================] - 0s 5ms/step - loss: 0.1418 - accuracy: 0.9659 - val_loss: 0.1257 - val_accuracy: 0.9840\n",
            "Epoch 50/100\n",
            "12/12 [==============================] - 0s 4ms/step - loss: 0.1402 - accuracy: 0.9659 - val_loss: 0.1241 - val_accuracy: 0.9840\n",
            "Epoch 51/100\n",
            "12/12 [==============================] - 0s 4ms/step - loss: 0.1388 - accuracy: 0.9659 - val_loss: 0.1226 - val_accuracy: 0.9840\n",
            "Epoch 52/100\n",
            "12/12 [==============================] - 0s 5ms/step - loss: 0.1374 - accuracy: 0.9659 - val_loss: 0.1212 - val_accuracy: 0.9840\n",
            "Epoch 53/100\n",
            "12/12 [==============================] - 0s 4ms/step - loss: 0.1361 - accuracy: 0.9685 - val_loss: 0.1198 - val_accuracy: 0.9840\n",
            "Epoch 54/100\n",
            "12/12 [==============================] - 0s 4ms/step - loss: 0.1347 - accuracy: 0.9738 - val_loss: 0.1185 - val_accuracy: 0.9840\n",
            "Epoch 55/100\n",
            "12/12 [==============================] - 0s 6ms/step - loss: 0.1335 - accuracy: 0.9738 - val_loss: 0.1171 - val_accuracy: 0.9840\n",
            "Epoch 56/100\n",
            "12/12 [==============================] - 0s 5ms/step - loss: 0.1322 - accuracy: 0.9738 - val_loss: 0.1159 - val_accuracy: 0.9840\n",
            "Epoch 57/100\n",
            "12/12 [==============================] - 0s 4ms/step - loss: 0.1311 - accuracy: 0.9738 - val_loss: 0.1146 - val_accuracy: 0.9840\n",
            "Epoch 58/100\n",
            "12/12 [==============================] - 0s 4ms/step - loss: 0.1299 - accuracy: 0.9738 - val_loss: 0.1135 - val_accuracy: 0.9840\n",
            "Epoch 59/100\n",
            "12/12 [==============================] - 0s 5ms/step - loss: 0.1288 - accuracy: 0.9738 - val_loss: 0.1123 - val_accuracy: 0.9840\n",
            "Epoch 60/100\n",
            "12/12 [==============================] - 0s 4ms/step - loss: 0.1278 - accuracy: 0.9738 - val_loss: 0.1111 - val_accuracy: 0.9840\n",
            "Epoch 61/100\n",
            "12/12 [==============================] - 0s 4ms/step - loss: 0.1266 - accuracy: 0.9738 - val_loss: 0.1100 - val_accuracy: 0.9840\n",
            "Epoch 62/100\n",
            "12/12 [==============================] - 0s 4ms/step - loss: 0.1257 - accuracy: 0.9738 - val_loss: 0.1089 - val_accuracy: 0.9840\n",
            "Epoch 63/100\n",
            "12/12 [==============================] - 0s 4ms/step - loss: 0.1246 - accuracy: 0.9738 - val_loss: 0.1079 - val_accuracy: 0.9840\n",
            "Epoch 64/100\n",
            "12/12 [==============================] - 0s 4ms/step - loss: 0.1237 - accuracy: 0.9738 - val_loss: 0.1069 - val_accuracy: 0.9840\n",
            "Epoch 65/100\n",
            "12/12 [==============================] - 0s 5ms/step - loss: 0.1227 - accuracy: 0.9738 - val_loss: 0.1059 - val_accuracy: 0.9840\n",
            "Epoch 66/100\n",
            "12/12 [==============================] - 0s 4ms/step - loss: 0.1218 - accuracy: 0.9738 - val_loss: 0.1049 - val_accuracy: 0.9840\n",
            "Epoch 67/100\n",
            "12/12 [==============================] - 0s 4ms/step - loss: 0.1209 - accuracy: 0.9738 - val_loss: 0.1040 - val_accuracy: 0.9840\n",
            "Epoch 68/100\n",
            "12/12 [==============================] - 0s 5ms/step - loss: 0.1201 - accuracy: 0.9738 - val_loss: 0.1031 - val_accuracy: 0.9840\n",
            "Epoch 69/100\n",
            "12/12 [==============================] - 0s 4ms/step - loss: 0.1192 - accuracy: 0.9738 - val_loss: 0.1022 - val_accuracy: 0.9840\n",
            "Epoch 70/100\n",
            "12/12 [==============================] - 0s 5ms/step - loss: 0.1184 - accuracy: 0.9738 - val_loss: 0.1014 - val_accuracy: 0.9840\n",
            "Epoch 71/100\n",
            "12/12 [==============================] - 0s 4ms/step - loss: 0.1175 - accuracy: 0.9738 - val_loss: 0.1005 - val_accuracy: 0.9840\n",
            "Epoch 72/100\n",
            "12/12 [==============================] - 0s 4ms/step - loss: 0.1168 - accuracy: 0.9738 - val_loss: 0.0998 - val_accuracy: 0.9840\n",
            "Epoch 73/100\n",
            "12/12 [==============================] - 0s 4ms/step - loss: 0.1160 - accuracy: 0.9738 - val_loss: 0.0990 - val_accuracy: 0.9840\n",
            "Epoch 74/100\n",
            "12/12 [==============================] - 0s 5ms/step - loss: 0.1153 - accuracy: 0.9738 - val_loss: 0.0982 - val_accuracy: 0.9840\n",
            "Epoch 75/100\n",
            "12/12 [==============================] - 0s 4ms/step - loss: 0.1145 - accuracy: 0.9738 - val_loss: 0.0973 - val_accuracy: 0.9840\n",
            "Epoch 76/100\n",
            "12/12 [==============================] - 0s 4ms/step - loss: 0.1138 - accuracy: 0.9738 - val_loss: 0.0966 - val_accuracy: 0.9840\n",
            "Epoch 77/100\n",
            "12/12 [==============================] - 0s 5ms/step - loss: 0.1131 - accuracy: 0.9738 - val_loss: 0.0959 - val_accuracy: 0.9840\n",
            "Epoch 78/100\n",
            "12/12 [==============================] - 0s 4ms/step - loss: 0.1124 - accuracy: 0.9738 - val_loss: 0.0952 - val_accuracy: 0.9840\n",
            "Epoch 79/100\n",
            "12/12 [==============================] - 0s 5ms/step - loss: 0.1117 - accuracy: 0.9738 - val_loss: 0.0945 - val_accuracy: 0.9840\n",
            "Epoch 80/100\n",
            "12/12 [==============================] - 0s 4ms/step - loss: 0.1111 - accuracy: 0.9738 - val_loss: 0.0939 - val_accuracy: 0.9840\n",
            "Epoch 81/100\n",
            "12/12 [==============================] - 0s 4ms/step - loss: 0.1104 - accuracy: 0.9738 - val_loss: 0.0932 - val_accuracy: 0.9840\n",
            "Epoch 82/100\n",
            "12/12 [==============================] - 0s 4ms/step - loss: 0.1098 - accuracy: 0.9738 - val_loss: 0.0925 - val_accuracy: 0.9840\n",
            "Epoch 83/100\n",
            "12/12 [==============================] - 0s 4ms/step - loss: 0.1092 - accuracy: 0.9738 - val_loss: 0.0919 - val_accuracy: 0.9840\n",
            "Epoch 84/100\n",
            "12/12 [==============================] - 0s 4ms/step - loss: 0.1086 - accuracy: 0.9738 - val_loss: 0.0913 - val_accuracy: 0.9840\n",
            "Epoch 85/100\n",
            "12/12 [==============================] - 0s 5ms/step - loss: 0.1080 - accuracy: 0.9738 - val_loss: 0.0906 - val_accuracy: 0.9840\n",
            "Epoch 86/100\n",
            "12/12 [==============================] - 0s 4ms/step - loss: 0.1074 - accuracy: 0.9738 - val_loss: 0.0901 - val_accuracy: 0.9840\n",
            "Epoch 87/100\n",
            "12/12 [==============================] - 0s 4ms/step - loss: 0.1069 - accuracy: 0.9738 - val_loss: 0.0895 - val_accuracy: 0.9840\n",
            "Epoch 88/100\n",
            "12/12 [==============================] - 0s 4ms/step - loss: 0.1063 - accuracy: 0.9738 - val_loss: 0.0889 - val_accuracy: 0.9840\n",
            "Epoch 89/100\n",
            "12/12 [==============================] - 0s 4ms/step - loss: 0.1058 - accuracy: 0.9738 - val_loss: 0.0884 - val_accuracy: 0.9840\n",
            "Epoch 90/100\n",
            "12/12 [==============================] - 0s 4ms/step - loss: 0.1052 - accuracy: 0.9738 - val_loss: 0.0879 - val_accuracy: 0.9840\n",
            "Epoch 91/100\n",
            "12/12 [==============================] - 0s 4ms/step - loss: 0.1047 - accuracy: 0.9738 - val_loss: 0.0873 - val_accuracy: 0.9840\n",
            "Epoch 92/100\n",
            "12/12 [==============================] - 0s 5ms/step - loss: 0.1042 - accuracy: 0.9738 - val_loss: 0.0868 - val_accuracy: 0.9840\n",
            "Epoch 93/100\n",
            "12/12 [==============================] - 0s 4ms/step - loss: 0.1037 - accuracy: 0.9738 - val_loss: 0.0863 - val_accuracy: 0.9840\n",
            "Epoch 94/100\n",
            "12/12 [==============================] - 0s 4ms/step - loss: 0.1032 - accuracy: 0.9738 - val_loss: 0.0858 - val_accuracy: 0.9840\n",
            "Epoch 95/100\n",
            "12/12 [==============================] - 0s 5ms/step - loss: 0.1027 - accuracy: 0.9738 - val_loss: 0.0853 - val_accuracy: 0.9840\n",
            "Epoch 96/100\n",
            "12/12 [==============================] - 0s 5ms/step - loss: 0.1022 - accuracy: 0.9738 - val_loss: 0.0849 - val_accuracy: 0.9840\n",
            "Epoch 97/100\n",
            "12/12 [==============================] - 0s 4ms/step - loss: 0.1018 - accuracy: 0.9738 - val_loss: 0.0843 - val_accuracy: 0.9840\n",
            "Epoch 98/100\n",
            "12/12 [==============================] - 0s 5ms/step - loss: 0.1013 - accuracy: 0.9738 - val_loss: 0.0839 - val_accuracy: 0.9840\n",
            "Epoch 99/100\n",
            "12/12 [==============================] - 0s 4ms/step - loss: 0.1008 - accuracy: 0.9738 - val_loss: 0.0834 - val_accuracy: 0.9840\n",
            "Epoch 100/100\n",
            "12/12 [==============================] - 0s 6ms/step - loss: 0.1004 - accuracy: 0.9738 - val_loss: 0.0829 - val_accuracy: 0.9840\n"
          ]
        }
      ]
    },
    {
      "cell_type": "markdown",
      "source": [
        "EVALUATE THE MODEL"
      ],
      "metadata": {
        "id": "NroSNDumITB_"
      }
    },
    {
      "cell_type": "code",
      "source": [
        "print(\"Train Score :--\", model.evaluate(X_train, y_train))\n",
        "print(\"Test Score :--\", model.evaluate(X_test, y_test))"
      ],
      "metadata": {
        "colab": {
          "base_uri": "https://localhost:8080/"
        },
        "id": "XchUmEgmIYJW",
        "outputId": "86686c0d-8d79-4245-e2c8-0916557543b9"
      },
      "execution_count": 23,
      "outputs": [
        {
          "output_type": "stream",
          "name": "stdout",
          "text": [
            "12/12 [==============================] - 0s 2ms/step - loss: 0.1001 - accuracy: 0.9738\n",
            "Train Score :-- [0.1000848188996315, 0.9737532734870911]\n",
            "6/6 [==============================] - 0s 3ms/step - loss: 0.0829 - accuracy: 0.9840\n",
            "Test Score :-- [0.08293664455413818, 0.9840425252914429]\n"
          ]
        }
      ]
    },
    {
      "cell_type": "markdown",
      "source": [
        "PLOT THE LOSS AND VALIDATION LOSS and ACCURACY AND VAIDATION ACCURACY"
      ],
      "metadata": {
        "id": "moPMfg-QHdCH"
      }
    },
    {
      "cell_type": "code",
      "source": [
        "import matplotlib.pyplot as plt\n",
        "plt.figure(figsize = (8,8))\n",
        "plt.plot(r.history[\"loss\"], label = \"training loss\")\n",
        "plt.plot(r.history[\"val_loss\"], label = \"validation loss\")\n",
        "plt.plot(r.history[\"accuracy\"], label = \"training accuracy\")\n",
        "plt.plot(r.history[\"val_accuracy\"], label = \"validation accuracy\")\n",
        "plt.legend;"
      ],
      "metadata": {
        "colab": {
          "base_uri": "https://localhost:8080/",
          "height": 483
        },
        "id": "ununqSxMHY4E",
        "outputId": "7f17cd3e-c486-4d18-e611-1bb687b35e91"
      },
      "execution_count": 26,
      "outputs": [
        {
          "output_type": "display_data",
          "data": {
            "text/plain": [
              "<Figure size 576x576 with 1 Axes>"
            ],
            "image/png": "[encoded data removed]"
          },
          "metadata": {
            "needs_background": "light"
          }
        }
      ]
    },
    {
      "cell_type": "markdown",
      "source": [
        "***"
      ],
      "metadata": {
        "id": "X6FXrs9QIyju"
      }
    }
  ]
}