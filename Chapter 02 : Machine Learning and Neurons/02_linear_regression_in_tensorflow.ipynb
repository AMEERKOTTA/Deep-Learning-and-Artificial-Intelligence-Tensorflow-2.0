{
  "nbformat": 4,
  "nbformat_minor": 0,
  "metadata": {
    "colab": {
      "provenance": [],
      "authorship_tag": "ABX9TyOARvDJqb2knT5IXfn4gKv1",
      "include_colab_link": true
    },
    "kernelspec": {
      "name": "python3",
      "display_name": "Python 3"
    },
    "language_info": {
      "name": "python"
    }
  },
  "cells": [
    {
      "cell_type": "markdown",
      "metadata": {
        "id": "view-in-github",
        "colab_type": "text"
      },
      "source": [
        "<a href=\"https://colab.research.google.com/github/AMEERKOTTA/Deep-Learning-and-Artificial-Intelligence-Tensorflow-2.0/blob/main/Chapter%2002%20%3A%20Machine%20Learning%20and%20Neurons/02_linear_regression_in_tensorflow.ipynb\" target=\"_parent\"><img src=\"https://colab.research.google.com/assets/colab-badge.svg\" alt=\"Open In Colab\"/></a>"
      ]
    },
    {
      "cell_type": "markdown",
      "source": [
        "# **REGRESSION IN TENSORFLOW**\n",
        "\n",
        "+ Here we are trying to Solve the Moore's Law.\n",
        "+ Here using the `moore.csv` data."
      ],
      "metadata": {
        "id": "d3UxpvrEqSuR"
      }
    },
    {
      "cell_type": "markdown",
      "source": [
        "IMPORT THE LIBRARIES"
      ],
      "metadata": {
        "id": "mMrzPqDQqruJ"
      }
    },
    {
      "cell_type": "code",
      "source": [
        "## import the library\n",
        "import tensorflow as tf\n",
        "import numpy as np\n",
        "import pandas as pd\n",
        "import matplotlib.pyplot as plt"
      ],
      "metadata": {
        "id": "kFNUd22lqZhS"
      },
      "execution_count": 1,
      "outputs": []
    },
    {
      "cell_type": "markdown",
      "source": [
        "GET THE DATASET"
      ],
      "metadata": {
        "id": "XgYKjNwEquxR"
      }
    },
    {
      "cell_type": "code",
      "source": [
        "!wget https://raw.githubusercontent.com/lazyprogrammer/machine_learning_examples/master/tf2.0/moore.csv"
      ],
      "metadata": {
        "colab": {
          "base_uri": "https://localhost:8080/"
        },
        "id": "BWmCS5UWqqSD",
        "outputId": "dbe6b600-3b88-4ecf-e284-6783a626dcc9"
      },
      "execution_count": 2,
      "outputs": [
        {
          "output_type": "stream",
          "name": "stdout",
          "text": [
            "--2023-02-14 11:24:14--  https://raw.githubusercontent.com/lazyprogrammer/machine_learning_examples/master/tf2.0/moore.csv\n",
            "Resolving raw.githubusercontent.com (raw.githubusercontent.com)... 185.199.108.133, 185.199.109.133, 185.199.110.133, ...\n",
            "Connecting to raw.githubusercontent.com (raw.githubusercontent.com)|185.199.108.133|:443... connected.\n",
            "HTTP request sent, awaiting response... 200 OK\n",
            "Length: 2302 (2.2K) [text/plain]\n",
            "Saving to: ‘moore.csv’\n",
            "\n",
            "\rmoore.csv             0%[                    ]       0  --.-KB/s               \rmoore.csv           100%[===================>]   2.25K  --.-KB/s    in 0s      \n",
            "\n",
            "2023-02-14 11:24:14 (37.7 MB/s) - ‘moore.csv’ saved [2302/2302]\n",
            "\n"
          ]
        }
      ]
    },
    {
      "cell_type": "code",
      "source": [
        "!ls"
      ],
      "metadata": {
        "colab": {
          "base_uri": "https://localhost:8080/"
        },
        "id": "eGWvxwaNqwpi",
        "outputId": "3285f5b7-4a10-47df-eaa9-7a58eb19f614"
      },
      "execution_count": 3,
      "outputs": [
        {
          "output_type": "stream",
          "name": "stdout",
          "text": [
            "moore.csv  sample_data\n"
          ]
        }
      ]
    },
    {
      "cell_type": "code",
      "source": [
        "!head moore.csv"
      ],
      "metadata": {
        "colab": {
          "base_uri": "https://localhost:8080/"
        },
        "id": "g1TLap5WqyJX",
        "outputId": "163a5f77-24c0-4961-cbeb-27d06ee0e055"
      },
      "execution_count": 4,
      "outputs": [
        {
          "output_type": "stream",
          "name": "stdout",
          "text": [
            "1971,2300\n",
            "1972,3500\n",
            "1973,2500\n",
            "1973,2500\n",
            "1974,4100\n",
            "1974,4500\n",
            "1974,8000\n",
            "1975,3510\n",
            "1976,5000\n",
            "1976,8500\n"
          ]
        }
      ]
    },
    {
      "cell_type": "code",
      "source": [
        "## read the data\n",
        "data = pd.read_csv(\"moore.csv\", header = None)\n",
        "data.head()\n",
        "## convert the dataframe to numpy array\n",
        "data = data.to_numpy()\n",
        "# print(data)  ## [       1971        2300] [       1972        3500]\n",
        "print(data.shape)  ## data is a two dimensional array"
      ],
      "metadata": {
        "colab": {
          "base_uri": "https://localhost:8080/"
        },
        "id": "lQH1-27vq2vV",
        "outputId": "7b81be49-1a8c-49d5-8917-b343c4dc3116"
      },
      "execution_count": 10,
      "outputs": [
        {
          "output_type": "stream",
          "name": "stdout",
          "text": [
            "(162, 2)\n"
          ]
        }
      ]
    },
    {
      "cell_type": "markdown",
      "source": [
        "PREPARE THE DATA"
      ],
      "metadata": {
        "id": "DZ_8OlYVr6x_"
      }
    },
    {
      "cell_type": "code",
      "source": [
        "## prepare X and Y\n",
        "X = data[:, 0]\n",
        "# print(X)  ## [1971 1972 1973 1973 1974 1974 1974 1975 1976 1976 1976 1978 1978 1979] list like this.\n",
        "## now we need to reshape the X to feed to ML models\n",
        "X = X.reshape(-1,1)\n",
        "# print(X)  ## here X will be in reshaped manner.\n",
        "\n",
        "## prepare the Y\n",
        "Y = data[:, 1]\n",
        "# print(Y)  ## [2300        3500        2500        2500        4100        4500]"
      ],
      "metadata": {
        "id": "4kn98we_rdN6"
      },
      "execution_count": 18,
      "outputs": []
    },
    {
      "cell_type": "code",
      "source": [
        "## plot the data\n",
        "## here we are getting a exponential curve\n",
        "plt.scatter(X,Y);"
      ],
      "metadata": {
        "colab": {
          "base_uri": "https://localhost:8080/",
          "height": 276
        },
        "id": "RycQtvJisXPZ",
        "outputId": "0ec73292-e33e-4e56-abd8-8a8c0fd7034b"
      },
      "execution_count": 21,
      "outputs": [
        {
          "output_type": "display_data",
          "data": {
            "text/plain": [
              "<Figure size 432x288 with 1 Axes>"
            ],
            "image/png": "[encoded data removed]"
          },
          "metadata": {
            "needs_background": "light"
          }
        }
      ]
    },
    {
      "cell_type": "code",
      "source": [
        "## now taking the log of Y\n",
        "## this curve will be a linear curve almost\n",
        "Y = np.log(Y)\n",
        "plt.scatter(X,Y);"
      ],
      "metadata": {
        "colab": {
          "base_uri": "https://localhost:8080/",
          "height": 265
        },
        "id": "0erzCnh4vD9n",
        "outputId": "be2a8d8c-0f52-4e95-e3fa-6095860956a9"
      },
      "execution_count": 25,
      "outputs": [
        {
          "output_type": "display_data",
          "data": {
            "text/plain": [
              "<Figure size 432x288 with 1 Axes>"
            ],
            "image/png": "[encoded data removed]"
          },
          "metadata": {
            "needs_background": "light"
          }
        }
      ]
    },
    {
      "cell_type": "code",
      "source": [
        "## normalizing X with X (mean)\n",
        "X = X - X.mean()\n",
        "# print(X)\n",
        "# plt.scatter(X,Y)"
      ],
      "metadata": {
        "id": "zUtGa6s7vsi5"
      },
      "execution_count": 33,
      "outputs": []
    },
    {
      "cell_type": "markdown",
      "source": [
        "BUILD THE MODEL"
      ],
      "metadata": {
        "id": "koFaaohEwMb_"
      }
    },
    {
      "cell_type": "code",
      "source": [
        "model = tf.keras.models.Sequential([\n",
        "    tf.keras.Input(shape = (1,)),\n",
        "    tf.keras.layers.Dense(1),\n",
        "])\n",
        "model.summary()"
      ],
      "metadata": {
        "colab": {
          "base_uri": "https://localhost:8080/"
        },
        "id": "fw-KZuEmv8qR",
        "outputId": "259813eb-223e-4372-9967-b167b17efc92"
      },
      "execution_count": 35,
      "outputs": [
        {
          "output_type": "stream",
          "name": "stdout",
          "text": [
            "Model: \"sequential_1\"\n",
            "_________________________________________________________________\n",
            " Layer (type)                Output Shape              Param #   \n",
            "=================================================================\n",
            " dense_1 (Dense)             (None, 1)                 2         \n",
            "                                                                 \n",
            "=================================================================\n",
            "Total params: 2\n",
            "Trainable params: 2\n",
            "Non-trainable params: 0\n",
            "_________________________________________________________________\n"
          ]
        }
      ]
    },
    {
      "cell_type": "code",
      "source": [
        "## compile the model\n",
        "model.compile(\n",
        "    optimizer = tf.keras.optimizers.SGD(0.001, 0.9),\n",
        "    loss = \"mse\"\n",
        ")\n"
      ],
      "metadata": {
        "id": "JykQPlLrwcdi"
      },
      "execution_count": 37,
      "outputs": []
    },
    {
      "cell_type": "code",
      "source": [
        "## define a function to schedule the learning rate.\n",
        "def schedule(epoch, lr):\n",
        "\n",
        "  if epoch >= 50:\n",
        "    return 0.0001\n",
        "  return 0.001\n",
        "\n",
        "## defining the scheduler\n",
        "scheduler = tf.keras.callbacks.LearningRateScheduler(schedule)\n",
        "print(scheduler)"
      ],
      "metadata": {
        "colab": {
          "base_uri": "https://localhost:8080/"
        },
        "id": "fxbR3OBRwuGk",
        "outputId": "3e54600e-6472-4eb9-a424-5421d7b6845e"
      },
      "execution_count": 40,
      "outputs": [
        {
          "output_type": "stream",
          "name": "stdout",
          "text": [
            "<keras.callbacks.LearningRateScheduler object at 0x7faed80ba100>\n"
          ]
        }
      ]
    },
    {
      "cell_type": "markdown",
      "source": [
        "TRAIN THE MODEL"
      ],
      "metadata": {
        "id": "QRwPrAvGxcY9"
      }
    },
    {
      "cell_type": "code",
      "source": [
        "r = model.fit(X, Y, epochs = 200, callbacks = [scheduler])"
      ],
      "metadata": {
        "colab": {
          "base_uri": "https://localhost:8080/"
        },
        "id": "cTaTkmMfxJ2-",
        "outputId": "d7f62f4b-c30c-4b79-a4f7-536ddfe61698"
      },
      "execution_count": 41,
      "outputs": [
        {
          "output_type": "stream",
          "name": "stdout",
          "text": [
            "Epoch 1/200\n",
            "6/6 [==============================] - 1s 5ms/step - loss: 42.6492 - lr: 0.0010\n",
            "Epoch 2/200\n",
            "6/6 [==============================] - 0s 4ms/step - loss: 33.0997 - lr: 0.0010\n",
            "Epoch 3/200\n",
            "6/6 [==============================] - 0s 4ms/step - loss: 19.2313 - lr: 0.0010\n",
            "Epoch 4/200\n",
            "6/6 [==============================] - 0s 4ms/step - loss: 20.2070 - lr: 0.0010\n",
            "Epoch 5/200\n",
            "6/6 [==============================] - 0s 4ms/step - loss: 22.2268 - lr: 0.0010\n",
            "Epoch 6/200\n",
            "6/6 [==============================] - 0s 4ms/step - loss: 17.5337 - lr: 0.0010\n",
            "Epoch 7/200\n",
            "6/6 [==============================] - 0s 4ms/step - loss: 7.8183 - lr: 0.0010\n",
            "Epoch 8/200\n",
            "6/6 [==============================] - 0s 4ms/step - loss: 3.5482 - lr: 0.0010\n",
            "Epoch 9/200\n",
            "6/6 [==============================] - 0s 4ms/step - loss: 3.1109 - lr: 0.0010\n",
            "Epoch 10/200\n",
            "6/6 [==============================] - 0s 4ms/step - loss: 0.9347 - lr: 0.0010\n",
            "Epoch 11/200\n",
            "6/6 [==============================] - 0s 5ms/step - loss: 0.5135 - lr: 0.0010\n",
            "Epoch 12/200\n",
            "6/6 [==============================] - 0s 5ms/step - loss: 0.2703 - lr: 0.0010\n",
            "Epoch 13/200\n",
            "6/6 [==============================] - 0s 4ms/step - loss: 0.1318 - lr: 0.0010\n",
            "Epoch 14/200\n",
            "6/6 [==============================] - 0s 5ms/step - loss: 0.0683 - lr: 0.0010\n",
            "Epoch 15/200\n",
            "6/6 [==============================] - 0s 4ms/step - loss: 0.0268 - lr: 0.0010\n",
            "Epoch 16/200\n",
            "6/6 [==============================] - 0s 4ms/step - loss: 0.0188 - lr: 0.0010\n",
            "Epoch 17/200\n",
            "6/6 [==============================] - 0s 4ms/step - loss: 0.0114 - lr: 0.0010\n",
            "Epoch 18/200\n",
            "6/6 [==============================] - 0s 4ms/step - loss: 0.0058 - lr: 0.0010\n",
            "Epoch 19/200\n",
            "6/6 [==============================] - 0s 3ms/step - loss: 0.0048 - lr: 0.0010\n",
            "Epoch 20/200\n",
            "6/6 [==============================] - 0s 4ms/step - loss: 0.0029 - lr: 0.0010\n",
            "Epoch 21/200\n",
            "6/6 [==============================] - 0s 4ms/step - loss: 0.0021 - lr: 0.0010\n",
            "Epoch 22/200\n",
            "6/6 [==============================] - 0s 3ms/step - loss: 0.0017 - lr: 0.0010\n",
            "Epoch 23/200\n",
            "6/6 [==============================] - 0s 3ms/step - loss: 0.0016 - lr: 0.0010\n",
            "Epoch 24/200\n",
            "6/6 [==============================] - 0s 4ms/step - loss: 0.0016 - lr: 0.0010\n",
            "Epoch 25/200\n",
            "6/6 [==============================] - 0s 4ms/step - loss: 0.0021 - lr: 0.0010\n",
            "Epoch 26/200\n",
            "6/6 [==============================] - 0s 6ms/step - loss: 0.0014 - lr: 0.0010\n",
            "Epoch 27/200\n",
            "6/6 [==============================] - 0s 5ms/step - loss: 0.0018 - lr: 0.0010\n",
            "Epoch 28/200\n",
            "6/6 [==============================] - 0s 4ms/step - loss: 0.0020 - lr: 0.0010\n",
            "Epoch 29/200\n",
            "6/6 [==============================] - 0s 3ms/step - loss: 0.0016 - lr: 0.0010\n",
            "Epoch 30/200\n",
            "6/6 [==============================] - 0s 4ms/step - loss: 0.0015 - lr: 0.0010\n",
            "Epoch 31/200\n",
            "6/6 [==============================] - 0s 4ms/step - loss: 0.0016 - lr: 0.0010\n",
            "Epoch 32/200\n",
            "6/6 [==============================] - 0s 4ms/step - loss: 0.0019 - lr: 0.0010\n",
            "Epoch 33/200\n",
            "6/6 [==============================] - 0s 5ms/step - loss: 0.0027 - lr: 0.0010\n",
            "Epoch 34/200\n",
            "6/6 [==============================] - 0s 4ms/step - loss: 0.0023 - lr: 0.0010\n",
            "Epoch 35/200\n",
            "6/6 [==============================] - 0s 3ms/step - loss: 0.0021 - lr: 0.0010\n",
            "Epoch 36/200\n",
            "6/6 [==============================] - 0s 4ms/step - loss: 0.0031 - lr: 0.0010\n",
            "Epoch 37/200\n",
            "6/6 [==============================] - 0s 3ms/step - loss: 0.0018 - lr: 0.0010\n",
            "Epoch 38/200\n",
            "6/6 [==============================] - 0s 3ms/step - loss: 0.0017 - lr: 0.0010\n",
            "Epoch 39/200\n",
            "6/6 [==============================] - 0s 3ms/step - loss: 0.0014 - lr: 0.0010\n",
            "Epoch 40/200\n",
            "6/6 [==============================] - 0s 4ms/step - loss: 0.0016 - lr: 0.0010\n",
            "Epoch 41/200\n",
            "6/6 [==============================] - 0s 3ms/step - loss: 0.0016 - lr: 0.0010\n",
            "Epoch 42/200\n",
            "6/6 [==============================] - 0s 3ms/step - loss: 0.0019 - lr: 0.0010\n",
            "Epoch 43/200\n",
            "6/6 [==============================] - 0s 3ms/step - loss: 0.0018 - lr: 0.0010\n",
            "Epoch 44/200\n",
            "6/6 [==============================] - 0s 3ms/step - loss: 0.0016 - lr: 0.0010\n",
            "Epoch 45/200\n",
            "6/6 [==============================] - 0s 4ms/step - loss: 0.0016 - lr: 0.0010\n",
            "Epoch 46/200\n",
            "6/6 [==============================] - 0s 4ms/step - loss: 0.0020 - lr: 0.0010\n",
            "Epoch 47/200\n",
            "6/6 [==============================] - 0s 4ms/step - loss: 0.0015 - lr: 0.0010\n",
            "Epoch 48/200\n",
            "6/6 [==============================] - 0s 3ms/step - loss: 0.0024 - lr: 0.0010\n",
            "Epoch 49/200\n",
            "6/6 [==============================] - 0s 3ms/step - loss: 0.0017 - lr: 0.0010\n",
            "Epoch 50/200\n",
            "6/6 [==============================] - 0s 6ms/step - loss: 0.0015 - lr: 0.0010\n",
            "Epoch 51/200\n",
            "6/6 [==============================] - 0s 5ms/step - loss: 0.0018 - lr: 1.0000e-04\n",
            "Epoch 52/200\n",
            "6/6 [==============================] - 0s 7ms/step - loss: 0.0016 - lr: 1.0000e-04\n",
            "Epoch 53/200\n",
            "6/6 [==============================] - 0s 5ms/step - loss: 0.0014 - lr: 1.0000e-04\n",
            "Epoch 54/200\n",
            "6/6 [==============================] - 0s 5ms/step - loss: 0.0014 - lr: 1.0000e-04\n",
            "Epoch 55/200\n",
            "6/6 [==============================] - 0s 4ms/step - loss: 0.0015 - lr: 1.0000e-04\n",
            "Epoch 56/200\n",
            "6/6 [==============================] - 0s 4ms/step - loss: 0.0014 - lr: 1.0000e-04\n",
            "Epoch 57/200\n",
            "6/6 [==============================] - 0s 4ms/step - loss: 0.0014 - lr: 1.0000e-04\n",
            "Epoch 58/200\n",
            "6/6 [==============================] - 0s 4ms/step - loss: 0.0015 - lr: 1.0000e-04\n",
            "Epoch 59/200\n",
            "6/6 [==============================] - 0s 4ms/step - loss: 0.0014 - lr: 1.0000e-04\n",
            "Epoch 60/200\n",
            "6/6 [==============================] - 0s 5ms/step - loss: 0.0014 - lr: 1.0000e-04\n",
            "Epoch 61/200\n",
            "6/6 [==============================] - 0s 5ms/step - loss: 0.0014 - lr: 1.0000e-04\n",
            "Epoch 62/200\n",
            "6/6 [==============================] - 0s 4ms/step - loss: 0.0014 - lr: 1.0000e-04\n",
            "Epoch 63/200\n",
            "6/6 [==============================] - 0s 3ms/step - loss: 0.0014 - lr: 1.0000e-04\n",
            "Epoch 64/200\n",
            "6/6 [==============================] - 0s 5ms/step - loss: 0.0014 - lr: 1.0000e-04\n",
            "Epoch 65/200\n",
            "6/6 [==============================] - 0s 4ms/step - loss: 0.0014 - lr: 1.0000e-04\n",
            "Epoch 66/200\n",
            "6/6 [==============================] - 0s 4ms/step - loss: 0.0015 - lr: 1.0000e-04\n",
            "Epoch 67/200\n",
            "6/6 [==============================] - 0s 5ms/step - loss: 0.0018 - lr: 1.0000e-04\n",
            "Epoch 68/200\n",
            "6/6 [==============================] - 0s 5ms/step - loss: 0.0014 - lr: 1.0000e-04\n",
            "Epoch 69/200\n",
            "6/6 [==============================] - 0s 4ms/step - loss: 0.0014 - lr: 1.0000e-04\n",
            "Epoch 70/200\n",
            "6/6 [==============================] - 0s 4ms/step - loss: 0.0014 - lr: 1.0000e-04\n",
            "Epoch 71/200\n",
            "6/6 [==============================] - 0s 4ms/step - loss: 0.0014 - lr: 1.0000e-04\n",
            "Epoch 72/200\n",
            "6/6 [==============================] - 0s 3ms/step - loss: 0.0015 - lr: 1.0000e-04\n",
            "Epoch 73/200\n",
            "6/6 [==============================] - 0s 3ms/step - loss: 0.0015 - lr: 1.0000e-04\n",
            "Epoch 74/200\n",
            "6/6 [==============================] - 0s 3ms/step - loss: 0.0014 - lr: 1.0000e-04\n",
            "Epoch 75/200\n",
            "6/6 [==============================] - 0s 4ms/step - loss: 0.0014 - lr: 1.0000e-04\n",
            "Epoch 76/200\n",
            "6/6 [==============================] - 0s 4ms/step - loss: 0.0014 - lr: 1.0000e-04\n",
            "Epoch 77/200\n",
            "6/6 [==============================] - 0s 5ms/step - loss: 0.0014 - lr: 1.0000e-04\n",
            "Epoch 78/200\n",
            "6/6 [==============================] - 0s 3ms/step - loss: 0.0014 - lr: 1.0000e-04\n",
            "Epoch 79/200\n",
            "6/6 [==============================] - 0s 3ms/step - loss: 0.0014 - lr: 1.0000e-04\n",
            "Epoch 80/200\n",
            "6/6 [==============================] - 0s 3ms/step - loss: 0.0014 - lr: 1.0000e-04\n",
            "Epoch 81/200\n",
            "6/6 [==============================] - 0s 3ms/step - loss: 0.0014 - lr: 1.0000e-04\n",
            "Epoch 82/200\n",
            "6/6 [==============================] - 0s 3ms/step - loss: 0.0014 - lr: 1.0000e-04\n",
            "Epoch 83/200\n",
            "6/6 [==============================] - 0s 3ms/step - loss: 0.0014 - lr: 1.0000e-04\n",
            "Epoch 84/200\n",
            "6/6 [==============================] - 0s 5ms/step - loss: 0.0014 - lr: 1.0000e-04\n",
            "Epoch 85/200\n",
            "6/6 [==============================] - 0s 4ms/step - loss: 0.0014 - lr: 1.0000e-04\n",
            "Epoch 86/200\n",
            "6/6 [==============================] - 0s 5ms/step - loss: 0.0014 - lr: 1.0000e-04\n",
            "Epoch 87/200\n",
            "6/6 [==============================] - 0s 4ms/step - loss: 0.0014 - lr: 1.0000e-04\n",
            "Epoch 88/200\n",
            "6/6 [==============================] - 0s 3ms/step - loss: 0.0014 - lr: 1.0000e-04\n",
            "Epoch 89/200\n",
            "6/6 [==============================] - 0s 3ms/step - loss: 0.0014 - lr: 1.0000e-04\n",
            "Epoch 90/200\n",
            "6/6 [==============================] - 0s 3ms/step - loss: 0.0014 - lr: 1.0000e-04\n",
            "Epoch 91/200\n",
            "6/6 [==============================] - 0s 3ms/step - loss: 0.0014 - lr: 1.0000e-04\n",
            "Epoch 92/200\n",
            "6/6 [==============================] - 0s 3ms/step - loss: 0.0014 - lr: 1.0000e-04\n",
            "Epoch 93/200\n",
            "6/6 [==============================] - 0s 3ms/step - loss: 0.0014 - lr: 1.0000e-04\n",
            "Epoch 94/200\n",
            "6/6 [==============================] - 0s 3ms/step - loss: 0.0014 - lr: 1.0000e-04\n",
            "Epoch 95/200\n",
            "6/6 [==============================] - 0s 3ms/step - loss: 0.0014 - lr: 1.0000e-04\n",
            "Epoch 96/200\n",
            "6/6 [==============================] - 0s 5ms/step - loss: 0.0014 - lr: 1.0000e-04\n",
            "Epoch 97/200\n",
            "6/6 [==============================] - 0s 3ms/step - loss: 0.0014 - lr: 1.0000e-04\n",
            "Epoch 98/200\n",
            "6/6 [==============================] - 0s 4ms/step - loss: 0.0014 - lr: 1.0000e-04\n",
            "Epoch 99/200\n",
            "6/6 [==============================] - 0s 3ms/step - loss: 0.0014 - lr: 1.0000e-04\n",
            "Epoch 100/200\n",
            "6/6 [==============================] - 0s 3ms/step - loss: 0.0014 - lr: 1.0000e-04\n",
            "Epoch 101/200\n",
            "6/6 [==============================] - 0s 3ms/step - loss: 0.0014 - lr: 1.0000e-04\n",
            "Epoch 102/200\n",
            "6/6 [==============================] - 0s 3ms/step - loss: 0.0014 - lr: 1.0000e-04\n",
            "Epoch 103/200\n",
            "6/6 [==============================] - 0s 3ms/step - loss: 0.0014 - lr: 1.0000e-04\n",
            "Epoch 104/200\n",
            "6/6 [==============================] - 0s 3ms/step - loss: 0.0014 - lr: 1.0000e-04\n",
            "Epoch 105/200\n",
            "6/6 [==============================] - 0s 3ms/step - loss: 0.0014 - lr: 1.0000e-04\n",
            "Epoch 106/200\n",
            "6/6 [==============================] - 0s 3ms/step - loss: 0.0015 - lr: 1.0000e-04\n",
            "Epoch 107/200\n",
            "6/6 [==============================] - 0s 3ms/step - loss: 0.0014 - lr: 1.0000e-04\n",
            "Epoch 108/200\n",
            "6/6 [==============================] - 0s 3ms/step - loss: 0.0014 - lr: 1.0000e-04\n",
            "Epoch 109/200\n",
            "6/6 [==============================] - 0s 3ms/step - loss: 0.0014 - lr: 1.0000e-04\n",
            "Epoch 110/200\n",
            "6/6 [==============================] - 0s 4ms/step - loss: 0.0014 - lr: 1.0000e-04\n",
            "Epoch 111/200\n",
            "6/6 [==============================] - 0s 3ms/step - loss: 0.0014 - lr: 1.0000e-04\n",
            "Epoch 112/200\n",
            "6/6 [==============================] - 0s 3ms/step - loss: 0.0014 - lr: 1.0000e-04\n",
            "Epoch 113/200\n",
            "6/6 [==============================] - 0s 4ms/step - loss: 0.0014 - lr: 1.0000e-04\n",
            "Epoch 114/200\n",
            "6/6 [==============================] - 0s 3ms/step - loss: 0.0014 - lr: 1.0000e-04\n",
            "Epoch 115/200\n",
            "6/6 [==============================] - 0s 3ms/step - loss: 0.0014 - lr: 1.0000e-04\n",
            "Epoch 116/200\n",
            "6/6 [==============================] - 0s 4ms/step - loss: 0.0015 - lr: 1.0000e-04\n",
            "Epoch 117/200\n",
            "6/6 [==============================] - 0s 3ms/step - loss: 0.0014 - lr: 1.0000e-04\n",
            "Epoch 118/200\n",
            "6/6 [==============================] - 0s 3ms/step - loss: 0.0014 - lr: 1.0000e-04\n",
            "Epoch 119/200\n",
            "6/6 [==============================] - 0s 3ms/step - loss: 0.0015 - lr: 1.0000e-04\n",
            "Epoch 120/200\n",
            "6/6 [==============================] - 0s 4ms/step - loss: 0.0015 - lr: 1.0000e-04\n",
            "Epoch 121/200\n",
            "6/6 [==============================] - 0s 3ms/step - loss: 0.0015 - lr: 1.0000e-04\n",
            "Epoch 122/200\n",
            "6/6 [==============================] - 0s 3ms/step - loss: 0.0014 - lr: 1.0000e-04\n",
            "Epoch 123/200\n",
            "6/6 [==============================] - 0s 3ms/step - loss: 0.0014 - lr: 1.0000e-04\n",
            "Epoch 124/200\n",
            "6/6 [==============================] - 0s 3ms/step - loss: 0.0014 - lr: 1.0000e-04\n",
            "Epoch 125/200\n",
            "6/6 [==============================] - 0s 3ms/step - loss: 0.0014 - lr: 1.0000e-04\n",
            "Epoch 126/200\n",
            "6/6 [==============================] - 0s 3ms/step - loss: 0.0014 - lr: 1.0000e-04\n",
            "Epoch 127/200\n",
            "6/6 [==============================] - 0s 3ms/step - loss: 0.0014 - lr: 1.0000e-04\n",
            "Epoch 128/200\n",
            "6/6 [==============================] - 0s 3ms/step - loss: 0.0015 - lr: 1.0000e-04\n",
            "Epoch 129/200\n",
            "6/6 [==============================] - 0s 4ms/step - loss: 0.0015 - lr: 1.0000e-04\n",
            "Epoch 130/200\n",
            "6/6 [==============================] - 0s 3ms/step - loss: 0.0014 - lr: 1.0000e-04\n",
            "Epoch 131/200\n",
            "6/6 [==============================] - 0s 3ms/step - loss: 0.0014 - lr: 1.0000e-04\n",
            "Epoch 132/200\n",
            "6/6 [==============================] - 0s 3ms/step - loss: 0.0017 - lr: 1.0000e-04\n",
            "Epoch 133/200\n",
            "6/6 [==============================] - 0s 4ms/step - loss: 0.0019 - lr: 1.0000e-04\n",
            "Epoch 134/200\n",
            "6/6 [==============================] - 0s 3ms/step - loss: 0.0014 - lr: 1.0000e-04\n",
            "Epoch 135/200\n",
            "6/6 [==============================] - 0s 4ms/step - loss: 0.0015 - lr: 1.0000e-04\n",
            "Epoch 136/200\n",
            "6/6 [==============================] - 0s 3ms/step - loss: 0.0014 - lr: 1.0000e-04\n",
            "Epoch 137/200\n",
            "6/6 [==============================] - 0s 3ms/step - loss: 0.0014 - lr: 1.0000e-04\n",
            "Epoch 138/200\n",
            "6/6 [==============================] - 0s 3ms/step - loss: 0.0014 - lr: 1.0000e-04\n",
            "Epoch 139/200\n",
            "6/6 [==============================] - 0s 3ms/step - loss: 0.0014 - lr: 1.0000e-04\n",
            "Epoch 140/200\n",
            "6/6 [==============================] - 0s 4ms/step - loss: 0.0014 - lr: 1.0000e-04\n",
            "Epoch 141/200\n",
            "6/6 [==============================] - 0s 3ms/step - loss: 0.0014 - lr: 1.0000e-04\n",
            "Epoch 142/200\n",
            "6/6 [==============================] - 0s 3ms/step - loss: 0.0014 - lr: 1.0000e-04\n",
            "Epoch 143/200\n",
            "6/6 [==============================] - 0s 3ms/step - loss: 0.0014 - lr: 1.0000e-04\n",
            "Epoch 144/200\n",
            "6/6 [==============================] - 0s 3ms/step - loss: 0.0016 - lr: 1.0000e-04\n",
            "Epoch 145/200\n",
            "6/6 [==============================] - 0s 4ms/step - loss: 0.0014 - lr: 1.0000e-04\n",
            "Epoch 146/200\n",
            "6/6 [==============================] - 0s 4ms/step - loss: 0.0014 - lr: 1.0000e-04\n",
            "Epoch 147/200\n",
            "6/6 [==============================] - 0s 3ms/step - loss: 0.0015 - lr: 1.0000e-04\n",
            "Epoch 148/200\n",
            "6/6 [==============================] - 0s 5ms/step - loss: 0.0014 - lr: 1.0000e-04\n",
            "Epoch 149/200\n",
            "6/6 [==============================] - 0s 5ms/step - loss: 0.0014 - lr: 1.0000e-04\n",
            "Epoch 150/200\n",
            "6/6 [==============================] - 0s 4ms/step - loss: 0.0015 - lr: 1.0000e-04\n",
            "Epoch 151/200\n",
            "6/6 [==============================] - 0s 3ms/step - loss: 0.0014 - lr: 1.0000e-04\n",
            "Epoch 152/200\n",
            "6/6 [==============================] - 0s 4ms/step - loss: 0.0015 - lr: 1.0000e-04\n",
            "Epoch 153/200\n",
            "6/6 [==============================] - 0s 3ms/step - loss: 0.0015 - lr: 1.0000e-04\n",
            "Epoch 154/200\n",
            "6/6 [==============================] - 0s 4ms/step - loss: 0.0014 - lr: 1.0000e-04\n",
            "Epoch 155/200\n",
            "6/6 [==============================] - 0s 3ms/step - loss: 0.0015 - lr: 1.0000e-04\n",
            "Epoch 156/200\n",
            "6/6 [==============================] - 0s 4ms/step - loss: 0.0016 - lr: 1.0000e-04\n",
            "Epoch 157/200\n",
            "6/6 [==============================] - 0s 4ms/step - loss: 0.0015 - lr: 1.0000e-04\n",
            "Epoch 158/200\n",
            "6/6 [==============================] - 0s 4ms/step - loss: 0.0014 - lr: 1.0000e-04\n",
            "Epoch 159/200\n",
            "6/6 [==============================] - 0s 4ms/step - loss: 0.0014 - lr: 1.0000e-04\n",
            "Epoch 160/200\n",
            "6/6 [==============================] - 0s 3ms/step - loss: 0.0014 - lr: 1.0000e-04\n",
            "Epoch 161/200\n",
            "6/6 [==============================] - 0s 3ms/step - loss: 0.0016 - lr: 1.0000e-04\n",
            "Epoch 162/200\n",
            "6/6 [==============================] - 0s 4ms/step - loss: 0.0015 - lr: 1.0000e-04\n",
            "Epoch 163/200\n",
            "6/6 [==============================] - 0s 4ms/step - loss: 0.0014 - lr: 1.0000e-04\n",
            "Epoch 164/200\n",
            "6/6 [==============================] - 0s 3ms/step - loss: 0.0014 - lr: 1.0000e-04\n",
            "Epoch 165/200\n",
            "6/6 [==============================] - 0s 3ms/step - loss: 0.0014 - lr: 1.0000e-04\n",
            "Epoch 166/200\n",
            "6/6 [==============================] - 0s 3ms/step - loss: 0.0014 - lr: 1.0000e-04\n",
            "Epoch 167/200\n",
            "6/6 [==============================] - 0s 3ms/step - loss: 0.0014 - lr: 1.0000e-04\n",
            "Epoch 168/200\n",
            "6/6 [==============================] - 0s 3ms/step - loss: 0.0014 - lr: 1.0000e-04\n",
            "Epoch 169/200\n",
            "6/6 [==============================] - 0s 4ms/step - loss: 0.0014 - lr: 1.0000e-04\n",
            "Epoch 170/200\n",
            "6/6 [==============================] - 0s 4ms/step - loss: 0.0014 - lr: 1.0000e-04\n",
            "Epoch 171/200\n",
            "6/6 [==============================] - 0s 5ms/step - loss: 0.0014 - lr: 1.0000e-04\n",
            "Epoch 172/200\n",
            "6/6 [==============================] - 0s 3ms/step - loss: 0.0014 - lr: 1.0000e-04\n",
            "Epoch 173/200\n",
            "6/6 [==============================] - 0s 3ms/step - loss: 0.0014 - lr: 1.0000e-04\n",
            "Epoch 174/200\n",
            "6/6 [==============================] - 0s 4ms/step - loss: 0.0014 - lr: 1.0000e-04\n",
            "Epoch 175/200\n",
            "6/6 [==============================] - 0s 3ms/step - loss: 0.0014 - lr: 1.0000e-04\n",
            "Epoch 176/200\n",
            "6/6 [==============================] - 0s 3ms/step - loss: 0.0014 - lr: 1.0000e-04\n",
            "Epoch 177/200\n",
            "6/6 [==============================] - 0s 3ms/step - loss: 0.0014 - lr: 1.0000e-04\n",
            "Epoch 178/200\n",
            "6/6 [==============================] - 0s 4ms/step - loss: 0.0014 - lr: 1.0000e-04\n",
            "Epoch 179/200\n",
            "6/6 [==============================] - 0s 3ms/step - loss: 0.0014 - lr: 1.0000e-04\n",
            "Epoch 180/200\n",
            "6/6 [==============================] - 0s 3ms/step - loss: 0.0014 - lr: 1.0000e-04\n",
            "Epoch 181/200\n",
            "6/6 [==============================] - 0s 3ms/step - loss: 0.0014 - lr: 1.0000e-04\n",
            "Epoch 182/200\n",
            "6/6 [==============================] - 0s 3ms/step - loss: 0.0014 - lr: 1.0000e-04\n",
            "Epoch 183/200\n",
            "6/6 [==============================] - 0s 4ms/step - loss: 0.0014 - lr: 1.0000e-04\n",
            "Epoch 184/200\n",
            "6/6 [==============================] - 0s 6ms/step - loss: 0.0014 - lr: 1.0000e-04\n",
            "Epoch 185/200\n",
            "6/6 [==============================] - 0s 4ms/step - loss: 0.0014 - lr: 1.0000e-04\n",
            "Epoch 186/200\n",
            "6/6 [==============================] - 0s 3ms/step - loss: 0.0014 - lr: 1.0000e-04\n",
            "Epoch 187/200\n",
            "6/6 [==============================] - 0s 3ms/step - loss: 0.0014 - lr: 1.0000e-04\n",
            "Epoch 188/200\n",
            "6/6 [==============================] - 0s 3ms/step - loss: 0.0014 - lr: 1.0000e-04\n",
            "Epoch 189/200\n",
            "6/6 [==============================] - 0s 3ms/step - loss: 0.0014 - lr: 1.0000e-04\n",
            "Epoch 190/200\n",
            "6/6 [==============================] - 0s 3ms/step - loss: 0.0014 - lr: 1.0000e-04\n",
            "Epoch 191/200\n",
            "6/6 [==============================] - 0s 3ms/step - loss: 0.0014 - lr: 1.0000e-04\n",
            "Epoch 192/200\n",
            "6/6 [==============================] - 0s 3ms/step - loss: 0.0014 - lr: 1.0000e-04\n",
            "Epoch 193/200\n",
            "6/6 [==============================] - 0s 3ms/step - loss: 0.0014 - lr: 1.0000e-04\n",
            "Epoch 194/200\n",
            "6/6 [==============================] - 0s 3ms/step - loss: 0.0014 - lr: 1.0000e-04\n",
            "Epoch 195/200\n",
            "6/6 [==============================] - 0s 3ms/step - loss: 0.0014 - lr: 1.0000e-04\n",
            "Epoch 196/200\n",
            "6/6 [==============================] - 0s 3ms/step - loss: 0.0014 - lr: 1.0000e-04\n",
            "Epoch 197/200\n",
            "6/6 [==============================] - 0s 3ms/step - loss: 0.0014 - lr: 1.0000e-04\n",
            "Epoch 198/200\n",
            "6/6 [==============================] - 0s 3ms/step - loss: 0.0015 - lr: 1.0000e-04\n",
            "Epoch 199/200\n",
            "6/6 [==============================] - 0s 3ms/step - loss: 0.0016 - lr: 1.0000e-04\n",
            "Epoch 200/200\n",
            "6/6 [==============================] - 0s 3ms/step - loss: 0.0014 - lr: 1.0000e-04\n"
          ]
        }
      ]
    },
    {
      "cell_type": "code",
      "source": [
        "## plot the loss and accuracy\n",
        "plt.plot(r.history[\"loss\"], label = \"Loss\")\n",
        "plt.legend();"
      ],
      "metadata": {
        "colab": {
          "base_uri": "https://localhost:8080/",
          "height": 265
        },
        "id": "VkQz3NMjxlwB",
        "outputId": "98ec1d34-82f9-48e2-849c-cb504eb573fe"
      },
      "execution_count": 43,
      "outputs": [
        {
          "output_type": "display_data",
          "data": {
            "text/plain": [
              "<Figure size 432x288 with 1 Axes>"
            ],
            "image/png": "[encoded data removed]"
          },
          "metadata": {
            "needs_background": "light"
          }
        }
      ]
    },
    {
      "cell_type": "code",
      "source": [
        "model.layers"
      ],
      "metadata": {
        "colab": {
          "base_uri": "https://localhost:8080/"
        },
        "id": "JHihjHa7x1LI",
        "outputId": "a3d63834-d3f8-4f06-9040-613a2de31daa"
      },
      "execution_count": 45,
      "outputs": [
        {
          "output_type": "execute_result",
          "data": {
            "text/plain": [
              "[<keras.layers.core.dense.Dense at 0x7faed80ba5e0>]"
            ]
          },
          "metadata": {},
          "execution_count": 45
        }
      ]
    },
    {
      "cell_type": "code",
      "source": [
        "model.layers[0].get_weights()"
      ],
      "metadata": {
        "colab": {
          "base_uri": "https://localhost:8080/"
        },
        "id": "R8CR2-jC0HiT",
        "outputId": "ce93db62-e03d-4d62-9d96-89a0220fcd80"
      },
      "execution_count": 46,
      "outputs": [
        {
          "output_type": "execute_result",
          "data": {
            "text/plain": [
              "[array([[0.00820793]], dtype=float32), array([0.02717653], dtype=float32)]"
            ]
          },
          "metadata": {},
          "execution_count": 46
        }
      ]
    },
    {
      "cell_type": "code",
      "source": [
        "a = model.layers[0].get_weights()[0][0,0]\n",
        "print(a)"
      ],
      "metadata": {
        "colab": {
          "base_uri": "https://localhost:8080/"
        },
        "id": "82PkJa4i0Oou",
        "outputId": "2a3c8853-41a8-4b63-8e81-084fbf513c0a"
      },
      "execution_count": 47,
      "outputs": [
        {
          "output_type": "stream",
          "name": "stdout",
          "text": [
            "0.00820793\n"
          ]
        }
      ]
    },
    {
      "cell_type": "code",
      "source": [
        "print(\"Time to Double :--\", np.log(2)/a)"
      ],
      "metadata": {
        "colab": {
          "base_uri": "https://localhost:8080/"
        },
        "id": "LAF2rJNy0YEm",
        "outputId": "de9404d1-a8eb-45df-fe52-33ec297193ce"
      },
      "execution_count": 48,
      "outputs": [
        {
          "output_type": "stream",
          "name": "stdout",
          "text": [
            "Time to Double :-- 84.44847352287933\n"
          ]
        }
      ]
    },
    {
      "cell_type": "markdown",
      "source": [
        "***"
      ],
      "metadata": {
        "id": "Uthwi3XS0ntj"
      }
    }
  ]
}