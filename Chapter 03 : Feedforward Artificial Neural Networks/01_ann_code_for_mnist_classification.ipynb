{
  "nbformat": 4,
  "nbformat_minor": 0,
  "metadata": {
    "colab": {
      "provenance": [],
      "authorship_tag": "ABX9TyMZJmJgMrio8VAgqAzyLPBq",
      "include_colab_link": true
    },
    "kernelspec": {
      "name": "python3",
      "display_name": "Python 3"
    },
    "language_info": {
      "name": "python"
    }
  },
  "cells": [
    {
      "cell_type": "markdown",
      "metadata": {
        "id": "view-in-github",
        "colab_type": "text"
      },
      "source": [
        "<a href=\"https://colab.research.google.com/github/AMEERKOTTA/Deep-Learning-and-Artificial-Intelligence-Tensorflow-2.0/blob/main/Chapter%2003%20%3A%20Feedforward%20Artificial%20Neural%20Networks/01_ann_code_for_mnist_classification.ipynb\" target=\"_parent\"><img src=\"https://colab.research.google.com/assets/colab-badge.svg\" alt=\"Open In Colab\"/></a>"
      ]
    },
    {
      "cell_type": "markdown",
      "source": [
        "# **MNIST CLASSIFICATION USING ARTIFICIAL NEURAL NETWORKS**"
      ],
      "metadata": {
        "id": "Hnig17MM5i9b"
      }
    },
    {
      "cell_type": "markdown",
      "source": [
        "ANN CODE PREPERATIONS\n",
        "\n",
        "+ Load the Dataset.\n",
        "  + Here using the MNIST Dataset.\n",
        "  + It contains 10 classes.\n",
        "  + Already included in Tensroflow.\n",
        "\n",
        "+ Build the Model.\n",
        "  + Sequential dense layers ending with multiclass logistic regression.\n",
        "\n",
        "+ Compile and Train the Model.\n",
        "  + compile the model\n",
        "  + train the model.\n",
        "\n",
        "+ Evaluate the Model\n",
        "+ Make Predictions."
      ],
      "metadata": {
        "id": "4KW9qY0x6RPj"
      }
    },
    {
      "cell_type": "markdown",
      "source": [
        "IMPORT LIBRARIES"
      ],
      "metadata": {
        "id": "_16Los2m7K9N"
      }
    },
    {
      "cell_type": "code",
      "source": [
        "import tensorflow as tf\n",
        "from tensorflow import keras"
      ],
      "metadata": {
        "id": "gub9dsfl5vNx"
      },
      "execution_count": 1,
      "outputs": []
    },
    {
      "cell_type": "markdown",
      "source": [
        "LOAD THE DATA"
      ],
      "metadata": {
        "id": "F7gUwYbJ7SQT"
      }
    },
    {
      "cell_type": "code",
      "source": [
        "## load the data\n",
        "mnist = tf.keras.datasets.mnist\n",
        "(train_images, train_labels), (test_images, test_labels) = mnist.load_data()\n",
        "print(\"Train Images Shape :--\", train_images.shape)\n",
        "print(\"Train Labels Shape :--\", train_labels.shape)\n",
        "print(\"Test Images Shape :--\", test_images.shape)\n",
        "print(\"Test Labels Shape :--\", test_labels.shape)"
      ],
      "metadata": {
        "colab": {
          "base_uri": "https://localhost:8080/"
        },
        "id": "gPz0y9QK7Qlr",
        "outputId": "1616f52a-ac6c-43fe-db2b-fba333c0ec56"
      },
      "execution_count": 9,
      "outputs": [
        {
          "output_type": "stream",
          "name": "stdout",
          "text": [
            "Train Images Shape :-- (60000, 28, 28)\n",
            "Train Labels Shape :-- (60000,)\n",
            "Test Images Shape :-- (10000, 28, 28)\n",
            "Test Labels Shape :-- (10000,)\n"
          ]
        }
      ]
    },
    {
      "cell_type": "code",
      "source": [
        "## now transform the train images and test images to `[0-1]`\n",
        "train_images = train_images / 255\n",
        "test_images = test_images / 255"
      ],
      "metadata": {
        "id": "TxdEtghS7pY1"
      },
      "execution_count": 11,
      "outputs": []
    },
    {
      "cell_type": "code",
      "source": [
        "train_images.shape[1:3]"
      ],
      "metadata": {
        "colab": {
          "base_uri": "https://localhost:8080/"
        },
        "id": "ujG1-Qyl9Hqx",
        "outputId": "b5245930-28c7-4016-c49a-d5843579f04a"
      },
      "execution_count": 15,
      "outputs": [
        {
          "output_type": "execute_result",
          "data": {
            "text/plain": [
              "(28, 28)"
            ]
          },
          "metadata": {},
          "execution_count": 15
        }
      ]
    },
    {
      "cell_type": "markdown",
      "source": [
        "BUILD THE MODEL"
      ],
      "metadata": {
        "id": "IAfxzvAK81tc"
      }
    },
    {
      "cell_type": "code",
      "source": [
        "model = tf.keras.models.Sequential([\n",
        "    tf.keras.layers.Flatten(input_shape = train_images.shape[1:3]),\n",
        "    tf.keras.layers.Dense(128, activation = \"relu\"),\n",
        "    tf.keras.layers.Dropout(0.2),\n",
        "    tf.keras.layers.Dense(10, activation = \"softmax\")\n",
        "])\n",
        "\n",
        "model.summary()"
      ],
      "metadata": {
        "colab": {
          "base_uri": "https://localhost:8080/"
        },
        "id": "1tD1Z_eJ8imS",
        "outputId": "1506408e-1fbc-40b0-ae1d-f36ff50b9094"
      },
      "execution_count": 17,
      "outputs": [
        {
          "output_type": "stream",
          "name": "stdout",
          "text": [
            "Model: \"sequential_1\"\n",
            "_________________________________________________________________\n",
            " Layer (type)                Output Shape              Param #   \n",
            "=================================================================\n",
            " flatten_1 (Flatten)         (None, 784)               0         \n",
            "                                                                 \n",
            " dense_2 (Dense)             (None, 128)               100480    \n",
            "                                                                 \n",
            " dropout_1 (Dropout)         (None, 128)               0         \n",
            "                                                                 \n",
            " dense_3 (Dense)             (None, 10)                1290      \n",
            "                                                                 \n",
            "=================================================================\n",
            "Total params: 101,770\n",
            "Trainable params: 101,770\n",
            "Non-trainable params: 0\n",
            "_________________________________________________________________\n"
          ]
        }
      ]
    },
    {
      "cell_type": "markdown",
      "source": [
        "COMPILE AND TRAIN THE MODEL"
      ],
      "metadata": {
        "id": "7lo0acaf9qBu"
      }
    },
    {
      "cell_type": "code",
      "source": [
        "model.compile(\n",
        "    optimizer = \"adam\",\n",
        "    loss = \"sparse_categorical_crossentropy\",\n",
        "    metrics = [\"accuracy\"]\n",
        ")\n",
        "\n",
        "r = model.fit(train_images, train_labels, validation_data = (test_images, test_labesl), epochs = 50)"
      ],
      "metadata": {
        "colab": {
          "base_uri": "https://localhost:8080/"
        },
        "id": "ozQTxaSi9kqm",
        "outputId": "0dcc89a6-a5d3-4613-d230-24a47ef8b279"
      },
      "execution_count": 21,
      "outputs": [
        {
          "output_type": "stream",
          "name": "stdout",
          "text": [
            "Epoch 1/50\n",
            "1875/1875 [==============================] - 9s 4ms/step - loss: 0.0164 - accuracy: 0.9945 - val_loss: 0.1201 - val_accuracy: 0.9805\n",
            "Epoch 2/50\n",
            "1875/1875 [==============================] - 9s 5ms/step - loss: 0.0166 - accuracy: 0.9949 - val_loss: 0.1134 - val_accuracy: 0.9797\n",
            "Epoch 3/50\n",
            "1875/1875 [==============================] - 7s 4ms/step - loss: 0.0153 - accuracy: 0.9946 - val_loss: 0.1166 - val_accuracy: 0.9804\n",
            "Epoch 4/50\n",
            "1875/1875 [==============================] - 8s 4ms/step - loss: 0.0148 - accuracy: 0.9949 - val_loss: 0.1062 - val_accuracy: 0.9816\n",
            "Epoch 5/50\n",
            "1875/1875 [==============================] - 7s 4ms/step - loss: 0.0164 - accuracy: 0.9944 - val_loss: 0.1151 - val_accuracy: 0.9815\n",
            "Epoch 6/50\n",
            "1875/1875 [==============================] - 9s 5ms/step - loss: 0.0158 - accuracy: 0.9948 - val_loss: 0.1143 - val_accuracy: 0.9821\n",
            "Epoch 7/50\n",
            "1875/1875 [==============================] - 8s 4ms/step - loss: 0.0140 - accuracy: 0.9955 - val_loss: 0.1056 - val_accuracy: 0.9821\n",
            "Epoch 8/50\n",
            "1875/1875 [==============================] - 7s 4ms/step - loss: 0.0152 - accuracy: 0.9945 - val_loss: 0.1117 - val_accuracy: 0.9818\n",
            "Epoch 9/50\n",
            "1875/1875 [==============================] - 9s 5ms/step - loss: 0.0146 - accuracy: 0.9951 - val_loss: 0.1101 - val_accuracy: 0.9821\n",
            "Epoch 10/50\n",
            "1875/1875 [==============================] - 8s 4ms/step - loss: 0.0140 - accuracy: 0.9953 - val_loss: 0.1048 - val_accuracy: 0.9827\n",
            "Epoch 11/50\n",
            "1875/1875 [==============================] - 7s 4ms/step - loss: 0.0131 - accuracy: 0.9957 - val_loss: 0.1169 - val_accuracy: 0.9818\n",
            "Epoch 12/50\n",
            "1875/1875 [==============================] - 8s 4ms/step - loss: 0.0138 - accuracy: 0.9950 - val_loss: 0.1106 - val_accuracy: 0.9824\n",
            "Epoch 13/50\n",
            "1875/1875 [==============================] - 7s 4ms/step - loss: 0.0135 - accuracy: 0.9950 - val_loss: 0.1188 - val_accuracy: 0.9802\n",
            "Epoch 14/50\n",
            "1875/1875 [==============================] - 8s 4ms/step - loss: 0.0139 - accuracy: 0.9950 - val_loss: 0.1131 - val_accuracy: 0.9810\n",
            "Epoch 15/50\n",
            "1875/1875 [==============================] - 8s 4ms/step - loss: 0.0150 - accuracy: 0.9950 - val_loss: 0.1196 - val_accuracy: 0.9809\n",
            "Epoch 16/50\n",
            "1875/1875 [==============================] - 7s 4ms/step - loss: 0.0132 - accuracy: 0.9956 - val_loss: 0.1101 - val_accuracy: 0.9805\n",
            "Epoch 17/50\n",
            "1875/1875 [==============================] - 8s 4ms/step - loss: 0.0136 - accuracy: 0.9958 - val_loss: 0.1238 - val_accuracy: 0.9810\n",
            "Epoch 18/50\n",
            "1875/1875 [==============================] - 7s 4ms/step - loss: 0.0139 - accuracy: 0.9952 - val_loss: 0.1259 - val_accuracy: 0.9809\n",
            "Epoch 19/50\n",
            "1875/1875 [==============================] - 8s 4ms/step - loss: 0.0147 - accuracy: 0.9954 - val_loss: 0.1276 - val_accuracy: 0.9813\n",
            "Epoch 20/50\n",
            "1875/1875 [==============================] - 8s 4ms/step - loss: 0.0144 - accuracy: 0.9953 - val_loss: 0.1326 - val_accuracy: 0.9799\n",
            "Epoch 21/50\n",
            "1875/1875 [==============================] - 7s 4ms/step - loss: 0.0133 - accuracy: 0.9956 - val_loss: 0.1313 - val_accuracy: 0.9809\n",
            "Epoch 22/50\n",
            "1875/1875 [==============================] - 8s 4ms/step - loss: 0.0124 - accuracy: 0.9962 - val_loss: 0.1270 - val_accuracy: 0.9816\n",
            "Epoch 23/50\n",
            "1875/1875 [==============================] - 7s 4ms/step - loss: 0.0144 - accuracy: 0.9955 - val_loss: 0.1268 - val_accuracy: 0.9816\n",
            "Epoch 24/50\n",
            "1875/1875 [==============================] - 8s 4ms/step - loss: 0.0141 - accuracy: 0.9954 - val_loss: 0.1234 - val_accuracy: 0.9824\n",
            "Epoch 25/50\n",
            "1875/1875 [==============================] - 7s 4ms/step - loss: 0.0127 - accuracy: 0.9958 - val_loss: 0.1285 - val_accuracy: 0.9814\n",
            "Epoch 26/50\n",
            "1875/1875 [==============================] - 8s 4ms/step - loss: 0.0142 - accuracy: 0.9955 - val_loss: 0.1407 - val_accuracy: 0.9802\n",
            "Epoch 27/50\n",
            "1875/1875 [==============================] - 8s 4ms/step - loss: 0.0111 - accuracy: 0.9964 - val_loss: 0.1243 - val_accuracy: 0.9819\n",
            "Epoch 28/50\n",
            "1875/1875 [==============================] - 7s 4ms/step - loss: 0.0129 - accuracy: 0.9957 - val_loss: 0.1360 - val_accuracy: 0.9798\n",
            "Epoch 29/50\n",
            "1875/1875 [==============================] - 8s 4ms/step - loss: 0.0147 - accuracy: 0.9957 - val_loss: 0.1292 - val_accuracy: 0.9818\n",
            "Epoch 30/50\n",
            "1875/1875 [==============================] - 7s 4ms/step - loss: 0.0132 - accuracy: 0.9952 - val_loss: 0.1371 - val_accuracy: 0.9797\n",
            "Epoch 31/50\n",
            "1875/1875 [==============================] - 8s 4ms/step - loss: 0.0117 - accuracy: 0.9959 - val_loss: 0.1354 - val_accuracy: 0.9811\n",
            "Epoch 32/50\n",
            "1875/1875 [==============================] - 8s 4ms/step - loss: 0.0131 - accuracy: 0.9959 - val_loss: 0.1351 - val_accuracy: 0.9815\n",
            "Epoch 33/50\n",
            "1875/1875 [==============================] - 7s 4ms/step - loss: 0.0134 - accuracy: 0.9954 - val_loss: 0.1446 - val_accuracy: 0.9793\n",
            "Epoch 34/50\n",
            "1875/1875 [==============================] - 8s 4ms/step - loss: 0.0119 - accuracy: 0.9961 - val_loss: 0.1419 - val_accuracy: 0.9806\n",
            "Epoch 35/50\n",
            "1875/1875 [==============================] - 7s 4ms/step - loss: 0.0123 - accuracy: 0.9960 - val_loss: 0.1241 - val_accuracy: 0.9828\n",
            "Epoch 36/50\n",
            "1875/1875 [==============================] - 8s 4ms/step - loss: 0.0126 - accuracy: 0.9960 - val_loss: 0.1462 - val_accuracy: 0.9801\n",
            "Epoch 37/50\n",
            "1875/1875 [==============================] - 9s 5ms/step - loss: 0.0119 - accuracy: 0.9963 - val_loss: 0.1410 - val_accuracy: 0.9815\n",
            "Epoch 38/50\n",
            "1875/1875 [==============================] - 7s 4ms/step - loss: 0.0132 - accuracy: 0.9960 - val_loss: 0.1414 - val_accuracy: 0.9805\n",
            "Epoch 39/50\n",
            "1875/1875 [==============================] - 8s 4ms/step - loss: 0.0121 - accuracy: 0.9960 - val_loss: 0.1397 - val_accuracy: 0.9805\n",
            "Epoch 40/50\n",
            "1875/1875 [==============================] - 7s 4ms/step - loss: 0.0120 - accuracy: 0.9958 - val_loss: 0.1567 - val_accuracy: 0.9796\n",
            "Epoch 41/50\n",
            "1875/1875 [==============================] - 8s 4ms/step - loss: 0.0117 - accuracy: 0.9960 - val_loss: 0.1434 - val_accuracy: 0.9801\n",
            "Epoch 42/50\n",
            "1875/1875 [==============================] - 8s 5ms/step - loss: 0.0115 - accuracy: 0.9962 - val_loss: 0.1342 - val_accuracy: 0.9811\n",
            "Epoch 43/50\n",
            "1875/1875 [==============================] - 7s 4ms/step - loss: 0.0114 - accuracy: 0.9966 - val_loss: 0.1447 - val_accuracy: 0.9806\n",
            "Epoch 44/50\n",
            "1875/1875 [==============================] - 8s 5ms/step - loss: 0.0122 - accuracy: 0.9958 - val_loss: 0.1443 - val_accuracy: 0.9807\n",
            "Epoch 45/50\n",
            "1875/1875 [==============================] - 8s 4ms/step - loss: 0.0123 - accuracy: 0.9961 - val_loss: 0.1591 - val_accuracy: 0.9797\n",
            "Epoch 46/50\n",
            "1875/1875 [==============================] - 8s 4ms/step - loss: 0.0103 - accuracy: 0.9965 - val_loss: 0.1500 - val_accuracy: 0.9810\n",
            "Epoch 47/50\n",
            "1875/1875 [==============================] - 8s 5ms/step - loss: 0.0115 - accuracy: 0.9963 - val_loss: 0.1429 - val_accuracy: 0.9809\n",
            "Epoch 48/50\n",
            "1875/1875 [==============================] - 7s 4ms/step - loss: 0.0139 - accuracy: 0.9957 - val_loss: 0.1443 - val_accuracy: 0.9807\n",
            "Epoch 49/50\n",
            "1875/1875 [==============================] - 8s 4ms/step - loss: 0.0104 - accuracy: 0.9965 - val_loss: 0.1588 - val_accuracy: 0.9807\n",
            "Epoch 50/50\n",
            "1875/1875 [==============================] - 8s 4ms/step - loss: 0.0112 - accuracy: 0.9962 - val_loss: 0.1612 - val_accuracy: 0.9788\n"
          ]
        }
      ]
    },
    {
      "cell_type": "code",
      "source": [
        "## plot the losses and accuracies.\n",
        "import matplotlib.pyplot as plt\n",
        "plt.figure(figsize = (10,10))\n",
        "plt.plot(r.history[\"loss\"], label = \"training loss\")\n",
        "plt.plot(r.history[\"val_loss\"], label = \"validation loss\")\n",
        "plt.plot(r.history[\"accuracy\"], label = \"training accuracy\")\n",
        "plt.plot(r.history[\"val_accuracy\"], label = \"validation accuracy\")\n",
        "plt.legend();"
      ],
      "metadata": {
        "colab": {
          "base_uri": "https://localhost:8080/",
          "height": 592
        },
        "id": "b54JJB60-mWp",
        "outputId": "23148722-8fef-4ddb-9ee8-94f5aed3d144"
      },
      "execution_count": 22,
      "outputs": [
        {
          "output_type": "display_data",
          "data": {
            "text/plain": [
              "<Figure size 720x720 with 1 Axes>"
            ],
            "image/png": "[encoded data removed]"
          },
          "metadata": {
            "needs_background": "light"
          }
        }
      ]
    },
    {
      "cell_type": "markdown",
      "source": [
        "EVALUATE THE MODEL"
      ],
      "metadata": {
        "id": "1LYygnzPCvQi"
      }
    },
    {
      "cell_type": "code",
      "source": [
        "print(\"Train Score :--\", model.evaluate(train_images, train_labels))\n",
        "print(\"Test Score :--\", model.evaluate(test_images,test_labels))"
      ],
      "metadata": {
        "colab": {
          "base_uri": "https://localhost:8080/"
        },
        "id": "sdIWq4LqCk79",
        "outputId": "bc28537a-13c6-4c89-db65-f2cf450e2bcf"
      },
      "execution_count": 26,
      "outputs": [
        {
          "output_type": "stream",
          "name": "stdout",
          "text": [
            "1875/1875 [==============================] - 4s 2ms/step - loss: 0.0012 - accuracy: 0.9997\n",
            "Train Score :-- [0.0012236147886142135, 0.9996833205223083]\n",
            "313/313 [==============================] - 1s 2ms/step - loss: 0.1612 - accuracy: 0.9788\n",
            "Test Score :-- [0.16119657456874847, 0.9787999987602234]\n"
          ]
        }
      ]
    },
    {
      "cell_type": "markdown",
      "source": [
        "***"
      ],
      "metadata": {
        "id": "q6qf9eq5EW6E"
      }
    }
  ]
}