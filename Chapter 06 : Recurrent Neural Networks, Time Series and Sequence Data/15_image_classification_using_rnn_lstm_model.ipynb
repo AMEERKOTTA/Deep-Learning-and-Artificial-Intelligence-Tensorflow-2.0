{
  "nbformat": 4,
  "nbformat_minor": 0,
  "metadata": {
    "colab": {
      "provenance": [],
      "authorship_tag": "ABX9TyOJcnr8h5Axn4FpiC7eFRP0",
      "include_colab_link": true
    },
    "kernelspec": {
      "name": "python3",
      "display_name": "Python 3"
    },
    "language_info": {
      "name": "python"
    },
    "accelerator": "GPU",
    "gpuClass": "standard"
  },
  "cells": [
    {
      "cell_type": "markdown",
      "metadata": {
        "id": "view-in-github",
        "colab_type": "text"
      },
      "source": [
        "<a href=\"https://colab.research.google.com/github/AMEERKOTTA/Deep-Learning-and-Artificial-Intelligence-Tensorflow-2.0/blob/main/Chapter%2006%20%3A%20Recurrent%20Neural%20Networks%2C%20Time%20Series%20and%20Sequence%20Data/15_image_classification_using_rnn_lstm_model.ipynb\" target=\"_parent\"><img src=\"https://colab.research.google.com/assets/colab-badge.svg\" alt=\"Open In Colab\"/></a>"
      ]
    },
    {
      "cell_type": "markdown",
      "source": [
        "# **IMAGE CLASSIFICATION USING RNN LSTM MODEL**\n",
        "\n",
        "+ Dataset will be MNIST Handwritten Digit Dataset."
      ],
      "metadata": {
        "id": "efx3HbznBhCl"
      }
    },
    {
      "cell_type": "markdown",
      "source": [
        "IMPORT LIBRARIES"
      ],
      "metadata": {
        "id": "CHx4HsgwBw7N"
      }
    },
    {
      "cell_type": "code",
      "source": [
        "import tensorflow as tf\n",
        "from tensorflow.keras.layers import Input, SimpleRNN, GRU, LSTM, Dense, Flatten, GlobalMaxPooling1D\n",
        "from tensorflow.keras.models import Model\n",
        "from tensorflow.keras.optimizers import SGD, Adam\n",
        "\n",
        "import numpy as np\n",
        "import pandas as pd\n",
        "import matplotlib.pyplot as plt"
      ],
      "metadata": {
        "id": "-Nzu0si7Bo9H"
      },
      "execution_count": 1,
      "outputs": []
    },
    {
      "cell_type": "markdown",
      "source": [
        "LOAD THE DATASET"
      ],
      "metadata": {
        "id": "LpLw5eD_CbXO"
      }
    },
    {
      "cell_type": "code",
      "source": [
        "mnist = tf.keras.datasets.mnist\n",
        "(x_train, y_train), (x_test, y_test) = mnist.load_data()\n",
        "## normalize the training and testing set.\n",
        "x_train = x_train / 255\n",
        "x_test = x_test / 255\n",
        "\n",
        "print(x_train.shape)\n",
        "print(y_train.shape)\n",
        "print(x_test.shape)\n",
        "print(y_test.shape)"
      ],
      "metadata": {
        "colab": {
          "base_uri": "https://localhost:8080/"
        },
        "id": "TvHRpLx-B1T6",
        "outputId": "1fa9fb95-c7a1-4a1d-e110-df2bef68aa8e"
      },
      "execution_count": 2,
      "outputs": [
        {
          "output_type": "stream",
          "name": "stdout",
          "text": [
            "Downloading data from https://storage.googleapis.com/tensorflow/tf-keras-datasets/mnist.npz\n",
            "11490434/11490434 [==============================] - 2s 0us/step\n",
            "(60000, 28, 28)\n",
            "(60000,)\n",
            "(10000, 28, 28)\n",
            "(10000,)\n"
          ]
        }
      ]
    },
    {
      "cell_type": "markdown",
      "source": [
        "BUILD THE MODEL"
      ],
      "metadata": {
        "id": "2gBdTgG4EbGd"
      }
    },
    {
      "cell_type": "code",
      "source": [
        "i = Input(shape = x_train[0].shape)\n",
        "x = LSTM(128)(i)\n",
        "x = Dense(10, activation = \"softmax\")(x)\n",
        "model = Model(i, x)\n",
        "model.summary()"
      ],
      "metadata": {
        "colab": {
          "base_uri": "https://localhost:8080/"
        },
        "id": "Y9I1yCfjDHt-",
        "outputId": "1886ce97-a2ec-4e7b-f030-73c904262f28"
      },
      "execution_count": 3,
      "outputs": [
        {
          "output_type": "stream",
          "name": "stdout",
          "text": [
            "Model: \"model\"\n",
            "_________________________________________________________________\n",
            " Layer (type)                Output Shape              Param #   \n",
            "=================================================================\n",
            " input_1 (InputLayer)        [(None, 28, 28)]          0         \n",
            "                                                                 \n",
            " lstm (LSTM)                 (None, 128)               80384     \n",
            "                                                                 \n",
            " dense (Dense)               (None, 10)                1290      \n",
            "                                                                 \n",
            "=================================================================\n",
            "Total params: 81,674\n",
            "Trainable params: 81,674\n",
            "Non-trainable params: 0\n",
            "_________________________________________________________________\n"
          ]
        }
      ]
    },
    {
      "cell_type": "markdown",
      "source": [
        "COMPILE THE MODEL"
      ],
      "metadata": {
        "id": "nwnUAQfMEz0k"
      }
    },
    {
      "cell_type": "code",
      "source": [
        "model.compile(\n",
        "    optimizer = \"adam\",\n",
        "    loss = \"sparse_categorical_crossentropy\",\n",
        "    metrics = [\"accuracy\"]\n",
        ")"
      ],
      "metadata": {
        "id": "GFXJ7CNfEwuZ"
      },
      "execution_count": 4,
      "outputs": []
    },
    {
      "cell_type": "markdown",
      "source": [
        "TRAIN THE MODEL"
      ],
      "metadata": {
        "id": "mLFWfOvSFBcs"
      }
    },
    {
      "cell_type": "code",
      "source": [
        "r = model.fit(x_train, y_train, \n",
        "              validation_data = (x_test, y_test),\n",
        "              epochs = 50)"
      ],
      "metadata": {
        "colab": {
          "base_uri": "https://localhost:8080/"
        },
        "id": "IiWfbGO6FAhR",
        "outputId": "425677d7-0bda-49dc-d18b-0233ed4944fc"
      },
      "execution_count": 5,
      "outputs": [
        {
          "output_type": "stream",
          "name": "stdout",
          "text": [
            "Epoch 1/50\n",
            "1875/1875 [==============================] - 18s 6ms/step - loss: 0.3417 - accuracy: 0.8901 - val_loss: 0.1223 - val_accuracy: 0.9626\n",
            "Epoch 2/50\n",
            "1875/1875 [==============================] - 10s 5ms/step - loss: 0.1043 - accuracy: 0.9691 - val_loss: 0.0889 - val_accuracy: 0.9747\n",
            "Epoch 3/50\n",
            "1875/1875 [==============================] - 10s 5ms/step - loss: 0.0724 - accuracy: 0.9783 - val_loss: 0.0678 - val_accuracy: 0.9795\n",
            "Epoch 4/50\n",
            "1875/1875 [==============================] - 10s 5ms/step - loss: 0.0556 - accuracy: 0.9831 - val_loss: 0.0607 - val_accuracy: 0.9798\n",
            "Epoch 5/50\n",
            "1875/1875 [==============================] - 10s 5ms/step - loss: 0.0446 - accuracy: 0.9861 - val_loss: 0.0668 - val_accuracy: 0.9799\n",
            "Epoch 6/50\n",
            "1875/1875 [==============================] - 10s 5ms/step - loss: 0.0373 - accuracy: 0.9883 - val_loss: 0.0616 - val_accuracy: 0.9804\n",
            "Epoch 7/50\n",
            "1875/1875 [==============================] - 10s 5ms/step - loss: 0.0322 - accuracy: 0.9897 - val_loss: 0.0446 - val_accuracy: 0.9859\n",
            "Epoch 8/50\n",
            "1875/1875 [==============================] - 10s 5ms/step - loss: 0.0292 - accuracy: 0.9912 - val_loss: 0.0469 - val_accuracy: 0.9852\n",
            "Epoch 9/50\n",
            "1875/1875 [==============================] - 10s 5ms/step - loss: 0.0252 - accuracy: 0.9920 - val_loss: 0.0506 - val_accuracy: 0.9854\n",
            "Epoch 10/50\n",
            "1875/1875 [==============================] - 9s 5ms/step - loss: 0.0227 - accuracy: 0.9927 - val_loss: 0.0417 - val_accuracy: 0.9876\n",
            "Epoch 11/50\n",
            "1875/1875 [==============================] - 11s 6ms/step - loss: 0.0195 - accuracy: 0.9939 - val_loss: 0.0429 - val_accuracy: 0.9871\n",
            "Epoch 12/50\n",
            "1875/1875 [==============================] - 10s 5ms/step - loss: 0.0162 - accuracy: 0.9952 - val_loss: 0.0388 - val_accuracy: 0.9878\n",
            "Epoch 13/50\n",
            "1875/1875 [==============================] - 10s 5ms/step - loss: 0.0166 - accuracy: 0.9948 - val_loss: 0.0467 - val_accuracy: 0.9876\n",
            "Epoch 14/50\n",
            "1875/1875 [==============================] - 10s 5ms/step - loss: 0.0162 - accuracy: 0.9948 - val_loss: 0.0412 - val_accuracy: 0.9883\n",
            "Epoch 15/50\n",
            "1875/1875 [==============================] - 10s 5ms/step - loss: 0.0127 - accuracy: 0.9959 - val_loss: 0.0435 - val_accuracy: 0.9866\n",
            "Epoch 16/50\n",
            "1875/1875 [==============================] - 10s 5ms/step - loss: 0.0119 - accuracy: 0.9962 - val_loss: 0.0418 - val_accuracy: 0.9889\n",
            "Epoch 17/50\n",
            "1875/1875 [==============================] - 10s 5ms/step - loss: 0.0112 - accuracy: 0.9964 - val_loss: 0.0447 - val_accuracy: 0.9874\n",
            "Epoch 18/50\n",
            "1875/1875 [==============================] - 10s 5ms/step - loss: 0.0118 - accuracy: 0.9962 - val_loss: 0.0428 - val_accuracy: 0.9883\n",
            "Epoch 19/50\n",
            "1875/1875 [==============================] - 10s 5ms/step - loss: 0.0101 - accuracy: 0.9967 - val_loss: 0.0385 - val_accuracy: 0.9898\n",
            "Epoch 20/50\n",
            "1875/1875 [==============================] - 9s 5ms/step - loss: 0.0095 - accuracy: 0.9970 - val_loss: 0.0437 - val_accuracy: 0.9883\n",
            "Epoch 21/50\n",
            "1875/1875 [==============================] - 10s 5ms/step - loss: 0.0090 - accuracy: 0.9973 - val_loss: 0.0410 - val_accuracy: 0.9889\n",
            "Epoch 22/50\n",
            "1875/1875 [==============================] - 10s 5ms/step - loss: 0.0097 - accuracy: 0.9969 - val_loss: 0.0458 - val_accuracy: 0.9877\n",
            "Epoch 23/50\n",
            "1875/1875 [==============================] - 10s 5ms/step - loss: 0.0081 - accuracy: 0.9973 - val_loss: 0.0426 - val_accuracy: 0.9890\n",
            "Epoch 24/50\n",
            "1875/1875 [==============================] - 10s 5ms/step - loss: 0.0088 - accuracy: 0.9974 - val_loss: 0.0397 - val_accuracy: 0.9896\n",
            "Epoch 25/50\n",
            "1875/1875 [==============================] - 10s 5ms/step - loss: 0.0073 - accuracy: 0.9979 - val_loss: 0.0466 - val_accuracy: 0.9890\n",
            "Epoch 26/50\n",
            "1875/1875 [==============================] - 11s 6ms/step - loss: 0.0068 - accuracy: 0.9979 - val_loss: 0.0460 - val_accuracy: 0.9873\n",
            "Epoch 27/50\n",
            "1875/1875 [==============================] - 10s 6ms/step - loss: 0.0079 - accuracy: 0.9974 - val_loss: 0.0477 - val_accuracy: 0.9875\n",
            "Epoch 28/50\n",
            "1875/1875 [==============================] - 10s 5ms/step - loss: 0.0063 - accuracy: 0.9981 - val_loss: 0.0391 - val_accuracy: 0.9889\n",
            "Epoch 29/50\n",
            "1875/1875 [==============================] - 10s 5ms/step - loss: 0.0062 - accuracy: 0.9981 - val_loss: 0.0431 - val_accuracy: 0.9893\n",
            "Epoch 30/50\n",
            "1875/1875 [==============================] - 9s 5ms/step - loss: 0.0061 - accuracy: 0.9981 - val_loss: 0.0427 - val_accuracy: 0.9887\n",
            "Epoch 31/50\n",
            "1875/1875 [==============================] - 10s 5ms/step - loss: 0.0048 - accuracy: 0.9987 - val_loss: 0.0476 - val_accuracy: 0.9893\n",
            "Epoch 32/50\n",
            "1875/1875 [==============================] - 10s 5ms/step - loss: 0.0069 - accuracy: 0.9978 - val_loss: 0.0556 - val_accuracy: 0.9877\n",
            "Epoch 33/50\n",
            "1875/1875 [==============================] - 10s 5ms/step - loss: 0.0046 - accuracy: 0.9986 - val_loss: 0.0446 - val_accuracy: 0.9896\n",
            "Epoch 34/50\n",
            "1875/1875 [==============================] - 10s 5ms/step - loss: 0.0059 - accuracy: 0.9983 - val_loss: 0.0457 - val_accuracy: 0.9891\n",
            "Epoch 35/50\n",
            "1875/1875 [==============================] - 10s 5ms/step - loss: 0.0041 - accuracy: 0.9988 - val_loss: 0.0395 - val_accuracy: 0.9912\n",
            "Epoch 36/50\n",
            "1875/1875 [==============================] - 10s 5ms/step - loss: 0.0056 - accuracy: 0.9985 - val_loss: 0.0429 - val_accuracy: 0.9882\n",
            "Epoch 37/50\n",
            "1875/1875 [==============================] - 10s 5ms/step - loss: 0.0054 - accuracy: 0.9981 - val_loss: 0.0445 - val_accuracy: 0.9893\n",
            "Epoch 38/50\n",
            "1875/1875 [==============================] - 10s 5ms/step - loss: 0.0039 - accuracy: 0.9989 - val_loss: 0.0507 - val_accuracy: 0.9877\n",
            "Epoch 39/50\n",
            "1875/1875 [==============================] - 10s 5ms/step - loss: 0.0053 - accuracy: 0.9984 - val_loss: 0.0468 - val_accuracy: 0.9895\n",
            "Epoch 40/50\n",
            "1875/1875 [==============================] - 10s 5ms/step - loss: 0.0036 - accuracy: 0.9989 - val_loss: 0.0522 - val_accuracy: 0.9874\n",
            "Epoch 41/50\n",
            "1875/1875 [==============================] - 11s 6ms/step - loss: 0.0041 - accuracy: 0.9988 - val_loss: 0.0435 - val_accuracy: 0.9904\n",
            "Epoch 42/50\n",
            "1875/1875 [==============================] - 10s 5ms/step - loss: 0.0038 - accuracy: 0.9988 - val_loss: 0.0528 - val_accuracy: 0.9879\n",
            "Epoch 43/50\n",
            "1875/1875 [==============================] - 10s 5ms/step - loss: 0.0042 - accuracy: 0.9987 - val_loss: 0.0429 - val_accuracy: 0.9904\n",
            "Epoch 44/50\n",
            "1875/1875 [==============================] - 10s 5ms/step - loss: 0.0048 - accuracy: 0.9985 - val_loss: 0.0418 - val_accuracy: 0.9901\n",
            "Epoch 45/50\n",
            "1875/1875 [==============================] - 9s 5ms/step - loss: 0.0041 - accuracy: 0.9988 - val_loss: 0.0476 - val_accuracy: 0.9900\n",
            "Epoch 46/50\n",
            "1875/1875 [==============================] - 10s 5ms/step - loss: 0.0025 - accuracy: 0.9993 - val_loss: 0.0484 - val_accuracy: 0.9894\n",
            "Epoch 47/50\n",
            "1875/1875 [==============================] - 10s 5ms/step - loss: 0.0055 - accuracy: 0.9983 - val_loss: 0.0484 - val_accuracy: 0.9903\n",
            "Epoch 48/50\n",
            "1875/1875 [==============================] - 10s 5ms/step - loss: 0.0020 - accuracy: 0.9993 - val_loss: 0.0468 - val_accuracy: 0.9901\n",
            "Epoch 49/50\n",
            "1875/1875 [==============================] - 10s 5ms/step - loss: 0.0041 - accuracy: 0.9988 - val_loss: 0.0522 - val_accuracy: 0.9887\n",
            "Epoch 50/50\n",
            "1875/1875 [==============================] - 9s 5ms/step - loss: 0.0034 - accuracy: 0.9990 - val_loss: 0.0525 - val_accuracy: 0.9875\n"
          ]
        }
      ]
    },
    {
      "cell_type": "code",
      "source": [
        "## plot the loss and accuracy\n",
        "plt.plot(r.history[\"loss\"], label = \"Training Loss\")\n",
        "plt.plot(r.history[\"val_loss\"], label = \"Validation Loss\")\n",
        "plt.legend();\n",
        "plt.show();"
      ],
      "metadata": {
        "colab": {
          "base_uri": "https://localhost:8080/",
          "height": 265
        },
        "id": "lPvEZUSOFLAT",
        "outputId": "e9493e13-1afe-4a75-86d5-9833aa24ee7e"
      },
      "execution_count": 6,
      "outputs": [
        {
          "output_type": "display_data",
          "data": {
            "text/plain": [
              "<Figure size 432x288 with 1 Axes>"
            ],
            "image/png": "[encoded data removed]"
          },
          "metadata": {
            "needs_background": "light"
          }
        }
      ]
    },
    {
      "cell_type": "code",
      "source": [
        "## plot the loss and accuracy\n",
        "plt.plot(r.history[\"accuracy\"], label = \"Training Accuracy\")\n",
        "plt.plot(r.history[\"val_accuracy\"], label = \"Validation Accuracy\")\n",
        "plt.legend();\n",
        "plt.show();"
      ],
      "metadata": {
        "colab": {
          "base_uri": "https://localhost:8080/",
          "height": 265
        },
        "id": "EukEb8i5FPwN",
        "outputId": "04e5ecce-454e-4bd6-9fa0-4eaa3fb7d9b0"
      },
      "execution_count": 7,
      "outputs": [
        {
          "output_type": "display_data",
          "data": {
            "text/plain": [
              "<Figure size 432x288 with 1 Axes>"
            ],
            "image/png": "[encoded data removed]"
          },
          "metadata": {
            "needs_background": "light"
          }
        }
      ]
    },
    {
      "cell_type": "markdown",
      "source": [
        "The model giving output that we can rely on with 99% training and validation accuracy.\n",
        "\n",
        "***"
      ],
      "metadata": {
        "id": "zMz0R60GHp1x"
      }
    }
  ]
}