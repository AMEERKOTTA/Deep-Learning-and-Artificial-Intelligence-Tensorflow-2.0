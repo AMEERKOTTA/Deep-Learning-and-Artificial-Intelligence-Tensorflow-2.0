{
  "nbformat": 4,
  "nbformat_minor": 0,
  "metadata": {
    "colab": {
      "provenance": [],
      "authorship_tag": "ABX9TyNnqWo8zSvQS7FlC47ZMSWa",
      "include_colab_link": true
    },
    "kernelspec": {
      "name": "python3",
      "display_name": "Python 3"
    },
    "language_info": {
      "name": "python"
    }
  },
  "cells": [
    {
      "cell_type": "markdown",
      "metadata": {
        "id": "view-in-github",
        "colab_type": "text"
      },
      "source": [
        "<a href=\"https://colab.research.google.com/github/AMEERKOTTA/Deep-Learning-and-Artificial-Intelligence-Tensorflow-2.0/blob/main/Chapter%2006%20%3A%20Recurrent%20Neural%20Networks%2C%20Time%20Series%20and%20Sequence%20Data/05_simple_rnn_model_on_noise_sine_data.ipynb\" target=\"_parent\"><img src=\"https://colab.research.google.com/assets/colab-badge.svg\" alt=\"Open In Colab\"/></a>"
      ]
    },
    {
      "cell_type": "markdown",
      "source": [
        "# **SIMPLE RNN MODEL**\n",
        "\n",
        "STEPS \n",
        "\n",
        "1. Load the Data.\n",
        "2. Build the Model.\n",
        "3. Train the Model.\n",
        "4. Evaluate the Model.\n",
        "5. Make Predictions."
      ],
      "metadata": {
        "id": "oQLGxpDH3TlV"
      }
    },
    {
      "cell_type": "markdown",
      "source": [
        "IMPORT LIBRARIES"
      ],
      "metadata": {
        "id": "hdmwZG0C3r7L"
      }
    },
    {
      "cell_type": "code",
      "source": [
        "import tensorflow as tf\n",
        "from tensorflow.keras.layers import Input, SimpleRNN, Dense\n",
        "from tensorflow.keras.models import Model\n",
        "from tensorflow.keras.optimizers import SGD, Adam\n",
        "\n",
        "import numpy as np\n",
        "import pandas as pd\n",
        "import matplotlib.pyplot as plt"
      ],
      "metadata": {
        "id": "ufCj3pTv3rEe"
      },
      "execution_count": 3,
      "outputs": []
    },
    {
      "cell_type": "markdown",
      "source": [
        "LOAD THE DATA\n",
        "\n",
        "+ From a Sine Wave (with and without noise) we will create a Supervised Learning Dataset.\n",
        "+ Input Sequence of length T.\n",
        "+ Target :- Output next values.\n",
        "+ Count from t=0, to len(series) - T\n",
        "+ Since the final target should be at len(series) - T.\n",
        "+ Linear Regression expects 2D input (NxT)\n",
        "+ In RNN expects 3D input (NxTx1)"
      ],
      "metadata": {
        "id": "PIX6GwRz38yn"
      }
    },
    {
      "cell_type": "code",
      "source": [
        "## make the synthetic data, very basic time series, a sine wave without noise\n",
        "series = np.sin(0.1 * np.arange(200))\n",
        "## plot the series\n",
        "plt.plot(series)\n",
        "plt.show()"
      ],
      "metadata": {
        "colab": {
          "base_uri": "https://localhost:8080/",
          "height": 265
        },
        "id": "nCYBj_oA3X41",
        "outputId": "c7f00866-0da2-4873-d5ca-283426990df7"
      },
      "execution_count": 4,
      "outputs": [
        {
          "output_type": "display_data",
          "data": {
            "text/plain": [
              "<Figure size 432x288 with 1 Axes>"
            ],
            "image/png": "[encoded data removed]"
          },
          "metadata": {
            "needs_background": "light"
          }
        }
      ]
    },
    {
      "cell_type": "code",
      "source": [
        "## build the dataset.\n",
        "## lets see if we can use T past values to predict the next values.\n",
        "T = 10\n",
        "D = 1\n",
        "X = []\n",
        "Y = []\n",
        "\n",
        "## loop over the range of len of series.\n",
        "## and populate the X and Y.\n",
        "for t in range(len(series) - T):\n",
        "  #print(t)  ## 0 to 190\n",
        "  x = series[t:t+T]\n",
        "  X.append(x)\n",
        "  y = series[t+T]\n",
        "  Y.append(y)\n",
        "\n",
        "X = np.array(X).reshape(-1,T,1)  ## now the data should be NxTxD\n",
        "Y = np.array(Y)\n",
        "N = len(X)\n",
        "print(\"X Shape : \", X.shape, \"Y Shape : \", Y.shape)"
      ],
      "metadata": {
        "colab": {
          "base_uri": "https://localhost:8080/"
        },
        "id": "-i7scuZP4wfm",
        "outputId": "44479b6d-096f-4476-b6d4-3c5da55b8fde"
      },
      "execution_count": 6,
      "outputs": [
        {
          "output_type": "stream",
          "name": "stdout",
          "text": [
            "X Shape :  (190, 10, 1) Y Shape :  (190,)\n"
          ]
        }
      ]
    },
    {
      "cell_type": "markdown",
      "source": [
        "BUILD THE RNN MODEL"
      ],
      "metadata": {
        "id": "8xjxtyPL5hqw"
      }
    },
    {
      "cell_type": "code",
      "source": [
        "i = Input(shape = (T,1))\n",
        "x = SimpleRNN(5)(i)  ## defalt activation is \"tanh\"\n",
        "x = Dense(1)(x)\n",
        "model = Model(i, x)\n",
        "model.summary()"
      ],
      "metadata": {
        "colab": {
          "base_uri": "https://localhost:8080/"
        },
        "id": "uw_BNRvK5OQy",
        "outputId": "f4114089-9966-4ccc-f9c2-737926aad407"
      },
      "execution_count": 13,
      "outputs": [
        {
          "output_type": "stream",
          "name": "stdout",
          "text": [
            "Model: \"model_1\"\n",
            "_________________________________________________________________\n",
            " Layer (type)                Output Shape              Param #   \n",
            "=================================================================\n",
            " input_2 (InputLayer)        [(None, 10, 1)]           0         \n",
            "                                                                 \n",
            " simple_rnn_1 (SimpleRNN)    (None, 5)                 35        \n",
            "                                                                 \n",
            " dense_1 (Dense)             (None, 1)                 6         \n",
            "                                                                 \n",
            "=================================================================\n",
            "Total params: 41\n",
            "Trainable params: 41\n",
            "Non-trainable params: 0\n",
            "_________________________________________________________________\n"
          ]
        }
      ]
    },
    {
      "cell_type": "code",
      "source": [
        "## compile the model\n",
        "model.compile(\n",
        "    loss = \"mse\",\n",
        "    optimizer = Adam(learning_rate=0.1)\n",
        ")"
      ],
      "metadata": {
        "id": "JgZqmkCS53tQ"
      },
      "execution_count": 14,
      "outputs": []
    },
    {
      "cell_type": "code",
      "source": [
        "## train the model\n",
        "r = model.fit(X[:-N//2], Y[:-N//2], epochs = 100, validation_data = (X[-N//2:], Y[-N//2:]))"
      ],
      "metadata": {
        "id": "6fSgpRvX6C_L"
      },
      "execution_count": null,
      "outputs": []
    },
    {
      "cell_type": "code",
      "source": [
        "## plotting the loss\n",
        "plt.plot(r.history[\"loss\"], label = \"Training Loss\")\n",
        "plt.plot(r.history[\"val_loss\"], label = \"Validation Loss\")\n",
        "plt.legend();\n",
        "plt.show()"
      ],
      "metadata": {
        "colab": {
          "base_uri": "https://localhost:8080/",
          "height": 265
        },
        "id": "avd6erFu6V44",
        "outputId": "2b78419f-4bfb-48b2-8b20-310ef6c7bc82"
      },
      "execution_count": 16,
      "outputs": [
        {
          "output_type": "display_data",
          "data": {
            "text/plain": [
              "<Figure size 432x288 with 1 Axes>"
            ],
            "image/png": "[encoded data removed]"
          },
          "metadata": {
            "needs_background": "light"
          }
        }
      ]
    },
    {
      "cell_type": "markdown",
      "source": [
        "DOING THE ONE STEP FORECAST"
      ],
      "metadata": {
        "id": "HS1s2PgY61wD"
      }
    },
    {
      "cell_type": "code",
      "source": [
        "## wrong forecast using the true targets.\n",
        "validation_target = Y[-N//2:]\n",
        "# print(len(validation_target))\n",
        "validation_predictions = []  ## empty list need to be appended after making the predictions.\n",
        "\n",
        "## index of the first validation input\n",
        "i = -N//2\n",
        "# print(i)\n",
        "\n",
        "## looping through the while loop\n",
        "while len(validation_predictions) < len(validation_target):\n",
        "  ## predict the model\n",
        "  p = model.predict(X[i].reshape(1,-1))[0,0]\n",
        "  # print(p)\n",
        "  i += 1\n",
        "\n",
        "  ## update the prediction list\n",
        "  validation_predictions.append(p)\n",
        "\n",
        "## plot the figure using the target and predictions.\n",
        "plt.plot(validation_target, label = \"Forecast Target\")\n",
        "plt.plot(validation_predictions, label = \"Forecast Predictions\")\n",
        "plt.legend();\n",
        "plt.show()"
      ],
      "metadata": {
        "colab": {
          "base_uri": "https://localhost:8080/",
          "height": 1000
        },
        "id": "HZfUYmrW6tX0",
        "outputId": "e3b02f90-0a78-488e-e06b-aca19d384eb3"
      },
      "execution_count": 17,
      "outputs": [
        {
          "output_type": "stream",
          "name": "stdout",
          "text": [
            "1/1 [==============================] - 0s 173ms/step\n",
            "1/1 [==============================] - 0s 24ms/step\n",
            "1/1 [==============================] - 0s 23ms/step\n",
            "1/1 [==============================] - 0s 24ms/step\n",
            "1/1 [==============================] - 0s 24ms/step\n",
            "1/1 [==============================] - 0s 25ms/step\n",
            "1/1 [==============================] - 0s 27ms/step\n",
            "1/1 [==============================] - 0s 24ms/step\n",
            "1/1 [==============================] - 0s 34ms/step\n",
            "1/1 [==============================] - 0s 28ms/step\n",
            "1/1 [==============================] - 0s 28ms/step\n",
            "1/1 [==============================] - 0s 35ms/step\n",
            "1/1 [==============================] - 0s 26ms/step\n",
            "1/1 [==============================] - 0s 23ms/step\n",
            "1/1 [==============================] - 0s 25ms/step\n",
            "1/1 [==============================] - 0s 27ms/step\n",
            "1/1 [==============================] - 0s 30ms/step\n",
            "1/1 [==============================] - 0s 27ms/step\n",
            "1/1 [==============================] - 0s 29ms/step\n",
            "1/1 [==============================] - 0s 30ms/step\n",
            "1/1 [==============================] - 0s 26ms/step\n",
            "1/1 [==============================] - 0s 26ms/step\n",
            "1/1 [==============================] - 0s 24ms/step\n",
            "1/1 [==============================] - 0s 27ms/step\n",
            "1/1 [==============================] - 0s 27ms/step\n",
            "1/1 [==============================] - 0s 28ms/step\n",
            "1/1 [==============================] - 0s 41ms/step\n",
            "1/1 [==============================] - 0s 43ms/step\n",
            "1/1 [==============================] - 0s 37ms/step\n",
            "1/1 [==============================] - 0s 41ms/step\n",
            "1/1 [==============================] - 0s 41ms/step\n",
            "1/1 [==============================] - 0s 38ms/step\n",
            "1/1 [==============================] - 0s 40ms/step\n",
            "1/1 [==============================] - 0s 38ms/step\n",
            "1/1 [==============================] - 0s 40ms/step\n",
            "1/1 [==============================] - 0s 46ms/step\n",
            "1/1 [==============================] - 0s 36ms/step\n",
            "1/1 [==============================] - 0s 42ms/step\n",
            "1/1 [==============================] - 0s 39ms/step\n",
            "1/1 [==============================] - 0s 41ms/step\n",
            "1/1 [==============================] - 0s 38ms/step\n",
            "1/1 [==============================] - 0s 44ms/step\n",
            "1/1 [==============================] - 0s 49ms/step\n",
            "1/1 [==============================] - 0s 47ms/step\n",
            "1/1 [==============================] - 0s 39ms/step\n",
            "1/1 [==============================] - 0s 39ms/step\n",
            "1/1 [==============================] - 0s 41ms/step\n",
            "1/1 [==============================] - 0s 29ms/step\n",
            "1/1 [==============================] - 0s 26ms/step\n",
            "1/1 [==============================] - 0s 27ms/step\n",
            "1/1 [==============================] - 0s 27ms/step\n",
            "1/1 [==============================] - 0s 26ms/step\n",
            "1/1 [==============================] - 0s 27ms/step\n",
            "1/1 [==============================] - 0s 27ms/step\n",
            "1/1 [==============================] - 0s 25ms/step\n",
            "1/1 [==============================] - 0s 27ms/step\n",
            "1/1 [==============================] - 0s 24ms/step\n",
            "1/1 [==============================] - 0s 26ms/step\n",
            "1/1 [==============================] - 0s 26ms/step\n",
            "1/1 [==============================] - 0s 27ms/step\n",
            "1/1 [==============================] - 0s 27ms/step\n",
            "1/1 [==============================] - 0s 28ms/step\n",
            "1/1 [==============================] - 0s 30ms/step\n",
            "1/1 [==============================] - 0s 26ms/step\n",
            "1/1 [==============================] - 0s 25ms/step\n",
            "1/1 [==============================] - 0s 27ms/step\n",
            "1/1 [==============================] - 0s 25ms/step\n",
            "1/1 [==============================] - 0s 28ms/step\n",
            "1/1 [==============================] - 0s 24ms/step\n",
            "1/1 [==============================] - 0s 27ms/step\n",
            "1/1 [==============================] - 0s 26ms/step\n",
            "1/1 [==============================] - 0s 27ms/step\n",
            "1/1 [==============================] - 0s 26ms/step\n",
            "1/1 [==============================] - 0s 29ms/step\n",
            "1/1 [==============================] - 0s 29ms/step\n",
            "1/1 [==============================] - 0s 26ms/step\n",
            "1/1 [==============================] - 0s 27ms/step\n",
            "1/1 [==============================] - 0s 25ms/step\n",
            "1/1 [==============================] - 0s 29ms/step\n",
            "1/1 [==============================] - 0s 29ms/step\n",
            "1/1 [==============================] - 0s 27ms/step\n",
            "1/1 [==============================] - 0s 26ms/step\n",
            "1/1 [==============================] - 0s 25ms/step\n",
            "1/1 [==============================] - 0s 25ms/step\n",
            "1/1 [==============================] - 0s 26ms/step\n",
            "1/1 [==============================] - 0s 26ms/step\n",
            "1/1 [==============================] - 0s 29ms/step\n",
            "1/1 [==============================] - 0s 30ms/step\n",
            "1/1 [==============================] - 0s 33ms/step\n",
            "1/1 [==============================] - 0s 34ms/step\n",
            "1/1 [==============================] - 0s 36ms/step\n",
            "1/1 [==============================] - 0s 38ms/step\n",
            "1/1 [==============================] - 0s 35ms/step\n",
            "1/1 [==============================] - 0s 39ms/step\n",
            "1/1 [==============================] - 0s 36ms/step\n"
          ]
        },
        {
          "output_type": "display_data",
          "data": {
            "text/plain": [
              "<Figure size 432x288 with 1 Axes>"
            ],
            "image/png": "[encoded data removed]"
          },
          "metadata": {
            "needs_background": "light"
          }
        }
      ]
    },
    {
      "cell_type": "markdown",
      "source": [
        "REAL FORECAST\n",
        "\n"
      ],
      "metadata": {
        "id": "l_fSrrlX7CnH"
      }
    },
    {
      "cell_type": "code",
      "source": [
        "## forecast future values only using the self predictions for making the future predictions.\n",
        "validation_target = Y[-N//2:]\n",
        "# print(len(validation_target))\n",
        "validation_predictions = []  ## empty list need to be appended after making the predictions.\n",
        "\n",
        "## last train input\n",
        "last_x = X[-N//2]  ## 1D array of length T\n",
        "\n",
        "## looping through the while loop\n",
        "while len(validation_predictions) < len(validation_target):\n",
        "  ## predict the model\n",
        "  p = model.predict(last_x.reshape(1,-1))[0,0]\n",
        "\n",
        "  ## update the prediction list\n",
        "  validation_predictions.append(p)\n",
        "\n",
        "  ## make the new input\n",
        "  last_x = np.roll(last_x, -1)\n",
        "  last_x[-1] = p\n",
        "\n",
        "## plot the figure using the target and predictions.\n",
        "plt.plot(validation_target, label = \"Forecast Target\")\n",
        "plt.plot(validation_predictions, label = \"Forecast Predictions\")\n",
        "plt.legend();\n",
        "plt.show()\n"
      ],
      "metadata": {
        "colab": {
          "base_uri": "https://localhost:8080/",
          "height": 1000
        },
        "id": "JtQJiiG164UE",
        "outputId": "7b0139a8-cd4c-4f1a-db41-af0c1cab4162"
      },
      "execution_count": 18,
      "outputs": [
        {
          "output_type": "stream",
          "name": "stdout",
          "text": [
            "1/1 [==============================] - 0s 51ms/step\n",
            "1/1 [==============================] - 0s 46ms/step\n",
            "1/1 [==============================] - 0s 50ms/step\n",
            "1/1 [==============================] - 0s 51ms/step\n",
            "1/1 [==============================] - 0s 50ms/step\n",
            "1/1 [==============================] - 0s 57ms/step\n",
            "1/1 [==============================] - 0s 51ms/step\n",
            "1/1 [==============================] - 0s 43ms/step\n",
            "1/1 [==============================] - 0s 50ms/step\n",
            "1/1 [==============================] - 0s 47ms/step\n",
            "1/1 [==============================] - 0s 33ms/step\n",
            "1/1 [==============================] - 0s 33ms/step\n",
            "1/1 [==============================] - 0s 41ms/step\n",
            "1/1 [==============================] - 0s 31ms/step\n",
            "1/1 [==============================] - 0s 34ms/step\n",
            "1/1 [==============================] - 0s 31ms/step\n",
            "1/1 [==============================] - 0s 35ms/step\n",
            "1/1 [==============================] - 0s 33ms/step\n",
            "1/1 [==============================] - 0s 29ms/step\n",
            "1/1 [==============================] - 0s 28ms/step\n",
            "1/1 [==============================] - 0s 28ms/step\n",
            "1/1 [==============================] - 0s 29ms/step\n",
            "1/1 [==============================] - 0s 28ms/step\n",
            "1/1 [==============================] - 0s 33ms/step\n",
            "1/1 [==============================] - 0s 29ms/step\n",
            "1/1 [==============================] - 0s 32ms/step\n",
            "1/1 [==============================] - 0s 35ms/step\n",
            "1/1 [==============================] - 0s 29ms/step\n",
            "1/1 [==============================] - 0s 32ms/step\n",
            "1/1 [==============================] - 0s 29ms/step\n",
            "1/1 [==============================] - 0s 29ms/step\n",
            "1/1 [==============================] - 0s 26ms/step\n",
            "1/1 [==============================] - 0s 26ms/step\n",
            "1/1 [==============================] - 0s 26ms/step\n",
            "1/1 [==============================] - 0s 31ms/step\n",
            "1/1 [==============================] - 0s 29ms/step\n",
            "1/1 [==============================] - 0s 27ms/step\n",
            "1/1 [==============================] - 0s 26ms/step\n",
            "1/1 [==============================] - 0s 29ms/step\n",
            "1/1 [==============================] - 0s 23ms/step\n",
            "1/1 [==============================] - 0s 27ms/step\n",
            "1/1 [==============================] - 0s 25ms/step\n",
            "1/1 [==============================] - 0s 23ms/step\n",
            "1/1 [==============================] - 0s 28ms/step\n",
            "1/1 [==============================] - 0s 30ms/step\n",
            "1/1 [==============================] - 0s 28ms/step\n",
            "1/1 [==============================] - 0s 27ms/step\n",
            "1/1 [==============================] - 0s 23ms/step\n",
            "1/1 [==============================] - 0s 24ms/step\n",
            "1/1 [==============================] - 0s 24ms/step\n",
            "1/1 [==============================] - 0s 24ms/step\n",
            "1/1 [==============================] - 0s 25ms/step\n",
            "1/1 [==============================] - 0s 29ms/step\n",
            "1/1 [==============================] - 0s 32ms/step\n",
            "1/1 [==============================] - 0s 26ms/step\n",
            "1/1 [==============================] - 0s 24ms/step\n",
            "1/1 [==============================] - 0s 26ms/step\n",
            "1/1 [==============================] - 0s 26ms/step\n",
            "1/1 [==============================] - 0s 24ms/step\n",
            "1/1 [==============================] - 0s 24ms/step\n",
            "1/1 [==============================] - 0s 27ms/step\n",
            "1/1 [==============================] - 0s 29ms/step\n",
            "1/1 [==============================] - 0s 29ms/step\n",
            "1/1 [==============================] - 0s 29ms/step\n",
            "1/1 [==============================] - 0s 35ms/step\n",
            "1/1 [==============================] - 0s 24ms/step\n",
            "1/1 [==============================] - 0s 24ms/step\n",
            "1/1 [==============================] - 0s 24ms/step\n",
            "1/1 [==============================] - 0s 25ms/step\n",
            "1/1 [==============================] - 0s 30ms/step\n",
            "1/1 [==============================] - 0s 34ms/step\n",
            "1/1 [==============================] - 0s 27ms/step\n",
            "1/1 [==============================] - 0s 27ms/step\n",
            "1/1 [==============================] - 0s 28ms/step\n",
            "1/1 [==============================] - 0s 31ms/step\n",
            "1/1 [==============================] - 0s 26ms/step\n",
            "1/1 [==============================] - 0s 24ms/step\n",
            "1/1 [==============================] - 0s 23ms/step\n",
            "1/1 [==============================] - 0s 24ms/step\n",
            "1/1 [==============================] - 0s 24ms/step\n",
            "1/1 [==============================] - 0s 28ms/step\n",
            "1/1 [==============================] - 0s 26ms/step\n",
            "1/1 [==============================] - 0s 27ms/step\n",
            "1/1 [==============================] - 0s 24ms/step\n",
            "1/1 [==============================] - 0s 24ms/step\n",
            "1/1 [==============================] - 0s 27ms/step\n",
            "1/1 [==============================] - 0s 24ms/step\n",
            "1/1 [==============================] - 0s 24ms/step\n",
            "1/1 [==============================] - 0s 24ms/step\n",
            "1/1 [==============================] - 0s 26ms/step\n",
            "1/1 [==============================] - 0s 26ms/step\n",
            "1/1 [==============================] - 0s 24ms/step\n",
            "1/1 [==============================] - 0s 24ms/step\n",
            "1/1 [==============================] - 0s 24ms/step\n",
            "1/1 [==============================] - 0s 27ms/step\n"
          ]
        },
        {
          "output_type": "display_data",
          "data": {
            "text/plain": [
              "<Figure size 432x288 with 1 Axes>"
            ],
            "image/png": "[encoded data removed]"
          },
          "metadata": {
            "needs_background": "light"
          }
        }
      ]
    },
    {
      "cell_type": "markdown",
      "source": [
        "Here by using the RNN, it is not working as a Perfect Linear Regression Model as we saw Earlier.\n",
        "\n",
        "+ \"relu\" is much better than \"tanh\"."
      ],
      "metadata": {
        "id": "-iGAE-CC70iC"
      }
    },
    {
      "cell_type": "markdown",
      "source": [
        "ADD NOISE AND RUN THE NOTEBOOK BELOW AGAIN."
      ],
      "metadata": {
        "id": "GqOecwNc8f3s"
      }
    },
    {
      "cell_type": "code",
      "source": [
        "## make the synthetic data, very basic time series, a sine wave with noise\n",
        "series = np.sin(0.1 * np.arange(200)) + np.random.randn(200) * 0.1\n",
        "## plot the series\n",
        "plt.plot(series)\n",
        "plt.show()"
      ],
      "metadata": {
        "colab": {
          "base_uri": "https://localhost:8080/",
          "height": 265
        },
        "id": "VvshuXdg7Inc",
        "outputId": "fe1425ea-5457-4b1d-b3b5-3c0c51990840"
      },
      "execution_count": 19,
      "outputs": [
        {
          "output_type": "display_data",
          "data": {
            "text/plain": [
              "<Figure size 432x288 with 1 Axes>"
            ],
            "image/png": "[encoded data removed]"
          },
          "metadata": {
            "needs_background": "light"
          }
        }
      ]
    },
    {
      "cell_type": "code",
      "source": [
        "## build the dataset.\n",
        "## lets see if we can use T past values to predict the next values.\n",
        "T = 10\n",
        "D = 1\n",
        "X = []\n",
        "Y = []\n",
        "\n",
        "## loop over the range of len of series.\n",
        "## and populate the X and Y.\n",
        "for t in range(len(series) - T):\n",
        "  #print(t)  ## 0 to 190\n",
        "  x = series[t:t+T]\n",
        "  X.append(x)\n",
        "  y = series[t+T]\n",
        "  Y.append(y)\n",
        "\n",
        "X = np.array(X).reshape(-1,T,1)  ## now the data should be NxTxD\n",
        "Y = np.array(Y)\n",
        "N = len(X)\n",
        "print(\"X Shape : \", X.shape, \"Y Shape : \", Y.shape)"
      ],
      "metadata": {
        "colab": {
          "base_uri": "https://localhost:8080/"
        },
        "id": "YMMStk7o8k4T",
        "outputId": "2540f4dd-f552-474f-97d2-074ed337bfd7"
      },
      "execution_count": 20,
      "outputs": [
        {
          "output_type": "stream",
          "name": "stdout",
          "text": [
            "X Shape :  (190, 10, 1) Y Shape :  (190,)\n"
          ]
        }
      ]
    },
    {
      "cell_type": "code",
      "source": [
        "i = Input(shape = (T,1))\n",
        "x = SimpleRNN(5)(i)  ## defalt activation is \"tanh\"\n",
        "x = Dense(1)(x)\n",
        "model = Model(i, x)\n",
        "model.summary()"
      ],
      "metadata": {
        "colab": {
          "base_uri": "https://localhost:8080/"
        },
        "id": "-XCvFklu8shD",
        "outputId": "b511cad8-f1f0-4967-9b8a-cf4a494c5ca7"
      },
      "execution_count": 21,
      "outputs": [
        {
          "output_type": "stream",
          "name": "stdout",
          "text": [
            "Model: \"model_2\"\n",
            "_________________________________________________________________\n",
            " Layer (type)                Output Shape              Param #   \n",
            "=================================================================\n",
            " input_3 (InputLayer)        [(None, 10, 1)]           0         \n",
            "                                                                 \n",
            " simple_rnn_2 (SimpleRNN)    (None, 5)                 35        \n",
            "                                                                 \n",
            " dense_2 (Dense)             (None, 1)                 6         \n",
            "                                                                 \n",
            "=================================================================\n",
            "Total params: 41\n",
            "Trainable params: 41\n",
            "Non-trainable params: 0\n",
            "_________________________________________________________________\n"
          ]
        }
      ]
    },
    {
      "cell_type": "code",
      "source": [
        "## compile the model\n",
        "model.compile(\n",
        "    loss = \"mse\",\n",
        "    optimizer = Adam(learning_rate=0.1)\n",
        ")\n",
        "\n",
        "## train the model\n",
        "r = model.fit(X[:-N//2], Y[:-N//2], epochs = 100, validation_data = (X[-N//2:], Y[-N//2:]))"
      ],
      "metadata": {
        "colab": {
          "base_uri": "https://localhost:8080/"
        },
        "id": "uNtOZyh-8_8T",
        "outputId": "f78583d7-329d-4a12-a1be-27787e890760"
      },
      "execution_count": 22,
      "outputs": [
        {
          "output_type": "stream",
          "name": "stdout",
          "text": [
            "Epoch 1/100\n",
            "3/3 [==============================] - 1s 143ms/step - loss: 1.0283 - val_loss: 0.0622\n",
            "Epoch 2/100\n",
            "3/3 [==============================] - 0s 34ms/step - loss: 0.0652 - val_loss: 0.0778\n",
            "Epoch 3/100\n",
            "3/3 [==============================] - 0s 31ms/step - loss: 0.0627 - val_loss: 0.0587\n",
            "Epoch 4/100\n",
            "3/3 [==============================] - 0s 30ms/step - loss: 0.0607 - val_loss: 0.0491\n",
            "Epoch 5/100\n",
            "3/3 [==============================] - 0s 34ms/step - loss: 0.0345 - val_loss: 0.0428\n",
            "Epoch 6/100\n",
            "3/3 [==============================] - 0s 32ms/step - loss: 0.0392 - val_loss: 0.0496\n",
            "Epoch 7/100\n",
            "3/3 [==============================] - 0s 30ms/step - loss: 0.0420 - val_loss: 0.0309\n",
            "Epoch 8/100\n",
            "3/3 [==============================] - 0s 24ms/step - loss: 0.0224 - val_loss: 0.0306\n",
            "Epoch 9/100\n",
            "3/3 [==============================] - 0s 23ms/step - loss: 0.0301 - val_loss: 0.0307\n",
            "Epoch 10/100\n",
            "3/3 [==============================] - 0s 23ms/step - loss: 0.0234 - val_loss: 0.0244\n",
            "Epoch 11/100\n",
            "3/3 [==============================] - 0s 30ms/step - loss: 0.0183 - val_loss: 0.0299\n",
            "Epoch 12/100\n",
            "3/3 [==============================] - 0s 24ms/step - loss: 0.0225 - val_loss: 0.0285\n",
            "Epoch 13/100\n",
            "3/3 [==============================] - 0s 32ms/step - loss: 0.0186 - val_loss: 0.0248\n",
            "Epoch 14/100\n",
            "3/3 [==============================] - 0s 29ms/step - loss: 0.0158 - val_loss: 0.0256\n",
            "Epoch 15/100\n",
            "3/3 [==============================] - 0s 23ms/step - loss: 0.0192 - val_loss: 0.0245\n",
            "Epoch 16/100\n",
            "3/3 [==============================] - 0s 24ms/step - loss: 0.0185 - val_loss: 0.0247\n",
            "Epoch 17/100\n",
            "3/3 [==============================] - 0s 31ms/step - loss: 0.0164 - val_loss: 0.0257\n",
            "Epoch 18/100\n",
            "3/3 [==============================] - 0s 26ms/step - loss: 0.0172 - val_loss: 0.0249\n",
            "Epoch 19/100\n",
            "3/3 [==============================] - 0s 30ms/step - loss: 0.0167 - val_loss: 0.0248\n",
            "Epoch 20/100\n",
            "3/3 [==============================] - 0s 28ms/step - loss: 0.0160 - val_loss: 0.0237\n",
            "Epoch 21/100\n",
            "3/3 [==============================] - 0s 23ms/step - loss: 0.0163 - val_loss: 0.0234\n",
            "Epoch 22/100\n",
            "3/3 [==============================] - 0s 30ms/step - loss: 0.0164 - val_loss: 0.0237\n",
            "Epoch 23/100\n",
            "3/3 [==============================] - 0s 24ms/step - loss: 0.0157 - val_loss: 0.0241\n",
            "Epoch 24/100\n",
            "3/3 [==============================] - 0s 25ms/step - loss: 0.0172 - val_loss: 0.0232\n",
            "Epoch 25/100\n",
            "3/3 [==============================] - 0s 23ms/step - loss: 0.0162 - val_loss: 0.0235\n",
            "Epoch 26/100\n",
            "3/3 [==============================] - 0s 30ms/step - loss: 0.0168 - val_loss: 0.0233\n",
            "Epoch 27/100\n",
            "3/3 [==============================] - 0s 29ms/step - loss: 0.0162 - val_loss: 0.0231\n",
            "Epoch 28/100\n",
            "3/3 [==============================] - 0s 23ms/step - loss: 0.0157 - val_loss: 0.0235\n",
            "Epoch 29/100\n",
            "3/3 [==============================] - 0s 29ms/step - loss: 0.0153 - val_loss: 0.0230\n",
            "Epoch 30/100\n",
            "3/3 [==============================] - 0s 22ms/step - loss: 0.0155 - val_loss: 0.0223\n",
            "Epoch 31/100\n",
            "3/3 [==============================] - 0s 24ms/step - loss: 0.0157 - val_loss: 0.0227\n",
            "Epoch 32/100\n",
            "3/3 [==============================] - 0s 22ms/step - loss: 0.0157 - val_loss: 0.0228\n",
            "Epoch 33/100\n",
            "3/3 [==============================] - 0s 22ms/step - loss: 0.0153 - val_loss: 0.0234\n",
            "Epoch 34/100\n",
            "3/3 [==============================] - 0s 29ms/step - loss: 0.0150 - val_loss: 0.0225\n",
            "Epoch 35/100\n",
            "3/3 [==============================] - 0s 22ms/step - loss: 0.0147 - val_loss: 0.0224\n",
            "Epoch 36/100\n",
            "3/3 [==============================] - 0s 37ms/step - loss: 0.0146 - val_loss: 0.0224\n",
            "Epoch 37/100\n",
            "3/3 [==============================] - 0s 23ms/step - loss: 0.0146 - val_loss: 0.0228\n",
            "Epoch 38/100\n",
            "3/3 [==============================] - 0s 25ms/step - loss: 0.0147 - val_loss: 0.0224\n",
            "Epoch 39/100\n",
            "3/3 [==============================] - 0s 29ms/step - loss: 0.0146 - val_loss: 0.0218\n",
            "Epoch 40/100\n",
            "3/3 [==============================] - 0s 22ms/step - loss: 0.0142 - val_loss: 0.0222\n",
            "Epoch 41/100\n",
            "3/3 [==============================] - 0s 22ms/step - loss: 0.0142 - val_loss: 0.0224\n",
            "Epoch 42/100\n",
            "3/3 [==============================] - 0s 30ms/step - loss: 0.0142 - val_loss: 0.0221\n",
            "Epoch 43/100\n",
            "3/3 [==============================] - 0s 29ms/step - loss: 0.0151 - val_loss: 0.0218\n",
            "Epoch 44/100\n",
            "3/3 [==============================] - 0s 24ms/step - loss: 0.0152 - val_loss: 0.0238\n",
            "Epoch 45/100\n",
            "3/3 [==============================] - 0s 26ms/step - loss: 0.0168 - val_loss: 0.0215\n",
            "Epoch 46/100\n",
            "3/3 [==============================] - 0s 31ms/step - loss: 0.0176 - val_loss: 0.0222\n",
            "Epoch 47/100\n",
            "3/3 [==============================] - 0s 28ms/step - loss: 0.0133 - val_loss: 0.0254\n",
            "Epoch 48/100\n",
            "3/3 [==============================] - 0s 22ms/step - loss: 0.0162 - val_loss: 0.0237\n",
            "Epoch 49/100\n",
            "3/3 [==============================] - 0s 33ms/step - loss: 0.0142 - val_loss: 0.0219\n",
            "Epoch 50/100\n",
            "3/3 [==============================] - 0s 32ms/step - loss: 0.0145 - val_loss: 0.0236\n",
            "Epoch 51/100\n",
            "3/3 [==============================] - 0s 33ms/step - loss: 0.0142 - val_loss: 0.0229\n",
            "Epoch 52/100\n",
            "3/3 [==============================] - 0s 23ms/step - loss: 0.0142 - val_loss: 0.0226\n",
            "Epoch 53/100\n",
            "3/3 [==============================] - 0s 23ms/step - loss: 0.0150 - val_loss: 0.0220\n",
            "Epoch 54/100\n",
            "3/3 [==============================] - 0s 25ms/step - loss: 0.0142 - val_loss: 0.0229\n",
            "Epoch 55/100\n",
            "3/3 [==============================] - 0s 26ms/step - loss: 0.0144 - val_loss: 0.0231\n",
            "Epoch 56/100\n",
            "3/3 [==============================] - 0s 24ms/step - loss: 0.0133 - val_loss: 0.0246\n",
            "Epoch 57/100\n",
            "3/3 [==============================] - 0s 26ms/step - loss: 0.0134 - val_loss: 0.0221\n",
            "Epoch 58/100\n",
            "3/3 [==============================] - 0s 30ms/step - loss: 0.0139 - val_loss: 0.0228\n",
            "Epoch 59/100\n",
            "3/3 [==============================] - 0s 34ms/step - loss: 0.0129 - val_loss: 0.0225\n",
            "Epoch 60/100\n",
            "3/3 [==============================] - 0s 23ms/step - loss: 0.0131 - val_loss: 0.0227\n",
            "Epoch 61/100\n",
            "3/3 [==============================] - 0s 24ms/step - loss: 0.0125 - val_loss: 0.0230\n",
            "Epoch 62/100\n",
            "3/3 [==============================] - 0s 30ms/step - loss: 0.0149 - val_loss: 0.0241\n",
            "Epoch 63/100\n",
            "3/3 [==============================] - 0s 29ms/step - loss: 0.0145 - val_loss: 0.0230\n",
            "Epoch 64/100\n",
            "3/3 [==============================] - 0s 29ms/step - loss: 0.0177 - val_loss: 0.0224\n",
            "Epoch 65/100\n",
            "3/3 [==============================] - 0s 22ms/step - loss: 0.0168 - val_loss: 0.0239\n",
            "Epoch 66/100\n",
            "3/3 [==============================] - 0s 25ms/step - loss: 0.0143 - val_loss: 0.0279\n",
            "Epoch 67/100\n",
            "3/3 [==============================] - 0s 26ms/step - loss: 0.0164 - val_loss: 0.0235\n",
            "Epoch 68/100\n",
            "3/3 [==============================] - 0s 36ms/step - loss: 0.0145 - val_loss: 0.0219\n",
            "Epoch 69/100\n",
            "3/3 [==============================] - 0s 25ms/step - loss: 0.0153 - val_loss: 0.0224\n",
            "Epoch 70/100\n",
            "3/3 [==============================] - 0s 24ms/step - loss: 0.0137 - val_loss: 0.0284\n",
            "Epoch 71/100\n",
            "3/3 [==============================] - 0s 23ms/step - loss: 0.0162 - val_loss: 0.0237\n",
            "Epoch 72/100\n",
            "3/3 [==============================] - 0s 29ms/step - loss: 0.0154 - val_loss: 0.0229\n",
            "Epoch 73/100\n",
            "3/3 [==============================] - 0s 23ms/step - loss: 0.0139 - val_loss: 0.0233\n",
            "Epoch 74/100\n",
            "3/3 [==============================] - 0s 23ms/step - loss: 0.0158 - val_loss: 0.0275\n",
            "Epoch 75/100\n",
            "3/3 [==============================] - 0s 27ms/step - loss: 0.0152 - val_loss: 0.0229\n",
            "Epoch 76/100\n",
            "3/3 [==============================] - 0s 30ms/step - loss: 0.0184 - val_loss: 0.0230\n",
            "Epoch 77/100\n",
            "3/3 [==============================] - 0s 22ms/step - loss: 0.0135 - val_loss: 0.0271\n",
            "Epoch 78/100\n",
            "3/3 [==============================] - 0s 30ms/step - loss: 0.0147 - val_loss: 0.0276\n",
            "Epoch 79/100\n",
            "3/3 [==============================] - 0s 32ms/step - loss: 0.0157 - val_loss: 0.0233\n",
            "Epoch 80/100\n",
            "3/3 [==============================] - 0s 24ms/step - loss: 0.0158 - val_loss: 0.0229\n",
            "Epoch 81/100\n",
            "3/3 [==============================] - 0s 37ms/step - loss: 0.0160 - val_loss: 0.0237\n",
            "Epoch 82/100\n",
            "3/3 [==============================] - 0s 24ms/step - loss: 0.0145 - val_loss: 0.0273\n",
            "Epoch 83/100\n",
            "3/3 [==============================] - 0s 23ms/step - loss: 0.0155 - val_loss: 0.0246\n",
            "Epoch 84/100\n",
            "3/3 [==============================] - 0s 29ms/step - loss: 0.0158 - val_loss: 0.0230\n",
            "Epoch 85/100\n",
            "3/3 [==============================] - 0s 25ms/step - loss: 0.0139 - val_loss: 0.0239\n",
            "Epoch 86/100\n",
            "3/3 [==============================] - 0s 26ms/step - loss: 0.0160 - val_loss: 0.0269\n",
            "Epoch 87/100\n",
            "3/3 [==============================] - 0s 24ms/step - loss: 0.0162 - val_loss: 0.0276\n",
            "Epoch 88/100\n",
            "3/3 [==============================] - 0s 29ms/step - loss: 0.0153 - val_loss: 0.0233\n",
            "Epoch 89/100\n",
            "3/3 [==============================] - 0s 40ms/step - loss: 0.0141 - val_loss: 0.0241\n",
            "Epoch 90/100\n",
            "3/3 [==============================] - 0s 35ms/step - loss: 0.0157 - val_loss: 0.0223\n",
            "Epoch 91/100\n",
            "3/3 [==============================] - 0s 39ms/step - loss: 0.0132 - val_loss: 0.0259\n",
            "Epoch 92/100\n",
            "3/3 [==============================] - 0s 38ms/step - loss: 0.0145 - val_loss: 0.0243\n",
            "Epoch 93/100\n",
            "3/3 [==============================] - 0s 37ms/step - loss: 0.0151 - val_loss: 0.0246\n",
            "Epoch 94/100\n",
            "3/3 [==============================] - 0s 40ms/step - loss: 0.0157 - val_loss: 0.0244\n",
            "Epoch 95/100\n",
            "3/3 [==============================] - 0s 50ms/step - loss: 0.0155 - val_loss: 0.0269\n",
            "Epoch 96/100\n",
            "3/3 [==============================] - 0s 32ms/step - loss: 0.0159 - val_loss: 0.0224\n",
            "Epoch 97/100\n",
            "3/3 [==============================] - 0s 38ms/step - loss: 0.0171 - val_loss: 0.0243\n",
            "Epoch 98/100\n",
            "3/3 [==============================] - 0s 37ms/step - loss: 0.0186 - val_loss: 0.0229\n",
            "Epoch 99/100\n",
            "3/3 [==============================] - 0s 40ms/step - loss: 0.0141 - val_loss: 0.0284\n",
            "Epoch 100/100\n",
            "3/3 [==============================] - 0s 31ms/step - loss: 0.0174 - val_loss: 0.0244\n"
          ]
        }
      ]
    },
    {
      "cell_type": "code",
      "source": [
        "## wrong forecast using the true targets.\n",
        "validation_target = Y[-N//2:]\n",
        "# print(len(validation_target))\n",
        "validation_predictions = []  ## empty list need to be appended after making the predictions.\n",
        "\n",
        "## index of the first validation input\n",
        "i = -N//2\n",
        "# print(i)\n",
        "\n",
        "## looping through the while loop\n",
        "while len(validation_predictions) < len(validation_target):\n",
        "  ## predict the model\n",
        "  p = model.predict(X[i].reshape(1,-1))[0,0]\n",
        "  # print(p)\n",
        "  i += 1\n",
        "\n",
        "  ## update the prediction list\n",
        "  validation_predictions.append(p)\n",
        "\n",
        "## plot the figure using the target and predictions.\n",
        "plt.plot(validation_target, label = \"Forecast Target\")\n",
        "plt.plot(validation_predictions, label = \"Forecast Predictions\")\n",
        "plt.legend();\n",
        "plt.show()"
      ],
      "metadata": {
        "colab": {
          "base_uri": "https://localhost:8080/",
          "height": 1000
        },
        "id": "0FQcefAC9NLB",
        "outputId": "c98cf172-8786-4099-ed28-2363ce8cd228"
      },
      "execution_count": 23,
      "outputs": [
        {
          "output_type": "stream",
          "name": "stdout",
          "text": [
            "1/1 [==============================] - 0s 339ms/step\n",
            "1/1 [==============================] - 0s 138ms/step\n",
            "1/1 [==============================] - 0s 117ms/step\n",
            "1/1 [==============================] - 0s 80ms/step\n",
            "1/1 [==============================] - 0s 113ms/step\n",
            "1/1 [==============================] - 0s 129ms/step\n",
            "1/1 [==============================] - 0s 176ms/step\n",
            "1/1 [==============================] - 0s 38ms/step\n",
            "1/1 [==============================] - 0s 25ms/step\n",
            "1/1 [==============================] - 0s 24ms/step\n",
            "1/1 [==============================] - 0s 25ms/step\n",
            "1/1 [==============================] - 0s 29ms/step\n",
            "1/1 [==============================] - 0s 27ms/step\n",
            "1/1 [==============================] - 0s 24ms/step\n",
            "1/1 [==============================] - 0s 23ms/step\n",
            "1/1 [==============================] - 0s 24ms/step\n",
            "1/1 [==============================] - 0s 26ms/step\n",
            "1/1 [==============================] - 0s 25ms/step\n",
            "1/1 [==============================] - 0s 24ms/step\n",
            "1/1 [==============================] - 0s 27ms/step\n",
            "1/1 [==============================] - 0s 29ms/step\n",
            "1/1 [==============================] - 0s 32ms/step\n",
            "1/1 [==============================] - 0s 24ms/step\n",
            "1/1 [==============================] - 0s 24ms/step\n",
            "1/1 [==============================] - 0s 29ms/step\n",
            "1/1 [==============================] - 0s 28ms/step\n",
            "1/1 [==============================] - 0s 24ms/step\n",
            "1/1 [==============================] - 0s 24ms/step\n",
            "1/1 [==============================] - 0s 27ms/step\n",
            "1/1 [==============================] - 0s 25ms/step\n",
            "1/1 [==============================] - 0s 27ms/step\n",
            "1/1 [==============================] - 0s 24ms/step\n",
            "1/1 [==============================] - 0s 27ms/step\n",
            "1/1 [==============================] - 0s 23ms/step\n",
            "1/1 [==============================] - 0s 33ms/step\n",
            "1/1 [==============================] - 0s 23ms/step\n",
            "1/1 [==============================] - 0s 23ms/step\n",
            "1/1 [==============================] - 0s 28ms/step\n",
            "1/1 [==============================] - 0s 25ms/step\n",
            "1/1 [==============================] - 0s 26ms/step\n",
            "1/1 [==============================] - 0s 25ms/step\n",
            "1/1 [==============================] - 0s 25ms/step\n",
            "1/1 [==============================] - 0s 30ms/step\n",
            "1/1 [==============================] - 0s 27ms/step\n",
            "1/1 [==============================] - 0s 28ms/step\n",
            "1/1 [==============================] - 0s 24ms/step\n",
            "1/1 [==============================] - 0s 25ms/step\n",
            "1/1 [==============================] - 0s 36ms/step\n",
            "1/1 [==============================] - 0s 24ms/step\n",
            "1/1 [==============================] - 0s 24ms/step\n",
            "1/1 [==============================] - 0s 23ms/step\n",
            "1/1 [==============================] - 0s 26ms/step\n",
            "1/1 [==============================] - 0s 24ms/step\n",
            "1/1 [==============================] - 0s 25ms/step\n",
            "1/1 [==============================] - 0s 24ms/step\n",
            "1/1 [==============================] - 0s 28ms/step\n",
            "1/1 [==============================] - 0s 24ms/step\n",
            "1/1 [==============================] - 0s 25ms/step\n",
            "1/1 [==============================] - 0s 25ms/step\n",
            "1/1 [==============================] - 0s 27ms/step\n",
            "1/1 [==============================] - 0s 26ms/step\n",
            "1/1 [==============================] - 0s 24ms/step\n",
            "1/1 [==============================] - 0s 26ms/step\n",
            "1/1 [==============================] - 0s 25ms/step\n",
            "1/1 [==============================] - 0s 26ms/step\n",
            "1/1 [==============================] - 0s 27ms/step\n",
            "1/1 [==============================] - 0s 25ms/step\n",
            "1/1 [==============================] - 0s 29ms/step\n",
            "1/1 [==============================] - 0s 25ms/step\n",
            "1/1 [==============================] - 0s 23ms/step\n",
            "1/1 [==============================] - 0s 25ms/step\n",
            "1/1 [==============================] - 0s 25ms/step\n",
            "1/1 [==============================] - 0s 24ms/step\n",
            "1/1 [==============================] - 0s 29ms/step\n",
            "1/1 [==============================] - 0s 26ms/step\n",
            "1/1 [==============================] - 0s 25ms/step\n",
            "1/1 [==============================] - 0s 24ms/step\n",
            "1/1 [==============================] - 0s 24ms/step\n",
            "1/1 [==============================] - 0s 25ms/step\n",
            "1/1 [==============================] - 0s 25ms/step\n",
            "1/1 [==============================] - 0s 25ms/step\n",
            "1/1 [==============================] - 0s 23ms/step\n",
            "1/1 [==============================] - 0s 25ms/step\n",
            "1/1 [==============================] - 0s 28ms/step\n",
            "1/1 [==============================] - 0s 25ms/step\n",
            "1/1 [==============================] - 0s 30ms/step\n",
            "1/1 [==============================] - 0s 24ms/step\n",
            "1/1 [==============================] - 0s 32ms/step\n",
            "1/1 [==============================] - 0s 24ms/step\n",
            "1/1 [==============================] - 0s 24ms/step\n",
            "1/1 [==============================] - 0s 24ms/step\n",
            "1/1 [==============================] - 0s 26ms/step\n",
            "1/1 [==============================] - 0s 27ms/step\n",
            "1/1 [==============================] - 0s 25ms/step\n",
            "1/1 [==============================] - 0s 24ms/step\n"
          ]
        },
        {
          "output_type": "display_data",
          "data": {
            "text/plain": [
              "<Figure size 432x288 with 1 Axes>"
            ],
            "image/png": "[encoded data removed]"
          },
          "metadata": {
            "needs_background": "light"
          }
        }
      ]
    },
    {
      "cell_type": "code",
      "source": [
        "## forecast future values only using the self predictions for making the future predictions.\n",
        "validation_target = Y[-N//2:]\n",
        "# print(len(validation_target))\n",
        "validation_predictions = []  ## empty list need to be appended after making the predictions.\n",
        "\n",
        "## last train input\n",
        "last_x = X[-N//2]  ## 1D array of length T\n",
        "\n",
        "## looping through the while loop\n",
        "while len(validation_predictions) < len(validation_target):\n",
        "  ## predict the model\n",
        "  p = model.predict(last_x.reshape(1,-1))[0,0]\n",
        "\n",
        "  ## update the prediction list\n",
        "  validation_predictions.append(p)\n",
        "\n",
        "  ## make the new input\n",
        "  last_x = np.roll(last_x, -1)\n",
        "  last_x[-1] = p\n",
        "\n",
        "## plot the figure using the target and predictions.\n",
        "plt.plot(validation_target, label = \"Forecast Target\")\n",
        "plt.plot(validation_predictions, label = \"Forecast Predictions\")\n",
        "plt.legend();\n",
        "plt.show()\n"
      ],
      "metadata": {
        "colab": {
          "base_uri": "https://localhost:8080/",
          "height": 1000
        },
        "id": "VQ5sLhnf9SIK",
        "outputId": "2275a8d5-2e42-4101-9251-2ba58a253e7e"
      },
      "execution_count": 24,
      "outputs": [
        {
          "output_type": "stream",
          "name": "stdout",
          "text": [
            "1/1 [==============================] - 0s 27ms/step\n",
            "1/1 [==============================] - 0s 31ms/step\n",
            "1/1 [==============================] - 0s 24ms/step\n",
            "1/1 [==============================] - 0s 25ms/step\n",
            "1/1 [==============================] - 0s 28ms/step\n",
            "1/1 [==============================] - 0s 24ms/step\n",
            "1/1 [==============================] - 0s 24ms/step\n",
            "1/1 [==============================] - 0s 25ms/step\n",
            "1/1 [==============================] - 0s 28ms/step\n",
            "1/1 [==============================] - 0s 24ms/step\n",
            "1/1 [==============================] - 0s 24ms/step\n",
            "1/1 [==============================] - 0s 42ms/step\n",
            "1/1 [==============================] - 0s 24ms/step\n",
            "1/1 [==============================] - 0s 28ms/step\n",
            "1/1 [==============================] - 0s 23ms/step\n",
            "1/1 [==============================] - 0s 24ms/step\n",
            "1/1 [==============================] - 0s 24ms/step\n",
            "1/1 [==============================] - 0s 26ms/step\n",
            "1/1 [==============================] - 0s 23ms/step\n",
            "1/1 [==============================] - 0s 25ms/step\n",
            "1/1 [==============================] - 0s 28ms/step\n",
            "1/1 [==============================] - 0s 31ms/step\n",
            "1/1 [==============================] - 0s 25ms/step\n",
            "1/1 [==============================] - 0s 24ms/step\n",
            "1/1 [==============================] - 0s 26ms/step\n",
            "1/1 [==============================] - 0s 27ms/step\n",
            "1/1 [==============================] - 0s 26ms/step\n",
            "1/1 [==============================] - 0s 24ms/step\n",
            "1/1 [==============================] - 0s 29ms/step\n",
            "1/1 [==============================] - 0s 26ms/step\n",
            "1/1 [==============================] - 0s 25ms/step\n",
            "1/1 [==============================] - 0s 27ms/step\n",
            "1/1 [==============================] - 0s 26ms/step\n",
            "1/1 [==============================] - 0s 26ms/step\n",
            "1/1 [==============================] - 0s 25ms/step\n",
            "1/1 [==============================] - 0s 28ms/step\n",
            "1/1 [==============================] - 0s 26ms/step\n",
            "1/1 [==============================] - 0s 25ms/step\n",
            "1/1 [==============================] - 0s 24ms/step\n",
            "1/1 [==============================] - 0s 24ms/step\n",
            "1/1 [==============================] - 0s 23ms/step\n",
            "1/1 [==============================] - 0s 24ms/step\n",
            "1/1 [==============================] - 0s 32ms/step\n",
            "1/1 [==============================] - 0s 25ms/step\n",
            "1/1 [==============================] - 0s 29ms/step\n",
            "1/1 [==============================] - 0s 28ms/step\n",
            "1/1 [==============================] - 0s 27ms/step\n",
            "1/1 [==============================] - 0s 24ms/step\n",
            "1/1 [==============================] - 0s 25ms/step\n",
            "1/1 [==============================] - 0s 23ms/step\n",
            "1/1 [==============================] - 0s 24ms/step\n",
            "1/1 [==============================] - 0s 25ms/step\n",
            "1/1 [==============================] - 0s 27ms/step\n",
            "1/1 [==============================] - 0s 26ms/step\n",
            "1/1 [==============================] - 0s 26ms/step\n",
            "1/1 [==============================] - 0s 29ms/step\n",
            "1/1 [==============================] - 0s 26ms/step\n",
            "1/1 [==============================] - 0s 25ms/step\n",
            "1/1 [==============================] - 0s 25ms/step\n",
            "1/1 [==============================] - 0s 25ms/step\n",
            "1/1 [==============================] - 0s 24ms/step\n",
            "1/1 [==============================] - 0s 25ms/step\n",
            "1/1 [==============================] - 0s 24ms/step\n",
            "1/1 [==============================] - 0s 27ms/step\n",
            "1/1 [==============================] - 0s 30ms/step\n",
            "1/1 [==============================] - 0s 31ms/step\n",
            "1/1 [==============================] - 0s 27ms/step\n",
            "1/1 [==============================] - 0s 23ms/step\n",
            "1/1 [==============================] - 0s 24ms/step\n",
            "1/1 [==============================] - 0s 25ms/step\n",
            "1/1 [==============================] - 0s 24ms/step\n",
            "1/1 [==============================] - 0s 25ms/step\n",
            "1/1 [==============================] - 0s 30ms/step\n",
            "1/1 [==============================] - 0s 24ms/step\n",
            "1/1 [==============================] - 0s 24ms/step\n",
            "1/1 [==============================] - 0s 24ms/step\n",
            "1/1 [==============================] - 0s 26ms/step\n",
            "1/1 [==============================] - 0s 28ms/step\n",
            "1/1 [==============================] - 0s 24ms/step\n",
            "1/1 [==============================] - 0s 24ms/step\n",
            "1/1 [==============================] - 0s 25ms/step\n",
            "1/1 [==============================] - 0s 26ms/step\n",
            "1/1 [==============================] - 0s 26ms/step\n",
            "1/1 [==============================] - 0s 26ms/step\n",
            "1/1 [==============================] - 0s 24ms/step\n",
            "1/1 [==============================] - 0s 25ms/step\n",
            "1/1 [==============================] - 0s 25ms/step\n",
            "1/1 [==============================] - 0s 33ms/step\n",
            "1/1 [==============================] - 0s 25ms/step\n",
            "1/1 [==============================] - 0s 24ms/step\n",
            "1/1 [==============================] - 0s 26ms/step\n",
            "1/1 [==============================] - 0s 32ms/step\n",
            "1/1 [==============================] - 0s 29ms/step\n",
            "1/1 [==============================] - 0s 26ms/step\n",
            "1/1 [==============================] - 0s 24ms/step\n"
          ]
        },
        {
          "output_type": "display_data",
          "data": {
            "text/plain": [
              "<Figure size 432x288 with 1 Axes>"
            ],
            "image/png": "[encoded data removed]"
          },
          "metadata": {
            "needs_background": "light"
          }
        }
      ]
    },
    {
      "cell_type": "markdown",
      "source": [
        "Here the Situation is the value is repeating.\n",
        "So we don't have a generalized Output. Using any of the Activation Function available."
      ],
      "metadata": {
        "id": "wvC0O41B-Mm6"
      }
    },
    {
      "cell_type": "code",
      "source": [],
      "metadata": {
        "id": "XKXNhr2Z9bFl"
      },
      "execution_count": null,
      "outputs": []
    }
  ]
}