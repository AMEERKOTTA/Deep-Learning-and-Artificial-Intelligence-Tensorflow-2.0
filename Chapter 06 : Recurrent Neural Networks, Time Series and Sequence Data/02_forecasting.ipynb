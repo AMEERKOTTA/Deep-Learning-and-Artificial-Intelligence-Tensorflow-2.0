{
  "nbformat": 4,
  "nbformat_minor": 0,
  "metadata": {
    "colab": {
      "provenance": [],
      "authorship_tag": "ABX9TyOZsbcXx0Y3yAd6/FfPTbtX",
      "include_colab_link": true
    },
    "kernelspec": {
      "name": "python3",
      "display_name": "Python 3"
    },
    "language_info": {
      "name": "python"
    }
  },
  "cells": [
    {
      "cell_type": "markdown",
      "metadata": {
        "id": "view-in-github",
        "colab_type": "text"
      },
      "source": [
        "<a href=\"https://colab.research.google.com/github/AMEERKOTTA/Deep-Learning-and-Artificial-Intelligence-Tensorflow-2.0/blob/main/Chapter%2006%20%3A%20Recurrent%20Neural%20Networks%2C%20Time%20Series%20and%20Sequence%20Data/02_forecasting.ipynb\" target=\"_parent\"><img src=\"https://colab.research.google.com/assets/colab-badge.svg\" alt=\"Open In Colab\"/></a>"
      ]
    },
    {
      "cell_type": "markdown",
      "source": [
        "# **FORECASTING**\n",
        "\n",
        "+ Predicting the next values of a time series.\n",
        "+ Number of Future Steps we want to predict is the Horizon.\n",
        "+ Predict demand for 3-5 days for products manufactured in a factory.\n",
        "+ Weather, hourly weather for 7 days (7x24 = 168) hours.\n",
        "\n",
        "WHERE ARE RNNs?\n",
        "\n",
        "+ What is the Simplest way to do a Forecast of a Time Series?\n",
        "+ Most time series analysis only involves linear regression.\n",
        "+ But, the sequence data is of shape [NxTxD] and linear regression is expects [NxD].\n",
        "+ So, for 1D time series, D=1.\n",
        "+ Then NxTxD = NxTx1 = NxD\n",
        "\n",
        "HOW DO WE FORECAST\n",
        "\n",
        "+ We want to predict the multiple steps ahead.\n",
        "+ If we want to predict three days ahead,\n",
        "+ Use day1, day2, day3 to predict day4, day5, day6.\n",
        "+ So, to predict multiple steps into the future, we have to use our own predictions as inputs."
      ],
      "metadata": {
        "id": "I8_a9x2b_sKA"
      }
    },
    {
      "cell_type": "code",
      "source": [],
      "metadata": {
        "id": "STGO5VMO_vIG"
      },
      "execution_count": null,
      "outputs": []
    }
  ]
}