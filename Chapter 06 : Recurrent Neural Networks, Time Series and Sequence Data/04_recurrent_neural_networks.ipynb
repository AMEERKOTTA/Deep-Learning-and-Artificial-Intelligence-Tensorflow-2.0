{
  "nbformat": 4,
  "nbformat_minor": 0,
  "metadata": {
    "colab": {
      "provenance": [],
      "authorship_tag": "ABX9TyOz1w/zgSw0B2orVVq/v0l6",
      "include_colab_link": true
    },
    "kernelspec": {
      "name": "python3",
      "display_name": "Python 3"
    },
    "language_info": {
      "name": "python"
    }
  },
  "cells": [
    {
      "cell_type": "markdown",
      "metadata": {
        "id": "view-in-github",
        "colab_type": "text"
      },
      "source": [
        "<a href=\"https://colab.research.google.com/github/AMEERKOTTA/Deep-Learning-and-Artificial-Intelligence-Tensorflow-2.0/blob/main/Chapter%2006%20%3A%20Recurrent%20Neural%20Networks%2C%20Time%20Series%20and%20Sequence%20Data/04_recurrent_neural_networks.ipynb\" target=\"_parent\"><img src=\"https://colab.research.google.com/assets/colab-badge.svg\" alt=\"Open In Colab\"/></a>"
      ]
    },
    {
      "cell_type": "markdown",
      "source": [
        "# **RECURRENT NEURAL NETWORKS**\n",
        "\n",
        "+ How to deal with Multi Dimensional Time Series ??\n",
        "+ Why not just Flatten the Data.\n",
        "+ Flatten your TxD time series into a Single Feature Vector.\n",
        "+ Example :- 5 electrodes recording 100 time steps. ie (500 length vector)\n",
        "+ But, lets say D = 100, and T = 10,000.\n",
        "+ Then DxT = 1000000 like 1 million.\n",
        "+ It will take lot of Space.\n",
        "\n",
        "+ So in RNN, to predict the next value, we take advantages of previous value.\n",
        "+ And to make it RNN, Make the hidden features depends on Previous hidden state.\n",
        "+ Here Hidden State is a non-linear function of input and past hidden state.\n",
        "\n",
        "+ In RNN equation, `h(t) is a nonlinear function of h(t-1) and x(t)`.\n",
        "\n",
        "+ RNNs will forecast the next word based on all the previous words. - Much more Powerful.\n",
        "\n",
        "MARKOV MODEL\n",
        "\n",
        "+ the current value depends only on the Immediate Previous Value."
      ],
      "metadata": {
        "id": "0X3NqKncpaXS"
      }
    },
    {
      "cell_type": "code",
      "source": [],
      "metadata": {
        "id": "FqbVejvGpelN"
      },
      "execution_count": null,
      "outputs": []
    }
  ]
}