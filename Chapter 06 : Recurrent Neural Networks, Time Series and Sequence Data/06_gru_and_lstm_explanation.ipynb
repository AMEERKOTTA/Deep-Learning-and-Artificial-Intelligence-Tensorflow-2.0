{
  "nbformat": 4,
  "nbformat_minor": 0,
  "metadata": {
    "colab": {
      "provenance": [],
      "authorship_tag": "ABX9TyOoiWa9Iu6yDqy1GtoWbpnJ",
      "include_colab_link": true
    },
    "kernelspec": {
      "name": "python3",
      "display_name": "Python 3"
    },
    "language_info": {
      "name": "python"
    }
  },
  "cells": [
    {
      "cell_type": "markdown",
      "metadata": {
        "id": "view-in-github",
        "colab_type": "text"
      },
      "source": [
        "<a href=\"https://colab.research.google.com/github/AMEERKOTTA/Deep-Learning-and-Artificial-Intelligence-Tensorflow-2.0/blob/main/Chapter%2006%20%3A%20Recurrent%20Neural%20Networks%2C%20Time%20Series%20and%20Sequence%20Data/06_gru_and_lstm_explanation.ipynb\" target=\"_parent\"><img src=\"https://colab.research.google.com/assets/colab-badge.svg\" alt=\"Open In Colab\"/></a>"
      ]
    },
    {
      "cell_type": "markdown",
      "source": [
        "# **GRU AND LSTM**\n",
        "\n",
        "+ Modern RNN units.\n",
        "    + LSTM - Long Short Term Memory\n",
        "    + GRU - Gated Recurrent Unit.\n",
        "+ Why do we need this fancy RNN units.\n",
        "+ Because, Wxh, the weights are very big in Deep RNN networks.\n",
        "+ We will need the Gradient of Wxh in all Steps from t=0 to t=1.\n",
        "+ The final Gradient will be a function of all these Individual Gradient.\n",
        "+ So, if the Network is Deep.\n",
        "+ Remember ANN, ANN is a big Composite Function.\n",
        "+ Also, ANNs were Vulnerable to Vanishing Gradient.\n",
        "+ The Farther back input Xt, more its gradient Vanishes.\n",
        "+ Also, Simple RNNs cannot learn from inputs too far back.\n",
        "\n",
        "GRUs (Gated Recurrent Units) \n",
        "\n",
        "+ Output is still h(t), depends on h(t-1) and x(t)\n",
        "+ Has gates to remember/forgot each component of h(t-1)\n",
        "+ Simple RNNs have no choice but to eventually forgot, due to Vanishing Gradient.\n",
        "+ We use Binary Classifier (logistic regression neurons) as the gates.\n",
        "\n",
        "LSTMs - Long Short Term Memory Units.\n",
        "\n",
        "+ *Forget Gate : f(t) = Neuron (Binary Classifier)*.\n",
        "+ *Input Gate : i(t) = Neuron (Binary Classifier)*.\n",
        "+ *Output Gate : o(t) = Neuron (Binary Classifier)*.\n",
        "+ *Cell State : c(t) = f(t) * c(t-1) + i(t) * SimpleRNN*.\n",
        "+ *Hidden State : h(t) = o(t) * tanh(c(t))*"
      ],
      "metadata": {
        "id": "qcqakeK53xD3"
      }
    },
    {
      "cell_type": "code",
      "source": [],
      "metadata": {
        "id": "AHY5k5By30Rj"
      },
      "execution_count": null,
      "outputs": []
    }
  ]
}